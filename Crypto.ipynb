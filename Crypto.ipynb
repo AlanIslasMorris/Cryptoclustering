{
  "cells": [
    {
      "cell_type": "code",
      "source": [
        "# Import required libraries and dependencies\n",
        "import pandas as pd\n",
        "import matplotlib.pyplot as plt\n",
        "#import hvplot.pandas\n",
        "from sklearn.cluster import KMeans\n",
        "from sklearn.decomposition import PCA\n",
        "from sklearn.preprocessing import StandardScaler"
      ],
      "outputs": [],
      "execution_count": 1,
      "metadata": {
        "noteable": {},
        "ExecuteTime": {
          "start_time": "2023-08-22T00:25:31.324311+00:00",
          "end_time": "2023-08-22T00:25:31.481193+00:00"
        }
      },
      "id": "ad6a9026"
    },
    {
      "cell_type": "code",
      "source": [
        "# Load the data into a Pandas DataFrame\n",
        "df_market_data = pd.read_csv(\n",
        "    \"crypto_market_data.csv\",\n",
        "    index_col=\"coin_id\")\n",
        "\n",
        "# Display sample data\n",
        "df_market_data.head(10)"
      ],
      "outputs": [
        {
          "output_type": "display_data",
          "data": {
            "application/vnd.dataresource+json": {
              "schema": {
                "fields": [
                  {
                    "name": "coin_id",
                    "type": "string"
                  },
                  {
                    "name": "price_change_percentage_24h",
                    "type": "number"
                  },
                  {
                    "name": "price_change_percentage_7d",
                    "type": "number"
                  },
                  {
                    "name": "price_change_percentage_14d",
                    "type": "number"
                  },
                  {
                    "name": "price_change_percentage_30d",
                    "type": "number"
                  },
                  {
                    "name": "price_change_percentage_60d",
                    "type": "number"
                  },
                  {
                    "name": "price_change_percentage_200d",
                    "type": "number"
                  },
                  {
                    "name": "price_change_percentage_1y",
                    "type": "number"
                  }
                ],
                "primaryKey": [
                  "coin_id"
                ],
                "pandas_version": "1.4.0"
              },
              "data": [
                {
                  "coin_id": "bitcoin",
                  "price_change_percentage_24h": 1.08388,
                  "price_change_percentage_7d": 7.60278,
                  "price_change_percentage_14d": 6.57509,
                  "price_change_percentage_30d": 7.67258,
                  "price_change_percentage_60d": -3.25185,
                  "price_change_percentage_200d": 83.5184,
                  "price_change_percentage_1y": 37.51761
                },
                {
                  "coin_id": "ethereum",
                  "price_change_percentage_24h": 0.22392,
                  "price_change_percentage_7d": 10.38134,
                  "price_change_percentage_14d": 4.80849,
                  "price_change_percentage_30d": 0.13169,
                  "price_change_percentage_60d": -12.8889,
                  "price_change_percentage_200d": 186.77418,
                  "price_change_percentage_1y": 101.96023
                },
                {
                  "coin_id": "tether",
                  "price_change_percentage_24h": -0.21173,
                  "price_change_percentage_7d": 0.04935,
                  "price_change_percentage_14d": 0.0064,
                  "price_change_percentage_30d": -0.04237,
                  "price_change_percentage_60d": 0.28037,
                  "price_change_percentage_200d": -0.00542,
                  "price_change_percentage_1y": 0.01954
                },
                {
                  "coin_id": "ripple",
                  "price_change_percentage_24h": -0.37819,
                  "price_change_percentage_7d": -0.60926,
                  "price_change_percentage_14d": 2.24984,
                  "price_change_percentage_30d": 0.23455,
                  "price_change_percentage_60d": -17.55245,
                  "price_change_percentage_200d": 39.53888,
                  "price_change_percentage_1y": -16.60193
                },
                {
                  "coin_id": "bitcoin-cash",
                  "price_change_percentage_24h": 2.90585,
                  "price_change_percentage_7d": 17.09717,
                  "price_change_percentage_14d": 14.75334,
                  "price_change_percentage_30d": 15.74903,
                  "price_change_percentage_60d": -13.71793,
                  "price_change_percentage_200d": 21.66042,
                  "price_change_percentage_1y": 14.49384
                },
                {
                  "coin_id": "binancecoin",
                  "price_change_percentage_24h": 2.10423,
                  "price_change_percentage_7d": 12.85511,
                  "price_change_percentage_14d": 6.80688,
                  "price_change_percentage_30d": 0.05865,
                  "price_change_percentage_60d": 36.33486,
                  "price_change_percentage_200d": 155.61937,
                  "price_change_percentage_1y": 69.69195
                },
                {
                  "coin_id": "chainlink",
                  "price_change_percentage_24h": -0.23935,
                  "price_change_percentage_7d": 20.69459,
                  "price_change_percentage_14d": 9.30098,
                  "price_change_percentage_30d": -11.21747,
                  "price_change_percentage_60d": -43.69522,
                  "price_change_percentage_200d": 403.22917,
                  "price_change_percentage_1y": 325.13186
                },
                {
                  "coin_id": "cardano",
                  "price_change_percentage_24h": 0.00322,
                  "price_change_percentage_7d": 13.99302,
                  "price_change_percentage_14d": 5.55476,
                  "price_change_percentage_30d": 10.10553,
                  "price_change_percentage_60d": -22.84776,
                  "price_change_percentage_200d": 264.51418,
                  "price_change_percentage_1y": 156.09756
                },
                {
                  "coin_id": "litecoin",
                  "price_change_percentage_24h": -0.06341,
                  "price_change_percentage_7d": 6.60221,
                  "price_change_percentage_14d": 7.28931,
                  "price_change_percentage_30d": 1.21662,
                  "price_change_percentage_60d": -17.2396,
                  "price_change_percentage_200d": 27.49919,
                  "price_change_percentage_1y": -12.66408
                },
                {
                  "coin_id": "bitcoin-cash-sv",
                  "price_change_percentage_24h": 0.9253,
                  "price_change_percentage_7d": 3.29641,
                  "price_change_percentage_14d": -1.86656,
                  "price_change_percentage_30d": 2.88926,
                  "price_change_percentage_60d": -24.87434,
                  "price_change_percentage_200d": 7.42562,
                  "price_change_percentage_1y": 93.73082
                }
              ],
              "datalink": {
                "display_id": "6943d0a2-d77c-4ac9-905e-997a7827ff00"
              }
            }
          },
          "metadata": {
            "application/vnd.dataresource+json": {
              "datalink": {
                "dataframe_info": {
                  "default_index_used": false,
                  "orig_size_bytes": 640,
                  "orig_num_rows": 10,
                  "orig_num_cols": 7,
                  "truncated_string_columns": [],
                  "truncated_size_bytes": 640,
                  "truncated_num_rows": 10,
                  "truncated_num_cols": 7
                },
                "dx_settings": {
                  "NUM_PAST_SAMPLES_TRACKED": 3,
                  "ENABLE_DATALINK": true,
                  "DISPLAY_MODE": "simple",
                  "GENERATE_DEX_METADATA": false,
                  "STRINGIFY_INDEX_VALUES": false,
                  "ALLOW_NOTEABLE_ATTRS": true,
                  "DISPLAY_MAX_COLUMNS": 100,
                  "HTML_TABLE_SCHEMA": false,
                  "SAMPLING_FACTOR": 0.1,
                  "LOG_LEVEL": 30,
                  "ENABLE_ASSIGNMENT": true,
                  "FLATTEN_INDEX_VALUES": false,
                  "DEV_MODE": false,
                  "COLUMN_SAMPLING_METHOD": "outer",
                  "FLATTEN_COLUMN_VALUES": true,
                  "DISPLAY_MAX_ROWS": 50000,
                  "ROW_SAMPLING_METHOD": "random",
                  "RANDOM_STATE": 12648430,
                  "DB_LOCATION": ":memory:",
                  "STRINGIFY_COLUMN_VALUES": true,
                  "SAMPLING_METHOD": "random",
                  "MAX_STRING_LENGTH": 250,
                  "MAX_RENDER_SIZE_BYTES": 104857600,
                  "RESET_INDEX_VALUES": false
                },
                "display_id": "6943d0a2-d77c-4ac9-905e-997a7827ff00",
                "applied_filters": [],
                "sample_history": [],
                "sampling_time": "2023-08-22T00:25:31.652893",
                "variable_name": "unk_dataframe_1853864089c24ca3bf036cb694a9c7aa",
                "user_variable_name": null
              },
              "display_id": "6943d0a2-d77c-4ac9-905e-997a7827ff00"
            }
          }
        }
      ],
      "execution_count": 2,
      "metadata": {
        "noteable": {},
        "ExecuteTime": {
          "start_time": "2023-08-22T00:25:31.489989+00:00",
          "end_time": "2023-08-22T00:25:31.818706+00:00"
        },
        "datalink": {
          "7509596e-f0de-4a1d-b6f4-ade54782f5bd": {
            "applied_filters": [],
            "dataframe_info": {
              "default_index_used": false,
              "orig_num_cols": 7,
              "orig_num_rows": 10,
              "orig_size_bytes": 640,
              "truncated_num_cols": 7,
              "truncated_num_rows": 10,
              "truncated_size_bytes": 640,
              "truncated_string_columns": []
            },
            "display_id": "7509596e-f0de-4a1d-b6f4-ade54782f5bd",
            "dx_settings": {
              "ALLOW_NOTEABLE_ATTRS": true,
              "COLUMN_SAMPLING_METHOD": "outer",
              "DB_LOCATION": ":memory:",
              "DEV_MODE": false,
              "DISPLAY_MAX_COLUMNS": 100,
              "DISPLAY_MAX_ROWS": 50000,
              "DISPLAY_MODE": "simple",
              "ENABLE_ASSIGNMENT": true,
              "ENABLE_DATALINK": true,
              "FLATTEN_COLUMN_VALUES": true,
              "FLATTEN_INDEX_VALUES": false,
              "GENERATE_DEX_METADATA": false,
              "HTML_TABLE_SCHEMA": false,
              "LOG_LEVEL": 30,
              "MAX_RENDER_SIZE_BYTES": 104857600,
              "MAX_STRING_LENGTH": 250,
              "NUM_PAST_SAMPLES_TRACKED": 3,
              "RANDOM_STATE": 12648430,
              "RESET_INDEX_VALUES": false,
              "ROW_SAMPLING_METHOD": "random",
              "SAMPLING_FACTOR": 0.1,
              "SAMPLING_METHOD": "random",
              "STRINGIFY_COLUMN_VALUES": true,
              "STRINGIFY_INDEX_VALUES": false
            },
            "sample_history": [],
            "sampling_time": "2023-08-08T02:47:04.447155",
            "user_variable_name": null,
            "variable_name": "unk_dataframe_6fcf01dc79eb42feab93d730ff25913e"
          },
          "3a81b9fb-4c06-426c-915f-127744530598": {
            "applied_filters": [],
            "dataframe_info": {
              "default_index_used": false,
              "orig_num_cols": 7,
              "orig_num_rows": 10,
              "orig_size_bytes": 640,
              "truncated_num_cols": 7,
              "truncated_num_rows": 10,
              "truncated_size_bytes": 640,
              "truncated_string_columns": []
            },
            "display_id": "3a81b9fb-4c06-426c-915f-127744530598",
            "dx_settings": {
              "ALLOW_NOTEABLE_ATTRS": true,
              "COLUMN_SAMPLING_METHOD": "outer",
              "DB_LOCATION": ":memory:",
              "DEV_MODE": false,
              "DISPLAY_MAX_COLUMNS": 100,
              "DISPLAY_MAX_ROWS": 50000,
              "DISPLAY_MODE": "simple",
              "ENABLE_ASSIGNMENT": true,
              "ENABLE_DATALINK": true,
              "FLATTEN_COLUMN_VALUES": true,
              "FLATTEN_INDEX_VALUES": false,
              "GENERATE_DEX_METADATA": false,
              "HTML_TABLE_SCHEMA": false,
              "LOG_LEVEL": 30,
              "MAX_RENDER_SIZE_BYTES": 104857600,
              "MAX_STRING_LENGTH": 250,
              "NUM_PAST_SAMPLES_TRACKED": 3,
              "RANDOM_STATE": 12648430,
              "RESET_INDEX_VALUES": false,
              "ROW_SAMPLING_METHOD": "random",
              "SAMPLING_FACTOR": 0.1,
              "SAMPLING_METHOD": "random",
              "STRINGIFY_COLUMN_VALUES": true,
              "STRINGIFY_INDEX_VALUES": false
            },
            "sample_history": [],
            "sampling_time": "2023-08-08T20:23:02.115039",
            "user_variable_name": null,
            "variable_name": "unk_dataframe_de3dccb2a9ec46e08071496eb3a60cd8"
          },
          "6dee3b52-ab08-4495-a906-de2446ee7841": {
            "applied_filters": [],
            "dataframe_info": {
              "default_index_used": false,
              "orig_num_cols": 7,
              "orig_num_rows": 10,
              "orig_size_bytes": 640,
              "truncated_num_cols": 7,
              "truncated_num_rows": 10,
              "truncated_size_bytes": 640,
              "truncated_string_columns": []
            },
            "display_id": "6dee3b52-ab08-4495-a906-de2446ee7841",
            "dx_settings": {
              "ALLOW_NOTEABLE_ATTRS": true,
              "COLUMN_SAMPLING_METHOD": "outer",
              "DB_LOCATION": ":memory:",
              "DEV_MODE": false,
              "DISPLAY_MAX_COLUMNS": 100,
              "DISPLAY_MAX_ROWS": 50000,
              "DISPLAY_MODE": "simple",
              "ENABLE_ASSIGNMENT": true,
              "ENABLE_DATALINK": true,
              "FLATTEN_COLUMN_VALUES": true,
              "FLATTEN_INDEX_VALUES": false,
              "GENERATE_DEX_METADATA": false,
              "HTML_TABLE_SCHEMA": false,
              "LOG_LEVEL": 30,
              "MAX_RENDER_SIZE_BYTES": 104857600,
              "MAX_STRING_LENGTH": 250,
              "NUM_PAST_SAMPLES_TRACKED": 3,
              "RANDOM_STATE": 12648430,
              "RESET_INDEX_VALUES": false,
              "ROW_SAMPLING_METHOD": "random",
              "SAMPLING_FACTOR": 0.1,
              "SAMPLING_METHOD": "random",
              "STRINGIFY_COLUMN_VALUES": true,
              "STRINGIFY_INDEX_VALUES": false
            },
            "sample_history": [],
            "sampling_time": "2023-08-20T05:21:38.899887",
            "user_variable_name": null,
            "variable_name": "unk_dataframe_3add8f5d7a0949c5989fb122899d05b5"
          },
          "335ac02b-be8d-4a1f-9dd4-30a4c8c79b8f": {
            "applied_filters": [],
            "dataframe_info": {
              "default_index_used": false,
              "orig_num_cols": 7,
              "orig_num_rows": 10,
              "orig_size_bytes": 640,
              "truncated_num_cols": 7,
              "truncated_num_rows": 10,
              "truncated_size_bytes": 640,
              "truncated_string_columns": []
            },
            "display_id": "335ac02b-be8d-4a1f-9dd4-30a4c8c79b8f",
            "dx_settings": {
              "ALLOW_NOTEABLE_ATTRS": true,
              "COLUMN_SAMPLING_METHOD": "outer",
              "DB_LOCATION": ":memory:",
              "DEV_MODE": false,
              "DISPLAY_MAX_COLUMNS": 100,
              "DISPLAY_MAX_ROWS": 50000,
              "DISPLAY_MODE": "simple",
              "ENABLE_ASSIGNMENT": true,
              "ENABLE_DATALINK": true,
              "FLATTEN_COLUMN_VALUES": true,
              "FLATTEN_INDEX_VALUES": false,
              "GENERATE_DEX_METADATA": false,
              "HTML_TABLE_SCHEMA": false,
              "LOG_LEVEL": 30,
              "MAX_RENDER_SIZE_BYTES": 104857600,
              "MAX_STRING_LENGTH": 250,
              "NUM_PAST_SAMPLES_TRACKED": 3,
              "RANDOM_STATE": 12648430,
              "RESET_INDEX_VALUES": false,
              "ROW_SAMPLING_METHOD": "random",
              "SAMPLING_FACTOR": 0.1,
              "SAMPLING_METHOD": "random",
              "STRINGIFY_COLUMN_VALUES": true,
              "STRINGIFY_INDEX_VALUES": false
            },
            "sample_history": [],
            "sampling_time": "2023-08-20T13:59:16.583535",
            "user_variable_name": null,
            "variable_name": "unk_dataframe_8e8f0eead879418d9d5b509875b0a167"
          },
          "10d72902-1be5-45c3-a8b1-de5f09562c2c": {
            "applied_filters": [],
            "dataframe_info": {
              "default_index_used": false,
              "orig_num_cols": 7,
              "orig_num_rows": 10,
              "orig_size_bytes": 640,
              "truncated_num_cols": 7,
              "truncated_num_rows": 10,
              "truncated_size_bytes": 640,
              "truncated_string_columns": []
            },
            "display_id": "10d72902-1be5-45c3-a8b1-de5f09562c2c",
            "dx_settings": {
              "ALLOW_NOTEABLE_ATTRS": true,
              "COLUMN_SAMPLING_METHOD": "outer",
              "DB_LOCATION": ":memory:",
              "DEV_MODE": false,
              "DISPLAY_MAX_COLUMNS": 100,
              "DISPLAY_MAX_ROWS": 50000,
              "DISPLAY_MODE": "simple",
              "ENABLE_ASSIGNMENT": true,
              "ENABLE_DATALINK": true,
              "FLATTEN_COLUMN_VALUES": true,
              "FLATTEN_INDEX_VALUES": false,
              "GENERATE_DEX_METADATA": false,
              "HTML_TABLE_SCHEMA": false,
              "LOG_LEVEL": 30,
              "MAX_RENDER_SIZE_BYTES": 104857600,
              "MAX_STRING_LENGTH": 250,
              "NUM_PAST_SAMPLES_TRACKED": 3,
              "RANDOM_STATE": 12648430,
              "RESET_INDEX_VALUES": false,
              "ROW_SAMPLING_METHOD": "random",
              "SAMPLING_FACTOR": 0.1,
              "SAMPLING_METHOD": "random",
              "STRINGIFY_COLUMN_VALUES": true,
              "STRINGIFY_INDEX_VALUES": false
            },
            "sample_history": [],
            "sampling_time": "2023-08-20T14:05:57.414912",
            "user_variable_name": null,
            "variable_name": "unk_dataframe_b345157b35df4bd1a26efb60569af700"
          },
          "baca7471-3ccd-40c0-b4ec-591a1dfdf7a2": {
            "applied_filters": [],
            "dataframe_info": {
              "default_index_used": false,
              "orig_num_cols": 7,
              "orig_num_rows": 10,
              "orig_size_bytes": 640,
              "truncated_num_cols": 7,
              "truncated_num_rows": 10,
              "truncated_size_bytes": 640,
              "truncated_string_columns": []
            },
            "display_id": "baca7471-3ccd-40c0-b4ec-591a1dfdf7a2",
            "dx_settings": {
              "ALLOW_NOTEABLE_ATTRS": true,
              "COLUMN_SAMPLING_METHOD": "outer",
              "DB_LOCATION": ":memory:",
              "DEV_MODE": false,
              "DISPLAY_MAX_COLUMNS": 100,
              "DISPLAY_MAX_ROWS": 50000,
              "DISPLAY_MODE": "simple",
              "ENABLE_ASSIGNMENT": true,
              "ENABLE_DATALINK": true,
              "FLATTEN_COLUMN_VALUES": true,
              "FLATTEN_INDEX_VALUES": false,
              "GENERATE_DEX_METADATA": false,
              "HTML_TABLE_SCHEMA": false,
              "LOG_LEVEL": 30,
              "MAX_RENDER_SIZE_BYTES": 104857600,
              "MAX_STRING_LENGTH": 250,
              "NUM_PAST_SAMPLES_TRACKED": 3,
              "RANDOM_STATE": 12648430,
              "RESET_INDEX_VALUES": false,
              "ROW_SAMPLING_METHOD": "random",
              "SAMPLING_FACTOR": 0.1,
              "SAMPLING_METHOD": "random",
              "STRINGIFY_COLUMN_VALUES": true,
              "STRINGIFY_INDEX_VALUES": false
            },
            "sample_history": [],
            "sampling_time": "2023-08-20T14:49:47.504202",
            "user_variable_name": null,
            "variable_name": "unk_dataframe_51a9cbdbe50c4c7986c254b866a3cfdc"
          },
          "40a07ea7-3708-4433-93e1-6d7bf2a04a04": {
            "applied_filters": [],
            "dataframe_info": {
              "default_index_used": false,
              "orig_num_cols": 7,
              "orig_num_rows": 10,
              "orig_size_bytes": 640,
              "truncated_num_cols": 7,
              "truncated_num_rows": 10,
              "truncated_size_bytes": 640,
              "truncated_string_columns": []
            },
            "display_id": "40a07ea7-3708-4433-93e1-6d7bf2a04a04",
            "dx_settings": {
              "ALLOW_NOTEABLE_ATTRS": true,
              "COLUMN_SAMPLING_METHOD": "outer",
              "DB_LOCATION": ":memory:",
              "DEV_MODE": false,
              "DISPLAY_MAX_COLUMNS": 100,
              "DISPLAY_MAX_ROWS": 50000,
              "DISPLAY_MODE": "simple",
              "ENABLE_ASSIGNMENT": true,
              "ENABLE_DATALINK": true,
              "FLATTEN_COLUMN_VALUES": true,
              "FLATTEN_INDEX_VALUES": false,
              "GENERATE_DEX_METADATA": false,
              "HTML_TABLE_SCHEMA": false,
              "LOG_LEVEL": 30,
              "MAX_RENDER_SIZE_BYTES": 104857600,
              "MAX_STRING_LENGTH": 250,
              "NUM_PAST_SAMPLES_TRACKED": 3,
              "RANDOM_STATE": 12648430,
              "RESET_INDEX_VALUES": false,
              "ROW_SAMPLING_METHOD": "random",
              "SAMPLING_FACTOR": 0.1,
              "SAMPLING_METHOD": "random",
              "STRINGIFY_COLUMN_VALUES": true,
              "STRINGIFY_INDEX_VALUES": false
            },
            "sample_history": [],
            "sampling_time": "2023-08-21T01:33:22.254953",
            "user_variable_name": null,
            "variable_name": "unk_dataframe_e312bf5dafb843c9bf0c2fe80646a921"
          },
          "b6c89e31-1fe0-44a8-889d-e5fe06dd0426": {
            "applied_filters": [],
            "dataframe_info": {
              "default_index_used": false,
              "orig_num_cols": 7,
              "orig_num_rows": 10,
              "orig_size_bytes": 640,
              "truncated_num_cols": 7,
              "truncated_num_rows": 10,
              "truncated_size_bytes": 640,
              "truncated_string_columns": []
            },
            "display_id": "b6c89e31-1fe0-44a8-889d-e5fe06dd0426",
            "dx_settings": {
              "ALLOW_NOTEABLE_ATTRS": true,
              "COLUMN_SAMPLING_METHOD": "outer",
              "DB_LOCATION": ":memory:",
              "DEV_MODE": false,
              "DISPLAY_MAX_COLUMNS": 100,
              "DISPLAY_MAX_ROWS": 50000,
              "DISPLAY_MODE": "simple",
              "ENABLE_ASSIGNMENT": true,
              "ENABLE_DATALINK": true,
              "FLATTEN_COLUMN_VALUES": true,
              "FLATTEN_INDEX_VALUES": false,
              "GENERATE_DEX_METADATA": false,
              "HTML_TABLE_SCHEMA": false,
              "LOG_LEVEL": 30,
              "MAX_RENDER_SIZE_BYTES": 104857600,
              "MAX_STRING_LENGTH": 250,
              "NUM_PAST_SAMPLES_TRACKED": 3,
              "RANDOM_STATE": 12648430,
              "RESET_INDEX_VALUES": false,
              "ROW_SAMPLING_METHOD": "random",
              "SAMPLING_FACTOR": 0.1,
              "SAMPLING_METHOD": "random",
              "STRINGIFY_COLUMN_VALUES": true,
              "STRINGIFY_INDEX_VALUES": false
            },
            "sample_history": [],
            "sampling_time": "2023-08-21T23:41:34.164493",
            "user_variable_name": null,
            "variable_name": "unk_dataframe_5bc9a7b71a1b487498c8396fdbe13a61"
          },
          "c2061378-a8a5-402c-892e-1f0f4b833801": {
            "dataframe_info": {
              "default_index_used": false,
              "orig_size_bytes": 640,
              "orig_num_rows": 10,
              "orig_num_cols": 7,
              "truncated_string_columns": [],
              "truncated_size_bytes": 640,
              "truncated_num_rows": 10,
              "truncated_num_cols": 7
            },
            "dx_settings": {
              "LOG_LEVEL": 30,
              "DEV_MODE": false,
              "DISPLAY_MAX_ROWS": 50000,
              "DISPLAY_MAX_COLUMNS": 100,
              "HTML_TABLE_SCHEMA": false,
              "MAX_RENDER_SIZE_BYTES": 104857600,
              "MAX_STRING_LENGTH": 250,
              "SAMPLING_FACTOR": 0.1,
              "DISPLAY_MODE": "simple",
              "SAMPLING_METHOD": "random",
              "COLUMN_SAMPLING_METHOD": "outer",
              "ROW_SAMPLING_METHOD": "random",
              "RANDOM_STATE": 12648430,
              "RESET_INDEX_VALUES": false,
              "FLATTEN_INDEX_VALUES": false,
              "FLATTEN_COLUMN_VALUES": true,
              "STRINGIFY_INDEX_VALUES": false,
              "STRINGIFY_COLUMN_VALUES": true,
              "ENABLE_DATALINK": true,
              "ENABLE_ASSIGNMENT": true,
              "NUM_PAST_SAMPLES_TRACKED": 3,
              "DB_LOCATION": ":memory:",
              "GENERATE_DEX_METADATA": false,
              "ALLOW_NOTEABLE_ATTRS": true
            },
            "display_id": "c2061378-a8a5-402c-892e-1f0f4b833801",
            "applied_filters": [],
            "sample_history": [],
            "sampling_time": "2023-08-21T23:56:13.022880",
            "variable_name": "unk_dataframe_4c836a9f3ab8443e96fb1594294db063",
            "user_variable_name": null
          },
          "23020ce3-f05c-4389-8684-881b79d231ee": {
            "dataframe_info": {
              "default_index_used": false,
              "orig_size_bytes": 640,
              "orig_num_rows": 10,
              "orig_num_cols": 7,
              "truncated_string_columns": [],
              "truncated_size_bytes": 640,
              "truncated_num_rows": 10,
              "truncated_num_cols": 7
            },
            "dx_settings": {
              "LOG_LEVEL": 30,
              "DEV_MODE": false,
              "DISPLAY_MAX_ROWS": 50000,
              "DISPLAY_MAX_COLUMNS": 100,
              "HTML_TABLE_SCHEMA": false,
              "MAX_RENDER_SIZE_BYTES": 104857600,
              "MAX_STRING_LENGTH": 250,
              "SAMPLING_FACTOR": 0.1,
              "DISPLAY_MODE": "simple",
              "SAMPLING_METHOD": "random",
              "COLUMN_SAMPLING_METHOD": "outer",
              "ROW_SAMPLING_METHOD": "random",
              "RANDOM_STATE": 12648430,
              "RESET_INDEX_VALUES": false,
              "FLATTEN_INDEX_VALUES": false,
              "FLATTEN_COLUMN_VALUES": true,
              "STRINGIFY_INDEX_VALUES": false,
              "STRINGIFY_COLUMN_VALUES": true,
              "ENABLE_DATALINK": true,
              "ENABLE_ASSIGNMENT": true,
              "NUM_PAST_SAMPLES_TRACKED": 3,
              "DB_LOCATION": ":memory:",
              "GENERATE_DEX_METADATA": false,
              "ALLOW_NOTEABLE_ATTRS": true
            },
            "display_id": "23020ce3-f05c-4389-8684-881b79d231ee",
            "applied_filters": [],
            "sample_history": [],
            "sampling_time": "2023-08-22T00:01:03.945483",
            "variable_name": "unk_dataframe_57087563905a4889a42bc5ff49f5810f",
            "user_variable_name": null
          },
          "00175dd9-b0f1-41a4-8a3f-a759d437f43c": {
            "dataframe_info": {
              "default_index_used": false,
              "orig_size_bytes": 640,
              "orig_num_rows": 10,
              "orig_num_cols": 7,
              "truncated_string_columns": [],
              "truncated_size_bytes": 640,
              "truncated_num_rows": 10,
              "truncated_num_cols": 7
            },
            "dx_settings": {
              "LOG_LEVEL": 30,
              "DEV_MODE": false,
              "DISPLAY_MAX_ROWS": 50000,
              "DISPLAY_MAX_COLUMNS": 100,
              "HTML_TABLE_SCHEMA": false,
              "MAX_RENDER_SIZE_BYTES": 104857600,
              "MAX_STRING_LENGTH": 250,
              "SAMPLING_FACTOR": 0.1,
              "DISPLAY_MODE": "simple",
              "SAMPLING_METHOD": "random",
              "COLUMN_SAMPLING_METHOD": "outer",
              "ROW_SAMPLING_METHOD": "random",
              "RANDOM_STATE": 12648430,
              "RESET_INDEX_VALUES": false,
              "FLATTEN_INDEX_VALUES": false,
              "FLATTEN_COLUMN_VALUES": true,
              "STRINGIFY_INDEX_VALUES": false,
              "STRINGIFY_COLUMN_VALUES": true,
              "ENABLE_DATALINK": true,
              "ENABLE_ASSIGNMENT": true,
              "NUM_PAST_SAMPLES_TRACKED": 3,
              "DB_LOCATION": ":memory:",
              "GENERATE_DEX_METADATA": false,
              "ALLOW_NOTEABLE_ATTRS": true
            },
            "display_id": "00175dd9-b0f1-41a4-8a3f-a759d437f43c",
            "applied_filters": [],
            "sample_history": [],
            "sampling_time": "2023-08-22T00:13:12.311208",
            "variable_name": "unk_dataframe_8bdbad02899d48a8901fa635e8fac452",
            "user_variable_name": null
          },
          "cbd9e346-a6fa-4b17-8136-3c15b5d8f009": {
            "dataframe_info": {
              "default_index_used": false,
              "orig_size_bytes": 640,
              "orig_num_rows": 10,
              "orig_num_cols": 7,
              "truncated_string_columns": [],
              "truncated_size_bytes": 640,
              "truncated_num_rows": 10,
              "truncated_num_cols": 7
            },
            "dx_settings": {
              "LOG_LEVEL": 30,
              "DEV_MODE": false,
              "DISPLAY_MAX_ROWS": 50000,
              "DISPLAY_MAX_COLUMNS": 100,
              "HTML_TABLE_SCHEMA": false,
              "MAX_RENDER_SIZE_BYTES": 104857600,
              "MAX_STRING_LENGTH": 250,
              "SAMPLING_FACTOR": 0.1,
              "DISPLAY_MODE": "simple",
              "SAMPLING_METHOD": "random",
              "COLUMN_SAMPLING_METHOD": "outer",
              "ROW_SAMPLING_METHOD": "random",
              "RANDOM_STATE": 12648430,
              "RESET_INDEX_VALUES": false,
              "FLATTEN_INDEX_VALUES": false,
              "FLATTEN_COLUMN_VALUES": true,
              "STRINGIFY_INDEX_VALUES": false,
              "STRINGIFY_COLUMN_VALUES": true,
              "ENABLE_DATALINK": true,
              "ENABLE_ASSIGNMENT": true,
              "NUM_PAST_SAMPLES_TRACKED": 3,
              "DB_LOCATION": ":memory:",
              "GENERATE_DEX_METADATA": false,
              "ALLOW_NOTEABLE_ATTRS": true
            },
            "display_id": "cbd9e346-a6fa-4b17-8136-3c15b5d8f009",
            "applied_filters": [],
            "sample_history": [],
            "sampling_time": "2023-08-22T00:20:23.500932",
            "variable_name": "unk_dataframe_0c437c3e0df54e708bab8d1df9cc4e9a",
            "user_variable_name": null
          },
          "6943d0a2-d77c-4ac9-905e-997a7827ff00": {
            "dataframe_info": {
              "default_index_used": false,
              "orig_size_bytes": 640,
              "orig_num_rows": 10,
              "orig_num_cols": 7,
              "truncated_string_columns": [],
              "truncated_size_bytes": 640,
              "truncated_num_rows": 10,
              "truncated_num_cols": 7
            },
            "dx_settings": {
              "LOG_LEVEL": 30,
              "DEV_MODE": false,
              "DISPLAY_MAX_ROWS": 50000,
              "DISPLAY_MAX_COLUMNS": 100,
              "HTML_TABLE_SCHEMA": false,
              "MAX_RENDER_SIZE_BYTES": 104857600,
              "MAX_STRING_LENGTH": 250,
              "SAMPLING_FACTOR": 0.1,
              "DISPLAY_MODE": "simple",
              "SAMPLING_METHOD": "random",
              "COLUMN_SAMPLING_METHOD": "outer",
              "ROW_SAMPLING_METHOD": "random",
              "RANDOM_STATE": 12648430,
              "RESET_INDEX_VALUES": false,
              "FLATTEN_INDEX_VALUES": false,
              "FLATTEN_COLUMN_VALUES": true,
              "STRINGIFY_INDEX_VALUES": false,
              "STRINGIFY_COLUMN_VALUES": true,
              "ENABLE_DATALINK": true,
              "ENABLE_ASSIGNMENT": true,
              "NUM_PAST_SAMPLES_TRACKED": 3,
              "DB_LOCATION": ":memory:",
              "GENERATE_DEX_METADATA": false,
              "ALLOW_NOTEABLE_ATTRS": true
            },
            "display_id": "6943d0a2-d77c-4ac9-905e-997a7827ff00",
            "applied_filters": [],
            "sample_history": [],
            "sampling_time": "2023-08-22T00:25:31.652893",
            "variable_name": "unk_dataframe_1853864089c24ca3bf036cb694a9c7aa",
            "user_variable_name": null
          }
        }
      },
      "id": "d6aa4fa9"
    },
    {
      "cell_type": "code",
      "source": [
        "# Generate summary statistics\n",
        "df_market_data.describe()"
      ],
      "outputs": [
        {
          "output_type": "display_data",
          "data": {
            "application/vnd.dataresource+json": {
              "schema": {
                "fields": [
                  {
                    "name": "index",
                    "type": "string"
                  },
                  {
                    "name": "price_change_percentage_24h",
                    "type": "number"
                  },
                  {
                    "name": "price_change_percentage_7d",
                    "type": "number"
                  },
                  {
                    "name": "price_change_percentage_14d",
                    "type": "number"
                  },
                  {
                    "name": "price_change_percentage_30d",
                    "type": "number"
                  },
                  {
                    "name": "price_change_percentage_60d",
                    "type": "number"
                  },
                  {
                    "name": "price_change_percentage_200d",
                    "type": "number"
                  },
                  {
                    "name": "price_change_percentage_1y",
                    "type": "number"
                  }
                ],
                "primaryKey": [
                  "index"
                ],
                "pandas_version": "1.4.0"
              },
              "data": [
                {
                  "index": "count",
                  "price_change_percentage_24h": 41,
                  "price_change_percentage_7d": 41,
                  "price_change_percentage_14d": 41,
                  "price_change_percentage_30d": 41,
                  "price_change_percentage_60d": 41,
                  "price_change_percentage_200d": 41,
                  "price_change_percentage_1y": 41
                },
                {
                  "index": "mean",
                  "price_change_percentage_24h": -0.26968634146341464,
                  "price_change_percentage_7d": 4.4971473170731695,
                  "price_change_percentage_14d": 0.1857870731707316,
                  "price_change_percentage_30d": 1.5456934146341463,
                  "price_change_percentage_60d": -0.09411853658536533,
                  "price_change_percentage_200d": 236.53743170731713,
                  "price_change_percentage_1y": 347.66795560975606
                },
                {
                  "index": "std",
                  "price_change_percentage_24h": 2.694793195748754,
                  "price_change_percentage_7d": 6.3752182207337125,
                  "price_change_percentage_14d": 8.376939346311767,
                  "price_change_percentage_30d": 26.344217948774418,
                  "price_change_percentage_60d": 47.365803177672845,
                  "price_change_percentage_200d": 435.2253043316732,
                  "price_change_percentage_1y": 1247.842884332873
                },
                {
                  "index": "min",
                  "price_change_percentage_24h": -13.52786,
                  "price_change_percentage_7d": -6.09456,
                  "price_change_percentage_14d": -18.1589,
                  "price_change_percentage_30d": -34.70548,
                  "price_change_percentage_60d": -44.82248,
                  "price_change_percentage_200d": -0.3921,
                  "price_change_percentage_1y": -17.56753
                },
                {
                  "index": "25%",
                  "price_change_percentage_24h": -0.60897,
                  "price_change_percentage_7d": 0.04726,
                  "price_change_percentage_14d": -5.02662,
                  "price_change_percentage_30d": -10.43847,
                  "price_change_percentage_60d": -25.90799,
                  "price_change_percentage_200d": 21.66042,
                  "price_change_percentage_1y": 0.40617
                },
                {
                  "index": "50%",
                  "price_change_percentage_24h": -0.06341,
                  "price_change_percentage_7d": 3.29641,
                  "price_change_percentage_14d": 0.10974,
                  "price_change_percentage_30d": -0.04237,
                  "price_change_percentage_60d": -7.54455,
                  "price_change_percentage_200d": 83.9052,
                  "price_change_percentage_1y": 69.69195
                },
                {
                  "index": "75%",
                  "price_change_percentage_24h": 0.61209,
                  "price_change_percentage_7d": 7.60278,
                  "price_change_percentage_14d": 5.51074,
                  "price_change_percentage_30d": 4.57813,
                  "price_change_percentage_60d": 0.65726,
                  "price_change_percentage_200d": 216.17761,
                  "price_change_percentage_1y": 168.37251
                },
                {
                  "index": "max",
                  "price_change_percentage_24h": 4.84033,
                  "price_change_percentage_7d": 20.69459,
                  "price_change_percentage_14d": 24.23919,
                  "price_change_percentage_30d": 140.7957,
                  "price_change_percentage_60d": 223.06437,
                  "price_change_percentage_200d": 2227.92782,
                  "price_change_percentage_1y": 7852.0897
                }
              ],
              "datalink": {
                "display_id": "52524611-bcbb-41ae-a10b-9abb124ae2ed"
              }
            }
          },
          "metadata": {
            "application/vnd.dataresource+json": {
              "datalink": {
                "dataframe_info": {
                  "default_index_used": false,
                  "orig_size_bytes": 512,
                  "orig_num_rows": 8,
                  "orig_num_cols": 7,
                  "truncated_string_columns": [],
                  "truncated_size_bytes": 512,
                  "truncated_num_rows": 8,
                  "truncated_num_cols": 7
                },
                "dx_settings": {
                  "NUM_PAST_SAMPLES_TRACKED": 3,
                  "ENABLE_DATALINK": true,
                  "DISPLAY_MODE": "simple",
                  "GENERATE_DEX_METADATA": false,
                  "STRINGIFY_INDEX_VALUES": false,
                  "ALLOW_NOTEABLE_ATTRS": true,
                  "DISPLAY_MAX_COLUMNS": 100,
                  "HTML_TABLE_SCHEMA": false,
                  "SAMPLING_FACTOR": 0.1,
                  "LOG_LEVEL": 30,
                  "ENABLE_ASSIGNMENT": true,
                  "FLATTEN_INDEX_VALUES": false,
                  "DEV_MODE": false,
                  "COLUMN_SAMPLING_METHOD": "outer",
                  "FLATTEN_COLUMN_VALUES": true,
                  "DISPLAY_MAX_ROWS": 50000,
                  "ROW_SAMPLING_METHOD": "random",
                  "RANDOM_STATE": 12648430,
                  "DB_LOCATION": ":memory:",
                  "STRINGIFY_COLUMN_VALUES": true,
                  "SAMPLING_METHOD": "random",
                  "MAX_STRING_LENGTH": 250,
                  "MAX_RENDER_SIZE_BYTES": 104857600,
                  "RESET_INDEX_VALUES": false
                },
                "display_id": "52524611-bcbb-41ae-a10b-9abb124ae2ed",
                "applied_filters": [],
                "sample_history": [],
                "sampling_time": "2023-08-22T00:25:32.025849",
                "variable_name": "unk_dataframe_e7338bb90f814a1c88e9b8a8fb17ab86",
                "user_variable_name": null
              },
              "display_id": "52524611-bcbb-41ae-a10b-9abb124ae2ed"
            }
          }
        }
      ],
      "execution_count": 3,
      "metadata": {
        "noteable": {},
        "ExecuteTime": {
          "start_time": "2023-08-22T00:25:31.848864+00:00",
          "end_time": "2023-08-22T00:25:32.191934+00:00"
        },
        "datalink": {
          "5ee6afe1-d0a8-40dd-90ea-f9e640d67b1d": {
            "applied_filters": [],
            "dataframe_info": {
              "default_index_used": false,
              "orig_num_cols": 7,
              "orig_num_rows": 8,
              "orig_size_bytes": 512,
              "truncated_num_cols": 7,
              "truncated_num_rows": 8,
              "truncated_size_bytes": 512,
              "truncated_string_columns": []
            },
            "display_id": "5ee6afe1-d0a8-40dd-90ea-f9e640d67b1d",
            "dx_settings": {
              "ALLOW_NOTEABLE_ATTRS": true,
              "COLUMN_SAMPLING_METHOD": "outer",
              "DB_LOCATION": ":memory:",
              "DEV_MODE": false,
              "DISPLAY_MAX_COLUMNS": 100,
              "DISPLAY_MAX_ROWS": 50000,
              "DISPLAY_MODE": "simple",
              "ENABLE_ASSIGNMENT": true,
              "ENABLE_DATALINK": true,
              "FLATTEN_COLUMN_VALUES": true,
              "FLATTEN_INDEX_VALUES": false,
              "GENERATE_DEX_METADATA": false,
              "HTML_TABLE_SCHEMA": false,
              "LOG_LEVEL": 30,
              "MAX_RENDER_SIZE_BYTES": 104857600,
              "MAX_STRING_LENGTH": 250,
              "NUM_PAST_SAMPLES_TRACKED": 3,
              "RANDOM_STATE": 12648430,
              "RESET_INDEX_VALUES": false,
              "ROW_SAMPLING_METHOD": "random",
              "SAMPLING_FACTOR": 0.1,
              "SAMPLING_METHOD": "random",
              "STRINGIFY_COLUMN_VALUES": true,
              "STRINGIFY_INDEX_VALUES": false
            },
            "sample_history": [],
            "sampling_time": "2023-08-08T02:47:04.682940",
            "user_variable_name": null,
            "variable_name": "unk_dataframe_3a105d9e4e184018a80e8b945c9cb4c9"
          },
          "09ed8648-e5c1-4129-be17-8508d931f647": {
            "applied_filters": [],
            "dataframe_info": {
              "default_index_used": false,
              "orig_num_cols": 7,
              "orig_num_rows": 8,
              "orig_size_bytes": 512,
              "truncated_num_cols": 7,
              "truncated_num_rows": 8,
              "truncated_size_bytes": 512,
              "truncated_string_columns": []
            },
            "display_id": "09ed8648-e5c1-4129-be17-8508d931f647",
            "dx_settings": {
              "ALLOW_NOTEABLE_ATTRS": true,
              "COLUMN_SAMPLING_METHOD": "outer",
              "DB_LOCATION": ":memory:",
              "DEV_MODE": false,
              "DISPLAY_MAX_COLUMNS": 100,
              "DISPLAY_MAX_ROWS": 50000,
              "DISPLAY_MODE": "simple",
              "ENABLE_ASSIGNMENT": true,
              "ENABLE_DATALINK": true,
              "FLATTEN_COLUMN_VALUES": true,
              "FLATTEN_INDEX_VALUES": false,
              "GENERATE_DEX_METADATA": false,
              "HTML_TABLE_SCHEMA": false,
              "LOG_LEVEL": 30,
              "MAX_RENDER_SIZE_BYTES": 104857600,
              "MAX_STRING_LENGTH": 250,
              "NUM_PAST_SAMPLES_TRACKED": 3,
              "RANDOM_STATE": 12648430,
              "RESET_INDEX_VALUES": false,
              "ROW_SAMPLING_METHOD": "random",
              "SAMPLING_FACTOR": 0.1,
              "SAMPLING_METHOD": "random",
              "STRINGIFY_COLUMN_VALUES": true,
              "STRINGIFY_INDEX_VALUES": false
            },
            "sample_history": [],
            "sampling_time": "2023-08-08T20:23:02.349630",
            "user_variable_name": null,
            "variable_name": "unk_dataframe_3369fbd3122243ea931deb561d2844d9"
          },
          "42b7a3ae-55e6-4fac-a4c5-ed4f04681533": {
            "applied_filters": [],
            "dataframe_info": {
              "default_index_used": false,
              "orig_num_cols": 7,
              "orig_num_rows": 8,
              "orig_size_bytes": 512,
              "truncated_num_cols": 7,
              "truncated_num_rows": 8,
              "truncated_size_bytes": 512,
              "truncated_string_columns": []
            },
            "display_id": "42b7a3ae-55e6-4fac-a4c5-ed4f04681533",
            "dx_settings": {
              "ALLOW_NOTEABLE_ATTRS": true,
              "COLUMN_SAMPLING_METHOD": "outer",
              "DB_LOCATION": ":memory:",
              "DEV_MODE": false,
              "DISPLAY_MAX_COLUMNS": 100,
              "DISPLAY_MAX_ROWS": 50000,
              "DISPLAY_MODE": "simple",
              "ENABLE_ASSIGNMENT": true,
              "ENABLE_DATALINK": true,
              "FLATTEN_COLUMN_VALUES": true,
              "FLATTEN_INDEX_VALUES": false,
              "GENERATE_DEX_METADATA": false,
              "HTML_TABLE_SCHEMA": false,
              "LOG_LEVEL": 30,
              "MAX_RENDER_SIZE_BYTES": 104857600,
              "MAX_STRING_LENGTH": 250,
              "NUM_PAST_SAMPLES_TRACKED": 3,
              "RANDOM_STATE": 12648430,
              "RESET_INDEX_VALUES": false,
              "ROW_SAMPLING_METHOD": "random",
              "SAMPLING_FACTOR": 0.1,
              "SAMPLING_METHOD": "random",
              "STRINGIFY_COLUMN_VALUES": true,
              "STRINGIFY_INDEX_VALUES": false
            },
            "sample_history": [],
            "sampling_time": "2023-08-20T05:21:40.932274",
            "user_variable_name": null,
            "variable_name": "unk_dataframe_92d7877a97f14ad59291fe68132f87ae"
          },
          "4a4fd372-4f0c-4080-b2cc-607c35931a9e": {
            "applied_filters": [],
            "dataframe_info": {
              "default_index_used": false,
              "orig_num_cols": 7,
              "orig_num_rows": 8,
              "orig_size_bytes": 512,
              "truncated_num_cols": 7,
              "truncated_num_rows": 8,
              "truncated_size_bytes": 512,
              "truncated_string_columns": []
            },
            "display_id": "4a4fd372-4f0c-4080-b2cc-607c35931a9e",
            "dx_settings": {
              "ALLOW_NOTEABLE_ATTRS": true,
              "COLUMN_SAMPLING_METHOD": "outer",
              "DB_LOCATION": ":memory:",
              "DEV_MODE": false,
              "DISPLAY_MAX_COLUMNS": 100,
              "DISPLAY_MAX_ROWS": 50000,
              "DISPLAY_MODE": "simple",
              "ENABLE_ASSIGNMENT": true,
              "ENABLE_DATALINK": true,
              "FLATTEN_COLUMN_VALUES": true,
              "FLATTEN_INDEX_VALUES": false,
              "GENERATE_DEX_METADATA": false,
              "HTML_TABLE_SCHEMA": false,
              "LOG_LEVEL": 30,
              "MAX_RENDER_SIZE_BYTES": 104857600,
              "MAX_STRING_LENGTH": 250,
              "NUM_PAST_SAMPLES_TRACKED": 3,
              "RANDOM_STATE": 12648430,
              "RESET_INDEX_VALUES": false,
              "ROW_SAMPLING_METHOD": "random",
              "SAMPLING_FACTOR": 0.1,
              "SAMPLING_METHOD": "random",
              "STRINGIFY_COLUMN_VALUES": true,
              "STRINGIFY_INDEX_VALUES": false
            },
            "sample_history": [],
            "sampling_time": "2023-08-20T14:05:57.662430",
            "user_variable_name": null,
            "variable_name": "unk_dataframe_094dd0d7925949fa97422b9ef6370399"
          },
          "80960ebd-fb93-46b1-8009-5929f9ee33a1": {
            "applied_filters": [],
            "dataframe_info": {
              "default_index_used": false,
              "orig_num_cols": 7,
              "orig_num_rows": 8,
              "orig_size_bytes": 512,
              "truncated_num_cols": 7,
              "truncated_num_rows": 8,
              "truncated_size_bytes": 512,
              "truncated_string_columns": []
            },
            "display_id": "80960ebd-fb93-46b1-8009-5929f9ee33a1",
            "dx_settings": {
              "ALLOW_NOTEABLE_ATTRS": true,
              "COLUMN_SAMPLING_METHOD": "outer",
              "DB_LOCATION": ":memory:",
              "DEV_MODE": false,
              "DISPLAY_MAX_COLUMNS": 100,
              "DISPLAY_MAX_ROWS": 50000,
              "DISPLAY_MODE": "simple",
              "ENABLE_ASSIGNMENT": true,
              "ENABLE_DATALINK": true,
              "FLATTEN_COLUMN_VALUES": true,
              "FLATTEN_INDEX_VALUES": false,
              "GENERATE_DEX_METADATA": false,
              "HTML_TABLE_SCHEMA": false,
              "LOG_LEVEL": 30,
              "MAX_RENDER_SIZE_BYTES": 104857600,
              "MAX_STRING_LENGTH": 250,
              "NUM_PAST_SAMPLES_TRACKED": 3,
              "RANDOM_STATE": 12648430,
              "RESET_INDEX_VALUES": false,
              "ROW_SAMPLING_METHOD": "random",
              "SAMPLING_FACTOR": 0.1,
              "SAMPLING_METHOD": "random",
              "STRINGIFY_COLUMN_VALUES": true,
              "STRINGIFY_INDEX_VALUES": false
            },
            "sample_history": [],
            "sampling_time": "2023-08-20T14:49:47.781316",
            "user_variable_name": null,
            "variable_name": "unk_dataframe_a9f071c7fd08418880a49e03d935f5e4"
          },
          "0cf959e3-e88d-44a6-b1e9-e629fc2055c6": {
            "applied_filters": [],
            "dataframe_info": {
              "default_index_used": false,
              "orig_num_cols": 7,
              "orig_num_rows": 8,
              "orig_size_bytes": 512,
              "truncated_num_cols": 7,
              "truncated_num_rows": 8,
              "truncated_size_bytes": 512,
              "truncated_string_columns": []
            },
            "display_id": "0cf959e3-e88d-44a6-b1e9-e629fc2055c6",
            "dx_settings": {
              "ALLOW_NOTEABLE_ATTRS": true,
              "COLUMN_SAMPLING_METHOD": "outer",
              "DB_LOCATION": ":memory:",
              "DEV_MODE": false,
              "DISPLAY_MAX_COLUMNS": 100,
              "DISPLAY_MAX_ROWS": 50000,
              "DISPLAY_MODE": "simple",
              "ENABLE_ASSIGNMENT": true,
              "ENABLE_DATALINK": true,
              "FLATTEN_COLUMN_VALUES": true,
              "FLATTEN_INDEX_VALUES": false,
              "GENERATE_DEX_METADATA": false,
              "HTML_TABLE_SCHEMA": false,
              "LOG_LEVEL": 30,
              "MAX_RENDER_SIZE_BYTES": 104857600,
              "MAX_STRING_LENGTH": 250,
              "NUM_PAST_SAMPLES_TRACKED": 3,
              "RANDOM_STATE": 12648430,
              "RESET_INDEX_VALUES": false,
              "ROW_SAMPLING_METHOD": "random",
              "SAMPLING_FACTOR": 0.1,
              "SAMPLING_METHOD": "random",
              "STRINGIFY_COLUMN_VALUES": true,
              "STRINGIFY_INDEX_VALUES": false
            },
            "sample_history": [],
            "sampling_time": "2023-08-21T01:33:24.241330",
            "user_variable_name": null,
            "variable_name": "unk_dataframe_775182334b99495daf3f9f787cc2c13a"
          },
          "d79deb8b-6036-4a8c-a062-679fbb05b58d": {
            "applied_filters": [],
            "dataframe_info": {
              "default_index_used": false,
              "orig_num_cols": 7,
              "orig_num_rows": 8,
              "orig_size_bytes": 512,
              "truncated_num_cols": 7,
              "truncated_num_rows": 8,
              "truncated_size_bytes": 512,
              "truncated_string_columns": []
            },
            "display_id": "d79deb8b-6036-4a8c-a062-679fbb05b58d",
            "dx_settings": {
              "ALLOW_NOTEABLE_ATTRS": true,
              "COLUMN_SAMPLING_METHOD": "outer",
              "DB_LOCATION": ":memory:",
              "DEV_MODE": false,
              "DISPLAY_MAX_COLUMNS": 100,
              "DISPLAY_MAX_ROWS": 50000,
              "DISPLAY_MODE": "simple",
              "ENABLE_ASSIGNMENT": true,
              "ENABLE_DATALINK": true,
              "FLATTEN_COLUMN_VALUES": true,
              "FLATTEN_INDEX_VALUES": false,
              "GENERATE_DEX_METADATA": false,
              "HTML_TABLE_SCHEMA": false,
              "LOG_LEVEL": 30,
              "MAX_RENDER_SIZE_BYTES": 104857600,
              "MAX_STRING_LENGTH": 250,
              "NUM_PAST_SAMPLES_TRACKED": 3,
              "RANDOM_STATE": 12648430,
              "RESET_INDEX_VALUES": false,
              "ROW_SAMPLING_METHOD": "random",
              "SAMPLING_FACTOR": 0.1,
              "SAMPLING_METHOD": "random",
              "STRINGIFY_COLUMN_VALUES": true,
              "STRINGIFY_INDEX_VALUES": false
            },
            "sample_history": [],
            "sampling_time": "2023-08-21T23:41:34.557026",
            "user_variable_name": null,
            "variable_name": "unk_dataframe_0ac8266c357c4a8db6bdf4b1271abd29"
          },
          "218c4abb-0ca0-4195-9c33-760bd811d24b": {
            "dataframe_info": {
              "default_index_used": false,
              "orig_size_bytes": 512,
              "orig_num_rows": 8,
              "orig_num_cols": 7,
              "truncated_string_columns": [],
              "truncated_size_bytes": 512,
              "truncated_num_rows": 8,
              "truncated_num_cols": 7
            },
            "dx_settings": {
              "LOG_LEVEL": 30,
              "DEV_MODE": false,
              "DISPLAY_MAX_ROWS": 50000,
              "DISPLAY_MAX_COLUMNS": 100,
              "HTML_TABLE_SCHEMA": false,
              "MAX_RENDER_SIZE_BYTES": 104857600,
              "MAX_STRING_LENGTH": 250,
              "SAMPLING_FACTOR": 0.1,
              "DISPLAY_MODE": "simple",
              "SAMPLING_METHOD": "random",
              "COLUMN_SAMPLING_METHOD": "outer",
              "ROW_SAMPLING_METHOD": "random",
              "RANDOM_STATE": 12648430,
              "RESET_INDEX_VALUES": false,
              "FLATTEN_INDEX_VALUES": false,
              "FLATTEN_COLUMN_VALUES": true,
              "STRINGIFY_INDEX_VALUES": false,
              "STRINGIFY_COLUMN_VALUES": true,
              "ENABLE_DATALINK": true,
              "ENABLE_ASSIGNMENT": true,
              "NUM_PAST_SAMPLES_TRACKED": 3,
              "DB_LOCATION": ":memory:",
              "GENERATE_DEX_METADATA": false,
              "ALLOW_NOTEABLE_ATTRS": true
            },
            "display_id": "218c4abb-0ca0-4195-9c33-760bd811d24b",
            "applied_filters": [],
            "sample_history": [],
            "sampling_time": "2023-08-21T23:56:13.352260",
            "variable_name": "unk_dataframe_a18557612c204bdb9a9db65073c7dcff",
            "user_variable_name": null
          },
          "f55eed22-3b44-40b7-8537-35315016914a": {
            "dataframe_info": {
              "default_index_used": false,
              "orig_size_bytes": 512,
              "orig_num_rows": 8,
              "orig_num_cols": 7,
              "truncated_string_columns": [],
              "truncated_size_bytes": 512,
              "truncated_num_rows": 8,
              "truncated_num_cols": 7
            },
            "dx_settings": {
              "LOG_LEVEL": 30,
              "DEV_MODE": false,
              "DISPLAY_MAX_ROWS": 50000,
              "DISPLAY_MAX_COLUMNS": 100,
              "HTML_TABLE_SCHEMA": false,
              "MAX_RENDER_SIZE_BYTES": 104857600,
              "MAX_STRING_LENGTH": 250,
              "SAMPLING_FACTOR": 0.1,
              "DISPLAY_MODE": "simple",
              "SAMPLING_METHOD": "random",
              "COLUMN_SAMPLING_METHOD": "outer",
              "ROW_SAMPLING_METHOD": "random",
              "RANDOM_STATE": 12648430,
              "RESET_INDEX_VALUES": false,
              "FLATTEN_INDEX_VALUES": false,
              "FLATTEN_COLUMN_VALUES": true,
              "STRINGIFY_INDEX_VALUES": false,
              "STRINGIFY_COLUMN_VALUES": true,
              "ENABLE_DATALINK": true,
              "ENABLE_ASSIGNMENT": true,
              "NUM_PAST_SAMPLES_TRACKED": 3,
              "DB_LOCATION": ":memory:",
              "GENERATE_DEX_METADATA": false,
              "ALLOW_NOTEABLE_ATTRS": true
            },
            "display_id": "f55eed22-3b44-40b7-8537-35315016914a",
            "applied_filters": [],
            "sample_history": [],
            "sampling_time": "2023-08-22T00:01:04.370453",
            "variable_name": "unk_dataframe_680ada43c4a745d78dffce296abd7cc1",
            "user_variable_name": null
          },
          "0147c2f1-3321-43d6-b99d-38e26a701336": {
            "dataframe_info": {
              "default_index_used": false,
              "orig_size_bytes": 512,
              "orig_num_rows": 8,
              "orig_num_cols": 7,
              "truncated_string_columns": [],
              "truncated_size_bytes": 512,
              "truncated_num_rows": 8,
              "truncated_num_cols": 7
            },
            "dx_settings": {
              "LOG_LEVEL": 30,
              "DEV_MODE": false,
              "DISPLAY_MAX_ROWS": 50000,
              "DISPLAY_MAX_COLUMNS": 100,
              "HTML_TABLE_SCHEMA": false,
              "MAX_RENDER_SIZE_BYTES": 104857600,
              "MAX_STRING_LENGTH": 250,
              "SAMPLING_FACTOR": 0.1,
              "DISPLAY_MODE": "simple",
              "SAMPLING_METHOD": "random",
              "COLUMN_SAMPLING_METHOD": "outer",
              "ROW_SAMPLING_METHOD": "random",
              "RANDOM_STATE": 12648430,
              "RESET_INDEX_VALUES": false,
              "FLATTEN_INDEX_VALUES": false,
              "FLATTEN_COLUMN_VALUES": true,
              "STRINGIFY_INDEX_VALUES": false,
              "STRINGIFY_COLUMN_VALUES": true,
              "ENABLE_DATALINK": true,
              "ENABLE_ASSIGNMENT": true,
              "NUM_PAST_SAMPLES_TRACKED": 3,
              "DB_LOCATION": ":memory:",
              "GENERATE_DEX_METADATA": false,
              "ALLOW_NOTEABLE_ATTRS": true
            },
            "display_id": "0147c2f1-3321-43d6-b99d-38e26a701336",
            "applied_filters": [],
            "sample_history": [],
            "sampling_time": "2023-08-22T00:13:12.666301",
            "variable_name": "unk_dataframe_ec87359044324570af8f5da887ee75a6",
            "user_variable_name": null
          },
          "932bb7f4-f32e-4c07-84f8-0396161d9f04": {
            "dataframe_info": {
              "default_index_used": false,
              "orig_size_bytes": 512,
              "orig_num_rows": 8,
              "orig_num_cols": 7,
              "truncated_string_columns": [],
              "truncated_size_bytes": 512,
              "truncated_num_rows": 8,
              "truncated_num_cols": 7
            },
            "dx_settings": {
              "LOG_LEVEL": 30,
              "DEV_MODE": false,
              "DISPLAY_MAX_ROWS": 50000,
              "DISPLAY_MAX_COLUMNS": 100,
              "HTML_TABLE_SCHEMA": false,
              "MAX_RENDER_SIZE_BYTES": 104857600,
              "MAX_STRING_LENGTH": 250,
              "SAMPLING_FACTOR": 0.1,
              "DISPLAY_MODE": "simple",
              "SAMPLING_METHOD": "random",
              "COLUMN_SAMPLING_METHOD": "outer",
              "ROW_SAMPLING_METHOD": "random",
              "RANDOM_STATE": 12648430,
              "RESET_INDEX_VALUES": false,
              "FLATTEN_INDEX_VALUES": false,
              "FLATTEN_COLUMN_VALUES": true,
              "STRINGIFY_INDEX_VALUES": false,
              "STRINGIFY_COLUMN_VALUES": true,
              "ENABLE_DATALINK": true,
              "ENABLE_ASSIGNMENT": true,
              "NUM_PAST_SAMPLES_TRACKED": 3,
              "DB_LOCATION": ":memory:",
              "GENERATE_DEX_METADATA": false,
              "ALLOW_NOTEABLE_ATTRS": true
            },
            "display_id": "932bb7f4-f32e-4c07-84f8-0396161d9f04",
            "applied_filters": [],
            "sample_history": [],
            "sampling_time": "2023-08-22T00:20:23.849427",
            "variable_name": "unk_dataframe_a8e7ab53d88945cdab74c997913e7d78",
            "user_variable_name": null
          },
          "52524611-bcbb-41ae-a10b-9abb124ae2ed": {
            "dataframe_info": {
              "default_index_used": false,
              "orig_size_bytes": 512,
              "orig_num_rows": 8,
              "orig_num_cols": 7,
              "truncated_string_columns": [],
              "truncated_size_bytes": 512,
              "truncated_num_rows": 8,
              "truncated_num_cols": 7
            },
            "dx_settings": {
              "LOG_LEVEL": 30,
              "DEV_MODE": false,
              "DISPLAY_MAX_ROWS": 50000,
              "DISPLAY_MAX_COLUMNS": 100,
              "HTML_TABLE_SCHEMA": false,
              "MAX_RENDER_SIZE_BYTES": 104857600,
              "MAX_STRING_LENGTH": 250,
              "SAMPLING_FACTOR": 0.1,
              "DISPLAY_MODE": "simple",
              "SAMPLING_METHOD": "random",
              "COLUMN_SAMPLING_METHOD": "outer",
              "ROW_SAMPLING_METHOD": "random",
              "RANDOM_STATE": 12648430,
              "RESET_INDEX_VALUES": false,
              "FLATTEN_INDEX_VALUES": false,
              "FLATTEN_COLUMN_VALUES": true,
              "STRINGIFY_INDEX_VALUES": false,
              "STRINGIFY_COLUMN_VALUES": true,
              "ENABLE_DATALINK": true,
              "ENABLE_ASSIGNMENT": true,
              "NUM_PAST_SAMPLES_TRACKED": 3,
              "DB_LOCATION": ":memory:",
              "GENERATE_DEX_METADATA": false,
              "ALLOW_NOTEABLE_ATTRS": true
            },
            "display_id": "52524611-bcbb-41ae-a10b-9abb124ae2ed",
            "applied_filters": [],
            "sample_history": [],
            "sampling_time": "2023-08-22T00:25:32.025849",
            "variable_name": "unk_dataframe_e7338bb90f814a1c88e9b8a8fb17ab86",
            "user_variable_name": null
          }
        }
      },
      "id": "f113d646"
    },
    {
      "cell_type": "code",
      "source": [
        "import matplotlib.pyplot as plt\n",
        "df_market_data.plot.line(figsize=(10, 5), rot=90)\n",
        "plt.show()"
      ],
      "outputs": [
        {
          "output_type": "display_data",
          "data": {
            "image/png": "[encoded data removed]"
          },
          "metadata": {}
        }
      ],
      "execution_count": 4,
      "metadata": {
        "noteable": {},
        "ExecuteTime": {
          "start_time": "2023-08-22T00:25:32.276358+00:00",
          "end_time": "2023-08-22T00:25:32.828541+00:00"
        }
      },
      "id": "9ec9e17f"
    },
    {
      "cell_type": "markdown",
      "source": [
        "---"
      ],
      "metadata": {},
      "id": "318acd3c"
    },
    {
      "cell_type": "markdown",
      "source": [
        "### Prepare the Data"
      ],
      "metadata": {},
      "id": "07ee78ed"
    },
    {
      "cell_type": "code",
      "source": [
        "from sklearn.preprocessing import StandardScaler\n",
        "\n",
        "# Create the StandardScaler instance\n",
        "scaler = StandardScaler()\n",
        "\n",
        "# Fit the StandardScaler\n",
        "scaler.fit(df_market_data)\n",
        "\n",
        "# Scale the data\n",
        "df_market_data_scaled = scaler.transform(df_market_data)"
      ],
      "outputs": [],
      "execution_count": 5,
      "metadata": {
        "noteable": {},
        "ExecuteTime": {
          "start_time": "2023-08-22T00:25:33.600256+00:00",
          "end_time": "2023-08-22T00:25:33.761164+00:00"
        }
      },
      "id": "161ffc9e"
    },
    {
      "cell_type": "code",
      "source": [
        "# Create a DataFrame with the scaled data\n",
        "df_market_data_scaled_df = pd.DataFrame(df_market_data_scaled, columns=df_market_data.columns)\n",
        "\n",
        "# Copy the crypto names from the original data\n",
        "df_market_data_scaled_df['coin_id'] = df_market_data.index\n",
        "\n",
        "# Set the coinid column as index\n",
        "df_market_data_scaled_df.set_index('coin_id', inplace=True)\n",
        "\n",
        "# Display sample data\n",
        "df_market_data_scaled_df.head()"
      ],
      "outputs": [
        {
          "output_type": "display_data",
          "data": {
            "application/vnd.dataresource+json": {
              "schema": {
                "fields": [
                  {
                    "name": "coin_id",
                    "type": "string"
                  },
                  {
                    "name": "price_change_percentage_24h",
                    "type": "number"
                  },
                  {
                    "name": "price_change_percentage_7d",
                    "type": "number"
                  },
                  {
                    "name": "price_change_percentage_14d",
                    "type": "number"
                  },
                  {
                    "name": "price_change_percentage_30d",
                    "type": "number"
                  },
                  {
                    "name": "price_change_percentage_60d",
                    "type": "number"
                  },
                  {
                    "name": "price_change_percentage_200d",
                    "type": "number"
                  },
                  {
                    "name": "price_change_percentage_1y",
                    "type": "number"
                  }
                ],
                "primaryKey": [
                  "coin_id"
                ],
                "pandas_version": "1.4.0"
              },
              "data": [
                {
                  "coin_id": "bitcoin",
                  "price_change_percentage_24h": 0.5085293658401341,
                  "price_change_percentage_7d": 0.49319307062377965,
                  "price_change_percentage_14d": 0.7722004332891463,
                  "price_change_percentage_30d": 0.23545963323469243,
                  "price_change_percentage_60d": -0.06749509626832181,
                  "price_change_percentage_200d": -0.3559534810770524,
                  "price_change_percentage_1y": -0.25163688201978673
                },
                {
                  "coin_id": "ethereum",
                  "price_change_percentage_24h": 0.18544589364395297,
                  "price_change_percentage_7d": 0.9344450402613929,
                  "price_change_percentage_14d": 0.5586921208689707,
                  "price_change_percentage_30d": -0.054340931689121186,
                  "price_change_percentage_60d": -0.27348272537129126,
                  "price_change_percentage_200d": -0.1157594743431256,
                  "price_change_percentage_1y": -0.19935211047099163
                },
                {
                  "coin_id": "tether",
                  "price_change_percentage_24h": 0.021773961621223664,
                  "price_change_percentage_7d": -0.7063368531568252,
                  "price_change_percentage_14d": -0.02168042073059972,
                  "price_change_percentage_30d": -0.06103015356222092,
                  "price_change_percentage_60d": 0.008004524805563948,
                  "price_change_percentage_200d": -0.5502469238608199,
                  "price_change_percentage_1y": -0.2820605057562321
                },
                {
                  "coin_id": "ripple",
                  "price_change_percentage_24h": -0.04076438293175126,
                  "price_change_percentage_7d": -0.810928065771643,
                  "price_change_percentage_14d": 0.24945797416123697,
                  "price_change_percentage_30d": -0.05038796511514074,
                  "price_change_percentage_60d": -0.37316401868233073,
                  "price_change_percentage_200d": -0.45825881568432436,
                  "price_change_percentage_1y": -0.29554614246304434
                },
                {
                  "coin_id": "bitcoin-cash",
                  "price_change_percentage_24h": 1.1930360799166912,
                  "price_change_percentage_7d": 2.000959067401844,
                  "price_change_percentage_14d": 1.7606100087732972,
                  "price_change_percentage_30d": 0.5458420645629487,
                  "price_change_percentage_60d": -0.2912028704525387,
                  "price_change_percentage_200d": -0.49984776055145186,
                  "price_change_percentage_1y": -0.27031695049996346
                }
              ],
              "datalink": {
                "display_id": "40f920d4-8534-41ba-ba4a-c9355ba79107"
              }
            }
          },
          "metadata": {
            "application/vnd.dataresource+json": {
              "datalink": {
                "dataframe_info": {
                  "default_index_used": false,
                  "orig_size_bytes": 320,
                  "orig_num_rows": 5,
                  "orig_num_cols": 7,
                  "truncated_string_columns": [],
                  "truncated_size_bytes": 320,
                  "truncated_num_rows": 5,
                  "truncated_num_cols": 7
                },
                "dx_settings": {
                  "NUM_PAST_SAMPLES_TRACKED": 3,
                  "ENABLE_DATALINK": true,
                  "DISPLAY_MODE": "simple",
                  "GENERATE_DEX_METADATA": false,
                  "STRINGIFY_INDEX_VALUES": false,
                  "ALLOW_NOTEABLE_ATTRS": true,
                  "DISPLAY_MAX_COLUMNS": 100,
                  "HTML_TABLE_SCHEMA": false,
                  "SAMPLING_FACTOR": 0.1,
                  "LOG_LEVEL": 30,
                  "ENABLE_ASSIGNMENT": true,
                  "FLATTEN_INDEX_VALUES": false,
                  "DEV_MODE": false,
                  "COLUMN_SAMPLING_METHOD": "outer",
                  "FLATTEN_COLUMN_VALUES": true,
                  "DISPLAY_MAX_ROWS": 50000,
                  "ROW_SAMPLING_METHOD": "random",
                  "RANDOM_STATE": 12648430,
                  "DB_LOCATION": ":memory:",
                  "STRINGIFY_COLUMN_VALUES": true,
                  "SAMPLING_METHOD": "random",
                  "MAX_STRING_LENGTH": 250,
                  "MAX_RENDER_SIZE_BYTES": 104857600,
                  "RESET_INDEX_VALUES": false
                },
                "display_id": "40f920d4-8534-41ba-ba4a-c9355ba79107",
                "applied_filters": [],
                "sample_history": [],
                "sampling_time": "2023-08-22T00:25:33.951216",
                "variable_name": "unk_dataframe_eeaacd466bf54b24bdb54c92757264e4",
                "user_variable_name": null
              },
              "display_id": "40f920d4-8534-41ba-ba4a-c9355ba79107"
            }
          }
        }
      ],
      "execution_count": 6,
      "metadata": {
        "noteable": {},
        "ExecuteTime": {
          "start_time": "2023-08-22T00:25:33.777233+00:00",
          "end_time": "2023-08-22T00:25:34.117170+00:00"
        },
        "datalink": {
          "3881d914-3f7e-4672-b5cd-f647e5f88bda": {
            "applied_filters": [],
            "dataframe_info": {
              "default_index_used": false,
              "orig_num_cols": 7,
              "orig_num_rows": 5,
              "orig_size_bytes": 320,
              "truncated_num_cols": 7,
              "truncated_num_rows": 5,
              "truncated_size_bytes": 320,
              "truncated_string_columns": []
            },
            "display_id": "3881d914-3f7e-4672-b5cd-f647e5f88bda",
            "dx_settings": {
              "ALLOW_NOTEABLE_ATTRS": true,
              "COLUMN_SAMPLING_METHOD": "outer",
              "DB_LOCATION": ":memory:",
              "DEV_MODE": false,
              "DISPLAY_MAX_COLUMNS": 100,
              "DISPLAY_MAX_ROWS": 50000,
              "DISPLAY_MODE": "simple",
              "ENABLE_ASSIGNMENT": true,
              "ENABLE_DATALINK": true,
              "FLATTEN_COLUMN_VALUES": true,
              "FLATTEN_INDEX_VALUES": false,
              "GENERATE_DEX_METADATA": false,
              "HTML_TABLE_SCHEMA": false,
              "LOG_LEVEL": 30,
              "MAX_RENDER_SIZE_BYTES": 104857600,
              "MAX_STRING_LENGTH": 250,
              "NUM_PAST_SAMPLES_TRACKED": 3,
              "RANDOM_STATE": 12648430,
              "RESET_INDEX_VALUES": false,
              "ROW_SAMPLING_METHOD": "random",
              "SAMPLING_FACTOR": 0.1,
              "SAMPLING_METHOD": "random",
              "STRINGIFY_COLUMN_VALUES": true,
              "STRINGIFY_INDEX_VALUES": false
            },
            "sample_history": [],
            "sampling_time": "2023-08-08T02:47:06.085347",
            "user_variable_name": null,
            "variable_name": "unk_dataframe_437709f155544c38879bfbbde3ed9dcd"
          },
          "b4fc182c-21b9-4842-8dd1-d6fd3f02f405": {
            "applied_filters": [],
            "dataframe_info": {
              "default_index_used": false,
              "orig_num_cols": 7,
              "orig_num_rows": 5,
              "orig_size_bytes": 320,
              "truncated_num_cols": 7,
              "truncated_num_rows": 5,
              "truncated_size_bytes": 320,
              "truncated_string_columns": []
            },
            "display_id": "b4fc182c-21b9-4842-8dd1-d6fd3f02f405",
            "dx_settings": {
              "ALLOW_NOTEABLE_ATTRS": true,
              "COLUMN_SAMPLING_METHOD": "outer",
              "DB_LOCATION": ":memory:",
              "DEV_MODE": false,
              "DISPLAY_MAX_COLUMNS": 100,
              "DISPLAY_MAX_ROWS": 50000,
              "DISPLAY_MODE": "simple",
              "ENABLE_ASSIGNMENT": true,
              "ENABLE_DATALINK": true,
              "FLATTEN_COLUMN_VALUES": true,
              "FLATTEN_INDEX_VALUES": false,
              "GENERATE_DEX_METADATA": false,
              "HTML_TABLE_SCHEMA": false,
              "LOG_LEVEL": 30,
              "MAX_RENDER_SIZE_BYTES": 104857600,
              "MAX_STRING_LENGTH": 250,
              "NUM_PAST_SAMPLES_TRACKED": 3,
              "RANDOM_STATE": 12648430,
              "RESET_INDEX_VALUES": false,
              "ROW_SAMPLING_METHOD": "random",
              "SAMPLING_FACTOR": 0.1,
              "SAMPLING_METHOD": "random",
              "STRINGIFY_COLUMN_VALUES": true,
              "STRINGIFY_INDEX_VALUES": false
            },
            "sample_history": [],
            "sampling_time": "2023-08-08T20:23:04.282048",
            "user_variable_name": null,
            "variable_name": "unk_dataframe_66e0687b1d1e44738c2501b8c1975905"
          },
          "408ff324-c5ff-4df1-89d8-e4634c0648ba": {
            "applied_filters": [],
            "dataframe_info": {
              "default_index_used": false,
              "orig_num_cols": 7,
              "orig_num_rows": 5,
              "orig_size_bytes": 320,
              "truncated_num_cols": 7,
              "truncated_num_rows": 5,
              "truncated_size_bytes": 320,
              "truncated_string_columns": []
            },
            "display_id": "408ff324-c5ff-4df1-89d8-e4634c0648ba",
            "dx_settings": {
              "ALLOW_NOTEABLE_ATTRS": true,
              "COLUMN_SAMPLING_METHOD": "outer",
              "DB_LOCATION": ":memory:",
              "DEV_MODE": false,
              "DISPLAY_MAX_COLUMNS": 100,
              "DISPLAY_MAX_ROWS": 50000,
              "DISPLAY_MODE": "simple",
              "ENABLE_ASSIGNMENT": true,
              "ENABLE_DATALINK": true,
              "FLATTEN_COLUMN_VALUES": true,
              "FLATTEN_INDEX_VALUES": false,
              "GENERATE_DEX_METADATA": false,
              "HTML_TABLE_SCHEMA": false,
              "LOG_LEVEL": 30,
              "MAX_RENDER_SIZE_BYTES": 104857600,
              "MAX_STRING_LENGTH": 250,
              "NUM_PAST_SAMPLES_TRACKED": 3,
              "RANDOM_STATE": 12648430,
              "RESET_INDEX_VALUES": false,
              "ROW_SAMPLING_METHOD": "random",
              "SAMPLING_FACTOR": 0.1,
              "SAMPLING_METHOD": "random",
              "STRINGIFY_COLUMN_VALUES": true,
              "STRINGIFY_INDEX_VALUES": false
            },
            "sample_history": [],
            "sampling_time": "2023-08-20T05:21:42.821749",
            "user_variable_name": null,
            "variable_name": "unk_dataframe_5d63e4334cf543f0b101313037b71742"
          },
          "f831b0ab-7886-433b-8d1f-59a2ba707a5b": {
            "applied_filters": [],
            "dataframe_info": {
              "default_index_used": false,
              "orig_num_cols": 7,
              "orig_num_rows": 5,
              "orig_size_bytes": 320,
              "truncated_num_cols": 7,
              "truncated_num_rows": 5,
              "truncated_size_bytes": 320,
              "truncated_string_columns": []
            },
            "display_id": "f831b0ab-7886-433b-8d1f-59a2ba707a5b",
            "dx_settings": {
              "ALLOW_NOTEABLE_ATTRS": true,
              "COLUMN_SAMPLING_METHOD": "outer",
              "DB_LOCATION": ":memory:",
              "DEV_MODE": false,
              "DISPLAY_MAX_COLUMNS": 100,
              "DISPLAY_MAX_ROWS": 50000,
              "DISPLAY_MODE": "simple",
              "ENABLE_ASSIGNMENT": true,
              "ENABLE_DATALINK": true,
              "FLATTEN_COLUMN_VALUES": true,
              "FLATTEN_INDEX_VALUES": false,
              "GENERATE_DEX_METADATA": false,
              "HTML_TABLE_SCHEMA": false,
              "LOG_LEVEL": 30,
              "MAX_RENDER_SIZE_BYTES": 104857600,
              "MAX_STRING_LENGTH": 250,
              "NUM_PAST_SAMPLES_TRACKED": 3,
              "RANDOM_STATE": 12648430,
              "RESET_INDEX_VALUES": false,
              "ROW_SAMPLING_METHOD": "random",
              "SAMPLING_FACTOR": 0.1,
              "SAMPLING_METHOD": "random",
              "STRINGIFY_COLUMN_VALUES": true,
              "STRINGIFY_INDEX_VALUES": false
            },
            "sample_history": [],
            "sampling_time": "2023-08-20T14:05:59.363775",
            "user_variable_name": null,
            "variable_name": "unk_dataframe_d447b2f3c5fb48fcbec514a7cfae3cab"
          },
          "9ff212c0-ac06-405b-be79-d79ab7be281c": {
            "applied_filters": [],
            "dataframe_info": {
              "default_index_used": false,
              "orig_num_cols": 7,
              "orig_num_rows": 5,
              "orig_size_bytes": 320,
              "truncated_num_cols": 7,
              "truncated_num_rows": 5,
              "truncated_size_bytes": 320,
              "truncated_string_columns": []
            },
            "display_id": "9ff212c0-ac06-405b-be79-d79ab7be281c",
            "dx_settings": {
              "ALLOW_NOTEABLE_ATTRS": true,
              "COLUMN_SAMPLING_METHOD": "outer",
              "DB_LOCATION": ":memory:",
              "DEV_MODE": false,
              "DISPLAY_MAX_COLUMNS": 100,
              "DISPLAY_MAX_ROWS": 50000,
              "DISPLAY_MODE": "simple",
              "ENABLE_ASSIGNMENT": true,
              "ENABLE_DATALINK": true,
              "FLATTEN_COLUMN_VALUES": true,
              "FLATTEN_INDEX_VALUES": false,
              "GENERATE_DEX_METADATA": false,
              "HTML_TABLE_SCHEMA": false,
              "LOG_LEVEL": 30,
              "MAX_RENDER_SIZE_BYTES": 104857600,
              "MAX_STRING_LENGTH": 250,
              "NUM_PAST_SAMPLES_TRACKED": 3,
              "RANDOM_STATE": 12648430,
              "RESET_INDEX_VALUES": false,
              "ROW_SAMPLING_METHOD": "random",
              "SAMPLING_FACTOR": 0.1,
              "SAMPLING_METHOD": "random",
              "STRINGIFY_COLUMN_VALUES": true,
              "STRINGIFY_INDEX_VALUES": false
            },
            "sample_history": [],
            "sampling_time": "2023-08-20T14:49:49.472760",
            "user_variable_name": null,
            "variable_name": "unk_dataframe_5a43b36236c34f02a2c505135aeb2b83"
          },
          "b4ff1336-d2b5-4c56-8b3c-2153db356e14": {
            "applied_filters": [],
            "dataframe_info": {
              "default_index_used": false,
              "orig_num_cols": 7,
              "orig_num_rows": 5,
              "orig_size_bytes": 320,
              "truncated_num_cols": 7,
              "truncated_num_rows": 5,
              "truncated_size_bytes": 320,
              "truncated_string_columns": []
            },
            "display_id": "b4ff1336-d2b5-4c56-8b3c-2153db356e14",
            "dx_settings": {
              "ALLOW_NOTEABLE_ATTRS": true,
              "COLUMN_SAMPLING_METHOD": "outer",
              "DB_LOCATION": ":memory:",
              "DEV_MODE": false,
              "DISPLAY_MAX_COLUMNS": 100,
              "DISPLAY_MAX_ROWS": 50000,
              "DISPLAY_MODE": "simple",
              "ENABLE_ASSIGNMENT": true,
              "ENABLE_DATALINK": true,
              "FLATTEN_COLUMN_VALUES": true,
              "FLATTEN_INDEX_VALUES": false,
              "GENERATE_DEX_METADATA": false,
              "HTML_TABLE_SCHEMA": false,
              "LOG_LEVEL": 30,
              "MAX_RENDER_SIZE_BYTES": 104857600,
              "MAX_STRING_LENGTH": 250,
              "NUM_PAST_SAMPLES_TRACKED": 3,
              "RANDOM_STATE": 12648430,
              "RESET_INDEX_VALUES": false,
              "ROW_SAMPLING_METHOD": "random",
              "SAMPLING_FACTOR": 0.1,
              "SAMPLING_METHOD": "random",
              "STRINGIFY_COLUMN_VALUES": true,
              "STRINGIFY_INDEX_VALUES": false
            },
            "sample_history": [],
            "sampling_time": "2023-08-21T01:33:25.950100",
            "user_variable_name": null,
            "variable_name": "unk_dataframe_e47f24608e5d4f2495d4410075a8e70c"
          },
          "141d6329-790d-4b1d-b45d-639d1b1d8de9": {
            "applied_filters": [],
            "dataframe_info": {
              "default_index_used": false,
              "orig_num_cols": 7,
              "orig_num_rows": 5,
              "orig_size_bytes": 320,
              "truncated_num_cols": 7,
              "truncated_num_rows": 5,
              "truncated_size_bytes": 320,
              "truncated_string_columns": []
            },
            "display_id": "141d6329-790d-4b1d-b45d-639d1b1d8de9",
            "dx_settings": {
              "ALLOW_NOTEABLE_ATTRS": true,
              "COLUMN_SAMPLING_METHOD": "outer",
              "DB_LOCATION": ":memory:",
              "DEV_MODE": false,
              "DISPLAY_MAX_COLUMNS": 100,
              "DISPLAY_MAX_ROWS": 50000,
              "DISPLAY_MODE": "simple",
              "ENABLE_ASSIGNMENT": true,
              "ENABLE_DATALINK": true,
              "FLATTEN_COLUMN_VALUES": true,
              "FLATTEN_INDEX_VALUES": false,
              "GENERATE_DEX_METADATA": false,
              "HTML_TABLE_SCHEMA": false,
              "LOG_LEVEL": 30,
              "MAX_RENDER_SIZE_BYTES": 104857600,
              "MAX_STRING_LENGTH": 250,
              "NUM_PAST_SAMPLES_TRACKED": 3,
              "RANDOM_STATE": 12648430,
              "RESET_INDEX_VALUES": false,
              "ROW_SAMPLING_METHOD": "random",
              "SAMPLING_FACTOR": 0.1,
              "SAMPLING_METHOD": "random",
              "STRINGIFY_COLUMN_VALUES": true,
              "STRINGIFY_INDEX_VALUES": false
            },
            "sample_history": [],
            "sampling_time": "2023-08-21T23:41:36.195512",
            "user_variable_name": null,
            "variable_name": "unk_dataframe_73ac25af59a144e68798af8b0b2811e4"
          },
          "3bbc5de9-5840-467e-bd91-a4ebce66c1c8": {
            "dataframe_info": {
              "default_index_used": false,
              "orig_size_bytes": 320,
              "orig_num_rows": 5,
              "orig_num_cols": 7,
              "truncated_string_columns": [],
              "truncated_size_bytes": 320,
              "truncated_num_rows": 5,
              "truncated_num_cols": 7
            },
            "dx_settings": {
              "LOG_LEVEL": 30,
              "DEV_MODE": false,
              "DISPLAY_MAX_ROWS": 50000,
              "DISPLAY_MAX_COLUMNS": 100,
              "HTML_TABLE_SCHEMA": false,
              "MAX_RENDER_SIZE_BYTES": 104857600,
              "MAX_STRING_LENGTH": 250,
              "SAMPLING_FACTOR": 0.1,
              "DISPLAY_MODE": "simple",
              "SAMPLING_METHOD": "random",
              "COLUMN_SAMPLING_METHOD": "outer",
              "ROW_SAMPLING_METHOD": "random",
              "RANDOM_STATE": 12648430,
              "RESET_INDEX_VALUES": false,
              "FLATTEN_INDEX_VALUES": false,
              "FLATTEN_COLUMN_VALUES": true,
              "STRINGIFY_INDEX_VALUES": false,
              "STRINGIFY_COLUMN_VALUES": true,
              "ENABLE_DATALINK": true,
              "ENABLE_ASSIGNMENT": true,
              "NUM_PAST_SAMPLES_TRACKED": 3,
              "DB_LOCATION": ":memory:",
              "GENERATE_DEX_METADATA": false,
              "ALLOW_NOTEABLE_ATTRS": true
            },
            "display_id": "3bbc5de9-5840-467e-bd91-a4ebce66c1c8",
            "applied_filters": [],
            "sample_history": [],
            "sampling_time": "2023-08-21T23:56:14.564425",
            "variable_name": "unk_dataframe_776d2fafb409433bb24940e041b06c33",
            "user_variable_name": null
          },
          "df250e08-e9c3-4f31-801c-c5fa31bcef22": {
            "dataframe_info": {
              "default_index_used": false,
              "orig_size_bytes": 320,
              "orig_num_rows": 5,
              "orig_num_cols": 7,
              "truncated_string_columns": [],
              "truncated_size_bytes": 320,
              "truncated_num_rows": 5,
              "truncated_num_cols": 7
            },
            "dx_settings": {
              "LOG_LEVEL": 30,
              "DEV_MODE": false,
              "DISPLAY_MAX_ROWS": 50000,
              "DISPLAY_MAX_COLUMNS": 100,
              "HTML_TABLE_SCHEMA": false,
              "MAX_RENDER_SIZE_BYTES": 104857600,
              "MAX_STRING_LENGTH": 250,
              "SAMPLING_FACTOR": 0.1,
              "DISPLAY_MODE": "simple",
              "SAMPLING_METHOD": "random",
              "COLUMN_SAMPLING_METHOD": "outer",
              "ROW_SAMPLING_METHOD": "random",
              "RANDOM_STATE": 12648430,
              "RESET_INDEX_VALUES": false,
              "FLATTEN_INDEX_VALUES": false,
              "FLATTEN_COLUMN_VALUES": true,
              "STRINGIFY_INDEX_VALUES": false,
              "STRINGIFY_COLUMN_VALUES": true,
              "ENABLE_DATALINK": true,
              "ENABLE_ASSIGNMENT": true,
              "NUM_PAST_SAMPLES_TRACKED": 3,
              "DB_LOCATION": ":memory:",
              "GENERATE_DEX_METADATA": false,
              "ALLOW_NOTEABLE_ATTRS": true
            },
            "display_id": "df250e08-e9c3-4f31-801c-c5fa31bcef22",
            "applied_filters": [],
            "sample_history": [],
            "sampling_time": "2023-08-22T00:01:05.678363",
            "variable_name": "unk_dataframe_67502d7482744a79b14641a8d4bea578",
            "user_variable_name": null
          },
          "bbd6dd25-2168-45b4-a414-46095cf36269": {
            "dataframe_info": {
              "default_index_used": false,
              "orig_size_bytes": 320,
              "orig_num_rows": 5,
              "orig_num_cols": 7,
              "truncated_string_columns": [],
              "truncated_size_bytes": 320,
              "truncated_num_rows": 5,
              "truncated_num_cols": 7
            },
            "dx_settings": {
              "LOG_LEVEL": 30,
              "DEV_MODE": false,
              "DISPLAY_MAX_ROWS": 50000,
              "DISPLAY_MAX_COLUMNS": 100,
              "HTML_TABLE_SCHEMA": false,
              "MAX_RENDER_SIZE_BYTES": 104857600,
              "MAX_STRING_LENGTH": 250,
              "SAMPLING_FACTOR": 0.1,
              "DISPLAY_MODE": "simple",
              "SAMPLING_METHOD": "random",
              "COLUMN_SAMPLING_METHOD": "outer",
              "ROW_SAMPLING_METHOD": "random",
              "RANDOM_STATE": 12648430,
              "RESET_INDEX_VALUES": false,
              "FLATTEN_INDEX_VALUES": false,
              "FLATTEN_COLUMN_VALUES": true,
              "STRINGIFY_INDEX_VALUES": false,
              "STRINGIFY_COLUMN_VALUES": true,
              "ENABLE_DATALINK": true,
              "ENABLE_ASSIGNMENT": true,
              "NUM_PAST_SAMPLES_TRACKED": 3,
              "DB_LOCATION": ":memory:",
              "GENERATE_DEX_METADATA": false,
              "ALLOW_NOTEABLE_ATTRS": true
            },
            "display_id": "bbd6dd25-2168-45b4-a414-46095cf36269",
            "applied_filters": [],
            "sample_history": [],
            "sampling_time": "2023-08-22T00:13:14.081577",
            "variable_name": "unk_dataframe_37951cbb171c40f2b144813311a9ddf4",
            "user_variable_name": null
          },
          "93ebda40-1dca-494b-8e5c-d80949ec3627": {
            "dataframe_info": {
              "default_index_used": false,
              "orig_size_bytes": 320,
              "orig_num_rows": 5,
              "orig_num_cols": 7,
              "truncated_string_columns": [],
              "truncated_size_bytes": 320,
              "truncated_num_rows": 5,
              "truncated_num_cols": 7
            },
            "dx_settings": {
              "LOG_LEVEL": 30,
              "DEV_MODE": false,
              "DISPLAY_MAX_ROWS": 50000,
              "DISPLAY_MAX_COLUMNS": 100,
              "HTML_TABLE_SCHEMA": false,
              "MAX_RENDER_SIZE_BYTES": 104857600,
              "MAX_STRING_LENGTH": 250,
              "SAMPLING_FACTOR": 0.1,
              "DISPLAY_MODE": "simple",
              "SAMPLING_METHOD": "random",
              "COLUMN_SAMPLING_METHOD": "outer",
              "ROW_SAMPLING_METHOD": "random",
              "RANDOM_STATE": 12648430,
              "RESET_INDEX_VALUES": false,
              "FLATTEN_INDEX_VALUES": false,
              "FLATTEN_COLUMN_VALUES": true,
              "STRINGIFY_INDEX_VALUES": false,
              "STRINGIFY_COLUMN_VALUES": true,
              "ENABLE_DATALINK": true,
              "ENABLE_ASSIGNMENT": true,
              "NUM_PAST_SAMPLES_TRACKED": 3,
              "DB_LOCATION": ":memory:",
              "GENERATE_DEX_METADATA": false,
              "ALLOW_NOTEABLE_ATTRS": true
            },
            "display_id": "93ebda40-1dca-494b-8e5c-d80949ec3627",
            "applied_filters": [],
            "sample_history": [],
            "sampling_time": "2023-08-22T00:20:25.284260",
            "variable_name": "unk_dataframe_dd5c118cb860455cb39cef305afc99a2",
            "user_variable_name": null
          },
          "40f920d4-8534-41ba-ba4a-c9355ba79107": {
            "dataframe_info": {
              "default_index_used": false,
              "orig_size_bytes": 320,
              "orig_num_rows": 5,
              "orig_num_cols": 7,
              "truncated_string_columns": [],
              "truncated_size_bytes": 320,
              "truncated_num_rows": 5,
              "truncated_num_cols": 7
            },
            "dx_settings": {
              "LOG_LEVEL": 30,
              "DEV_MODE": false,
              "DISPLAY_MAX_ROWS": 50000,
              "DISPLAY_MAX_COLUMNS": 100,
              "HTML_TABLE_SCHEMA": false,
              "MAX_RENDER_SIZE_BYTES": 104857600,
              "MAX_STRING_LENGTH": 250,
              "SAMPLING_FACTOR": 0.1,
              "DISPLAY_MODE": "simple",
              "SAMPLING_METHOD": "random",
              "COLUMN_SAMPLING_METHOD": "outer",
              "ROW_SAMPLING_METHOD": "random",
              "RANDOM_STATE": 12648430,
              "RESET_INDEX_VALUES": false,
              "FLATTEN_INDEX_VALUES": false,
              "FLATTEN_COLUMN_VALUES": true,
              "STRINGIFY_INDEX_VALUES": false,
              "STRINGIFY_COLUMN_VALUES": true,
              "ENABLE_DATALINK": true,
              "ENABLE_ASSIGNMENT": true,
              "NUM_PAST_SAMPLES_TRACKED": 3,
              "DB_LOCATION": ":memory:",
              "GENERATE_DEX_METADATA": false,
              "ALLOW_NOTEABLE_ATTRS": true
            },
            "display_id": "40f920d4-8534-41ba-ba4a-c9355ba79107",
            "applied_filters": [],
            "sample_history": [],
            "sampling_time": "2023-08-22T00:25:33.951216",
            "variable_name": "unk_dataframe_eeaacd466bf54b24bdb54c92757264e4",
            "user_variable_name": null
          }
        }
      },
      "id": "40e40782"
    },
    {
      "cell_type": "markdown",
      "source": [
        "### Find the Best Value for k Using the Original Data."
      ],
      "metadata": {},
      "id": "89a0f81a"
    },
    {
      "cell_type": "code",
      "source": [
        "# Create a list with the number of k-values from 1 to 11\n",
        "k_values = list(range(1, 12))"
      ],
      "outputs": [],
      "execution_count": 7,
      "metadata": {
        "noteable": {},
        "ExecuteTime": {
          "start_time": "2023-08-22T00:25:34.131891+00:00",
          "end_time": "2023-08-22T00:25:34.288422+00:00"
        }
      },
      "id": "29a743a9"
    },
    {
      "cell_type": "code",
      "source": [
        "from sklearn.cluster import KMeans\n",
        "\n",
        "# Create an empty list to store the inertia values\n",
        "inertia_values = []\n",
        "\n",
        "# Create a for loop to compute the inertia with each possible value of k\n",
        "for k in k_values:\n",
        "    # 1. Create a KMeans model using the loop counter for the n_clusters\n",
        "    kmeans_model = KMeans(n_clusters=k)\n",
        "\n",
        "    # 2. Fit the model to the data using `df_market_data_scaled_df`\n",
        "    kmeans_model.fit(df_market_data_scaled_df)\n",
        "\n",
        "    # 3. Append the model.inertia_ to the inertia list\n",
        "    inertia_values.append(kmeans_model.inertia_)"
      ],
      "outputs": [],
      "execution_count": 8,
      "metadata": {
        "noteable": {},
        "ExecuteTime": {
          "start_time": "2023-08-22T00:25:34.297614+00:00",
          "end_time": "2023-08-22T00:25:34.668245+00:00"
        }
      },
      "id": "b699c140"
    },
    {
      "cell_type": "code",
      "source": [
        "# Create a dictionary with the data to plot the Elbow curve\n",
        "elbow_data = {'k': k_values, 'inertia': inertia_values}\n",
        "\n",
        "# Create a DataFrame with the data to plot the Elbow curve\n",
        "elbow_df_1 = pd.DataFrame(elbow_data)"
      ],
      "outputs": [],
      "execution_count": 9,
      "metadata": {
        "noteable": {},
        "ExecuteTime": {
          "start_time": "2023-08-22T00:25:34.675093+00:00",
          "end_time": "2023-08-22T00:25:34.838982+00:00"
        }
      },
      "id": "5cd0fe7b"
    },
    {
      "cell_type": "code",
      "source": [
        "import matplotlib.pyplot as plt\n",
        "\n",
        "# Plot a line chart with all the inertia values computed with the different values of k\n",
        "plt.figure(figsize=(10, 6))\n",
        "plt.plot(elbow_df_1['k'], elbow_df_1['inertia'], marker='o')\n",
        "plt.title('Elbow Method')\n",
        "plt.xlabel('Number of Clusters (k)')\n",
        "plt.ylabel('Inertia')\n",
        "plt.xticks(elbow_df_1['k'])\n",
        "plt.grid(True)\n",
        "plt.show()"
      ],
      "outputs": [
        {
          "output_type": "display_data",
          "data": {
            "image/png": "[encoded data removed]"
          },
          "metadata": {}
        }
      ],
      "execution_count": 10,
      "metadata": {
        "noteable": {},
        "ExecuteTime": {
          "start_time": "2023-08-22T00:25:34.848036+00:00",
          "end_time": "2023-08-22T00:25:35.364781+00:00"
        }
      },
      "id": "7fa14b1c"
    },
    {
      "cell_type": "markdown",
      "source": [
        "#### Answer the following question: \n",
        "\n",
        "**Question:** What is the best value for `k`?\n",
        "\n",
        "**Answer:** 4"
      ],
      "metadata": {},
      "id": "40993071"
    },
    {
      "cell_type": "markdown",
      "source": [
        "---"
      ],
      "metadata": {},
      "id": "1cf678f3"
    },
    {
      "cell_type": "markdown",
      "source": [
        "### Cluster Cryptocurrencies with K-means Using the Original Data"
      ],
      "metadata": {},
      "id": "a4783ed6"
    },
    {
      "cell_type": "code",
      "source": [
        "from sklearn.cluster import KMeans\n",
        "\n",
        "# Best value for K is 4\n",
        "k = 4\n",
        "\n",
        "# Initialize the K-Means model using the best value for k\n",
        "kmeans_model = KMeans(n_clusters=k)"
      ],
      "outputs": [],
      "execution_count": 11,
      "metadata": {
        "noteable": {},
        "ExecuteTime": {
          "start_time": "2023-08-22T00:25:35.788622+00:00",
          "end_time": "2023-08-22T00:25:35.944817+00:00"
        }
      },
      "id": "57c3a080"
    },
    {
      "cell_type": "code",
      "source": [
        "# Fit the K-Means model using the scaled data\n",
        "kmeans_model.fit(df_market_data_scaled_df)"
      ],
      "outputs": [
        {
          "output_type": "execute_result",
          "execution_count": null,
          "data": {
            "text/html": "<style>#sk-container-id-11 {color: black;background-color: white;}#sk-container-id-11 pre{padding: 0;}#sk-container-id-11 div.sk-toggleable {background-color: white;}#sk-container-id-11 label.sk-toggleable__label {cursor: pointer;display: block;width: 100%;margin-bottom: 0;padding: 0.3em;box-sizing: border-box;text-align: center;}#sk-container-id-11 label.sk-toggleable__label-arrow:before {content: \"▸\";float: left;margin-right: 0.25em;color: #696969;}#sk-container-id-11 label.sk-toggleable__label-arrow:hover:before {color: black;}#sk-container-id-11 div.sk-estimator:hover label.sk-toggleable__label-arrow:before {color: black;}#sk-container-id-11 div.sk-toggleable__content {max-height: 0;max-width: 0;overflow: hidden;text-align: left;background-color: #f0f8ff;}#sk-container-id-11 div.sk-toggleable__content pre {margin: 0.2em;color: black;border-radius: 0.25em;background-color: #f0f8ff;}#sk-container-id-11 input.sk-toggleable__control:checked~div.sk-toggleable__content {max-height: 200px;max-width: 100%;overflow: auto;}#sk-container-id-11 input.sk-toggleable__control:checked~label.sk-toggleable__label-arrow:before {content: \"▾\";}#sk-container-id-11 div.sk-estimator input.sk-toggleable__control:checked~label.sk-toggleable__label {background-color: #d4ebff;}#sk-container-id-11 div.sk-label input.sk-toggleable__control:checked~label.sk-toggleable__label {background-color: #d4ebff;}#sk-container-id-11 input.sk-hidden--visually {border: 0;clip: rect(1px 1px 1px 1px);clip: rect(1px, 1px, 1px, 1px);height: 1px;margin: -1px;overflow: hidden;padding: 0;position: absolute;width: 1px;}#sk-container-id-11 div.sk-estimator {font-family: monospace;background-color: #f0f8ff;border: 1px dotted black;border-radius: 0.25em;box-sizing: border-box;margin-bottom: 0.5em;}#sk-container-id-11 div.sk-estimator:hover {background-color: #d4ebff;}#sk-container-id-11 div.sk-parallel-item::after {content: \"\";width: 100%;border-bottom: 1px solid gray;flex-grow: 1;}#sk-container-id-11 div.sk-label:hover label.sk-toggleable__label {background-color: #d4ebff;}#sk-container-id-11 div.sk-serial::before {content: \"\";position: absolute;border-left: 1px solid gray;box-sizing: border-box;top: 0;bottom: 0;left: 50%;z-index: 0;}#sk-container-id-11 div.sk-serial {display: flex;flex-direction: column;align-items: center;background-color: white;padding-right: 0.2em;padding-left: 0.2em;position: relative;}#sk-container-id-11 div.sk-item {position: relative;z-index: 1;}#sk-container-id-11 div.sk-parallel {display: flex;align-items: stretch;justify-content: center;background-color: white;position: relative;}#sk-container-id-11 div.sk-item::before, #sk-container-id-11 div.sk-parallel-item::before {content: \"\";position: absolute;border-left: 1px solid gray;box-sizing: border-box;top: 0;bottom: 0;left: 50%;z-index: -1;}#sk-container-id-11 div.sk-parallel-item {display: flex;flex-direction: column;z-index: 1;position: relative;background-color: white;}#sk-container-id-11 div.sk-parallel-item:first-child::after {align-self: flex-end;width: 50%;}#sk-container-id-11 div.sk-parallel-item:last-child::after {align-self: flex-start;width: 50%;}#sk-container-id-11 div.sk-parallel-item:only-child::after {width: 0;}#sk-container-id-11 div.sk-dashed-wrapped {border: 1px dashed gray;margin: 0 0.4em 0.5em 0.4em;box-sizing: border-box;padding-bottom: 0.4em;background-color: white;}#sk-container-id-11 div.sk-label label {font-family: monospace;font-weight: bold;display: inline-block;line-height: 1.2em;}#sk-container-id-11 div.sk-label-container {text-align: center;}#sk-container-id-11 div.sk-container {/* jupyter's `normalize.less` sets `[hidden] { display: none; }` but bootstrap.min.css set `[hidden] { display: none !important; }` so we also need the `!important` here to be able to override the default hidden behavior on the sphinx rendered scikit-learn.org. See: https://github.com/scikit-learn/scikit-learn/issues/21755 */display: inline-block !important;position: relative;}#sk-container-id-11 div.sk-text-repr-fallback {display: none;}</style><div id=\"sk-container-id-11\" class=\"sk-top-container\"><div class=\"sk-text-repr-fallback\"><pre>KMeans(n_clusters=4)</pre><b>In a Jupyter environment, please rerun this cell to show the HTML representation or trust the notebook. <br />On GitHub, the HTML representation is unable to render, please try loading this page with nbviewer.org.</b></div><div class=\"sk-container\" hidden><div class=\"sk-item\"><div class=\"sk-estimator sk-toggleable\"><input class=\"sk-toggleable__control sk-hidden--visually\" id=\"sk-estimator-id-11\" type=\"checkbox\" checked><label for=\"sk-estimator-id-11\" class=\"sk-toggleable__label sk-toggleable__label-arrow\">KMeans</label><div class=\"sk-toggleable__content\"><pre>KMeans(n_clusters=4)</pre></div></div></div></div></div>"
          },
          "metadata": {}
        }
      ],
      "execution_count": 12,
      "metadata": {
        "noteable": {},
        "ExecuteTime": {
          "start_time": "2023-08-22T00:25:35.954663+00:00",
          "end_time": "2023-08-22T00:25:36.130705+00:00"
        }
      },
      "id": "e087bc3d"
    },
    {
      "cell_type": "code",
      "source": [
        "# Predict the clusters to group the cryptocurrencies using the scaled data\n",
        "cluster_labels = kmeans_model.predict(df_market_data_scaled_df)\n",
        "\n",
        "# Print the resulting array of cluster values\n",
        "print(\"Cluster Labels:\", cluster_labels)"
      ],
      "outputs": [
        {
          "output_type": "stream",
          "name": "stdout",
          "text": [
            "Cluster Labels: [3 3 0 0 3 3 3 3 3 0 0 0 0 3 0 3 0 0 3 0 0 3 0 0 0 0 0 0 3 0 0 0 1 3 0 0 2\n",
            " 0 0 0 0]\n"
          ]
        }
      ],
      "execution_count": 13,
      "metadata": {
        "noteable": {},
        "ExecuteTime": {
          "start_time": "2023-08-22T00:25:36.137213+00:00",
          "end_time": "2023-08-22T00:25:36.302006+00:00"
        }
      },
      "id": "5060a147"
    },
    {
      "cell_type": "code",
      "source": [
        "# Create a copy of the DataFrame\n",
        "df_with_clusters = df_market_data_scaled_df.copy()"
      ],
      "outputs": [],
      "execution_count": 14,
      "metadata": {
        "noteable": {},
        "ExecuteTime": {
          "start_time": "2023-08-22T00:25:36.310300+00:00",
          "end_time": "2023-08-22T00:25:36.469839+00:00"
        }
      },
      "id": "2871883d"
    },
    {
      "cell_type": "code",
      "source": [
        "# Add a new column to the DataFrame with the predicted clusters\n",
        "df_with_clusters['labels'] = cluster_labels\n",
        "\n",
        "# Display sample data\n",
        "df_with_clusters.sample(5)"
      ],
      "outputs": [
        {
          "output_type": "display_data",
          "data": {
            "application/vnd.dataresource+json": {
              "schema": {
                "fields": [
                  {
                    "name": "coin_id",
                    "type": "string"
                  },
                  {
                    "name": "price_change_percentage_24h",
                    "type": "number"
                  },
                  {
                    "name": "price_change_percentage_7d",
                    "type": "number"
                  },
                  {
                    "name": "price_change_percentage_14d",
                    "type": "number"
                  },
                  {
                    "name": "price_change_percentage_30d",
                    "type": "number"
                  },
                  {
                    "name": "price_change_percentage_60d",
                    "type": "number"
                  },
                  {
                    "name": "price_change_percentage_200d",
                    "type": "number"
                  },
                  {
                    "name": "price_change_percentage_1y",
                    "type": "number"
                  },
                  {
                    "name": "labels",
                    "type": "integer"
                  }
                ],
                "primaryKey": [
                  "coin_id"
                ],
                "pandas_version": "1.4.0"
              },
              "data": [
                {
                  "coin_id": "digibyte",
                  "price_change_percentage_24h": 1.2174525584250286,
                  "price_change_percentage_7d": -0.6077135696200122,
                  "price_change_percentage_14d": -0.9070655278351205,
                  "price_change_percentage_30d": 0.449939006467455,
                  "price_change_percentage_60d": -0.6625295013405752,
                  "price_change_percentage_200d": 0.5723665569744097,
                  "price_change_percentage_1y": -0.13248167339965194,
                  "labels": 0
                },
                {
                  "coin_id": "binance-usd",
                  "price_change_percentage_24h": 0.061338500038103316,
                  "price_change_percentage_7d": -0.7066687576744684,
                  "price_change_percentage_14d": -0.015320855803876272,
                  "price_change_percentage_30d": -0.05869357600342244,
                  "price_change_percentage_60d": 0.004017315822226938,
                  "price_change_percentage_200d": -0.5500026491805343,
                  "price_change_percentage_1y": -0.28196335609743095,
                  "labels": 0
                },
                {
                  "coin_id": "zcash",
                  "price_change_percentage_24h": -0.12746748971978172,
                  "price_change_percentage_7d": 0.9291186873801718,
                  "price_change_percentage_14d": 0.6775321093229266,
                  "price_change_percentage_30d": 0.22383400696311137,
                  "price_change_percentage_60d": -0.43706773139581034,
                  "price_change_percentage_200d": -0.26516343773807177,
                  "price_change_percentage_1y": -0.2148285849786767,
                  "labels": 3
                },
                {
                  "coin_id": "neo",
                  "price_change_percentage_24h": 0.286545668479983,
                  "price_change_percentage_7d": -0.3263014162757142,
                  "price_change_percentage_14d": -1.2126702991200204,
                  "price_change_percentage_30d": -0.9031338586697517,
                  "price_change_percentage_60d": 0.2909698252729614,
                  "price_change_percentage_200d": -0.18118733436899007,
                  "price_change_percentage_1y": -0.17555042783793995,
                  "labels": 0
                },
                {
                  "coin_id": "huobi-token",
                  "price_change_percentage_24h": -0.052031503880590114,
                  "price_change_percentage_7d": -0.4572290141565338,
                  "price_change_percentage_14d": 0.03252211971670038,
                  "price_change_percentage_30d": -0.18448868601971607,
                  "price_change_percentage_60d": -0.07080900685466561,
                  "price_change_percentage_200d": -0.4519823451447651,
                  "price_change_percentage_1y": -0.26214044447468937,
                  "labels": 0
                }
              ],
              "datalink": {
                "display_id": "c073d286-5175-4859-94fe-bc3aad3a49ed"
              }
            }
          },
          "metadata": {
            "application/vnd.dataresource+json": {
              "datalink": {
                "dataframe_info": {
                  "default_index_used": false,
                  "orig_size_bytes": 340,
                  "orig_num_rows": 5,
                  "orig_num_cols": 8,
                  "truncated_string_columns": [],
                  "truncated_size_bytes": 340,
                  "truncated_num_rows": 5,
                  "truncated_num_cols": 8
                },
                "dx_settings": {
                  "NUM_PAST_SAMPLES_TRACKED": 3,
                  "ENABLE_DATALINK": true,
                  "DISPLAY_MODE": "simple",
                  "GENERATE_DEX_METADATA": false,
                  "STRINGIFY_INDEX_VALUES": false,
                  "ALLOW_NOTEABLE_ATTRS": true,
                  "DISPLAY_MAX_COLUMNS": 100,
                  "HTML_TABLE_SCHEMA": false,
                  "SAMPLING_FACTOR": 0.1,
                  "LOG_LEVEL": 30,
                  "ENABLE_ASSIGNMENT": true,
                  "FLATTEN_INDEX_VALUES": false,
                  "DEV_MODE": false,
                  "COLUMN_SAMPLING_METHOD": "outer",
                  "FLATTEN_COLUMN_VALUES": true,
                  "DISPLAY_MAX_ROWS": 50000,
                  "ROW_SAMPLING_METHOD": "random",
                  "RANDOM_STATE": 12648430,
                  "DB_LOCATION": ":memory:",
                  "STRINGIFY_COLUMN_VALUES": true,
                  "SAMPLING_METHOD": "random",
                  "MAX_STRING_LENGTH": 250,
                  "MAX_RENDER_SIZE_BYTES": 104857600,
                  "RESET_INDEX_VALUES": false
                },
                "display_id": "c073d286-5175-4859-94fe-bc3aad3a49ed",
                "applied_filters": [],
                "sample_history": [],
                "sampling_time": "2023-08-22T00:25:36.655228",
                "variable_name": "unk_dataframe_04d1f7b050974f2187a9ffd3e6a8e87a",
                "user_variable_name": null
              },
              "display_id": "c073d286-5175-4859-94fe-bc3aad3a49ed"
            }
          }
        }
      ],
      "execution_count": 15,
      "metadata": {
        "noteable": {},
        "ExecuteTime": {
          "start_time": "2023-08-22T00:25:36.479427+00:00",
          "end_time": "2023-08-22T00:25:36.827601+00:00"
        },
        "datalink": {
          "3a086121-7aa5-4244-9f41-5323f7a1c779": {
            "applied_filters": [],
            "dataframe_info": {
              "default_index_used": false,
              "orig_num_cols": 8,
              "orig_num_rows": 5,
              "orig_size_bytes": 340,
              "truncated_num_cols": 8,
              "truncated_num_rows": 5,
              "truncated_size_bytes": 340,
              "truncated_string_columns": []
            },
            "display_id": "3a086121-7aa5-4244-9f41-5323f7a1c779",
            "dx_settings": {
              "ALLOW_NOTEABLE_ATTRS": true,
              "COLUMN_SAMPLING_METHOD": "outer",
              "DB_LOCATION": ":memory:",
              "DEV_MODE": false,
              "DISPLAY_MAX_COLUMNS": 100,
              "DISPLAY_MAX_ROWS": 50000,
              "DISPLAY_MODE": "simple",
              "ENABLE_ASSIGNMENT": true,
              "ENABLE_DATALINK": true,
              "FLATTEN_COLUMN_VALUES": true,
              "FLATTEN_INDEX_VALUES": false,
              "GENERATE_DEX_METADATA": false,
              "HTML_TABLE_SCHEMA": false,
              "LOG_LEVEL": 30,
              "MAX_RENDER_SIZE_BYTES": 104857600,
              "MAX_STRING_LENGTH": 250,
              "NUM_PAST_SAMPLES_TRACKED": 3,
              "RANDOM_STATE": 12648430,
              "RESET_INDEX_VALUES": false,
              "ROW_SAMPLING_METHOD": "random",
              "SAMPLING_FACTOR": 0.1,
              "SAMPLING_METHOD": "random",
              "STRINGIFY_COLUMN_VALUES": true,
              "STRINGIFY_INDEX_VALUES": false
            },
            "sample_history": [],
            "sampling_time": "2023-08-08T02:57:48.127603",
            "user_variable_name": null,
            "variable_name": "unk_dataframe_a69ffa878e864c33b7e96b6becece5ed"
          },
          "8fca9edb-09ae-4082-ac82-0e308562f856": {
            "applied_filters": [],
            "dataframe_info": {
              "default_index_used": false,
              "orig_num_cols": 8,
              "orig_num_rows": 5,
              "orig_size_bytes": 340,
              "truncated_num_cols": 8,
              "truncated_num_rows": 5,
              "truncated_size_bytes": 340,
              "truncated_string_columns": []
            },
            "display_id": "8fca9edb-09ae-4082-ac82-0e308562f856",
            "dx_settings": {
              "ALLOW_NOTEABLE_ATTRS": true,
              "COLUMN_SAMPLING_METHOD": "outer",
              "DB_LOCATION": ":memory:",
              "DEV_MODE": false,
              "DISPLAY_MAX_COLUMNS": 100,
              "DISPLAY_MAX_ROWS": 50000,
              "DISPLAY_MODE": "simple",
              "ENABLE_ASSIGNMENT": true,
              "ENABLE_DATALINK": true,
              "FLATTEN_COLUMN_VALUES": true,
              "FLATTEN_INDEX_VALUES": false,
              "GENERATE_DEX_METADATA": false,
              "HTML_TABLE_SCHEMA": false,
              "LOG_LEVEL": 30,
              "MAX_RENDER_SIZE_BYTES": 104857600,
              "MAX_STRING_LENGTH": 250,
              "NUM_PAST_SAMPLES_TRACKED": 3,
              "RANDOM_STATE": 12648430,
              "RESET_INDEX_VALUES": false,
              "ROW_SAMPLING_METHOD": "random",
              "SAMPLING_FACTOR": 0.1,
              "SAMPLING_METHOD": "random",
              "STRINGIFY_COLUMN_VALUES": true,
              "STRINGIFY_INDEX_VALUES": false
            },
            "sample_history": [],
            "sampling_time": "2023-08-08T20:23:07.045898",
            "user_variable_name": null,
            "variable_name": "unk_dataframe_ee61c2208940455197c525b397fafcea"
          },
          "b7b31790-38d5-4b95-ac3c-7e4f7b484d9a": {
            "applied_filters": [],
            "dataframe_info": {
              "default_index_used": false,
              "orig_num_cols": 8,
              "orig_num_rows": 5,
              "orig_size_bytes": 340,
              "truncated_num_cols": 8,
              "truncated_num_rows": 5,
              "truncated_size_bytes": 340,
              "truncated_string_columns": []
            },
            "display_id": "b7b31790-38d5-4b95-ac3c-7e4f7b484d9a",
            "dx_settings": {
              "ALLOW_NOTEABLE_ATTRS": true,
              "COLUMN_SAMPLING_METHOD": "outer",
              "DB_LOCATION": ":memory:",
              "DEV_MODE": false,
              "DISPLAY_MAX_COLUMNS": 100,
              "DISPLAY_MAX_ROWS": 50000,
              "DISPLAY_MODE": "simple",
              "ENABLE_ASSIGNMENT": true,
              "ENABLE_DATALINK": true,
              "FLATTEN_COLUMN_VALUES": true,
              "FLATTEN_INDEX_VALUES": false,
              "GENERATE_DEX_METADATA": false,
              "HTML_TABLE_SCHEMA": false,
              "LOG_LEVEL": 30,
              "MAX_RENDER_SIZE_BYTES": 104857600,
              "MAX_STRING_LENGTH": 250,
              "NUM_PAST_SAMPLES_TRACKED": 3,
              "RANDOM_STATE": 12648430,
              "RESET_INDEX_VALUES": false,
              "ROW_SAMPLING_METHOD": "random",
              "SAMPLING_FACTOR": 0.1,
              "SAMPLING_METHOD": "random",
              "STRINGIFY_COLUMN_VALUES": true,
              "STRINGIFY_INDEX_VALUES": false
            },
            "sample_history": [],
            "sampling_time": "2023-08-20T05:21:45.520932",
            "user_variable_name": null,
            "variable_name": "unk_dataframe_28979f4bff7345c0bdfee089b56781b8"
          },
          "2cf2e011-37c3-4fb4-9106-3088582949fa": {
            "applied_filters": [],
            "dataframe_info": {
              "default_index_used": false,
              "orig_num_cols": 8,
              "orig_num_rows": 5,
              "orig_size_bytes": 340,
              "truncated_num_cols": 8,
              "truncated_num_rows": 5,
              "truncated_size_bytes": 340,
              "truncated_string_columns": []
            },
            "display_id": "2cf2e011-37c3-4fb4-9106-3088582949fa",
            "dx_settings": {
              "ALLOW_NOTEABLE_ATTRS": true,
              "COLUMN_SAMPLING_METHOD": "outer",
              "DB_LOCATION": ":memory:",
              "DEV_MODE": false,
              "DISPLAY_MAX_COLUMNS": 100,
              "DISPLAY_MAX_ROWS": 50000,
              "DISPLAY_MODE": "simple",
              "ENABLE_ASSIGNMENT": true,
              "ENABLE_DATALINK": true,
              "FLATTEN_COLUMN_VALUES": true,
              "FLATTEN_INDEX_VALUES": false,
              "GENERATE_DEX_METADATA": false,
              "HTML_TABLE_SCHEMA": false,
              "LOG_LEVEL": 30,
              "MAX_RENDER_SIZE_BYTES": 104857600,
              "MAX_STRING_LENGTH": 250,
              "NUM_PAST_SAMPLES_TRACKED": 3,
              "RANDOM_STATE": 12648430,
              "RESET_INDEX_VALUES": false,
              "ROW_SAMPLING_METHOD": "random",
              "SAMPLING_FACTOR": 0.1,
              "SAMPLING_METHOD": "random",
              "STRINGIFY_COLUMN_VALUES": true,
              "STRINGIFY_INDEX_VALUES": false
            },
            "sample_history": [],
            "sampling_time": "2023-08-20T14:06:02.607181",
            "user_variable_name": null,
            "variable_name": "unk_dataframe_bb9a8cb606bf4f5cbaa785676aa0edea"
          },
          "16481ac6-79a3-4b6c-9dcb-d85a6aa3f43e": {
            "applied_filters": [],
            "dataframe_info": {
              "default_index_used": false,
              "orig_num_cols": 8,
              "orig_num_rows": 5,
              "orig_size_bytes": 340,
              "truncated_num_cols": 8,
              "truncated_num_rows": 5,
              "truncated_size_bytes": 340,
              "truncated_string_columns": []
            },
            "display_id": "16481ac6-79a3-4b6c-9dcb-d85a6aa3f43e",
            "dx_settings": {
              "ALLOW_NOTEABLE_ATTRS": true,
              "COLUMN_SAMPLING_METHOD": "outer",
              "DB_LOCATION": ":memory:",
              "DEV_MODE": false,
              "DISPLAY_MAX_COLUMNS": 100,
              "DISPLAY_MAX_ROWS": 50000,
              "DISPLAY_MODE": "simple",
              "ENABLE_ASSIGNMENT": true,
              "ENABLE_DATALINK": true,
              "FLATTEN_COLUMN_VALUES": true,
              "FLATTEN_INDEX_VALUES": false,
              "GENERATE_DEX_METADATA": false,
              "HTML_TABLE_SCHEMA": false,
              "LOG_LEVEL": 30,
              "MAX_RENDER_SIZE_BYTES": 104857600,
              "MAX_STRING_LENGTH": 250,
              "NUM_PAST_SAMPLES_TRACKED": 3,
              "RANDOM_STATE": 12648430,
              "RESET_INDEX_VALUES": false,
              "ROW_SAMPLING_METHOD": "random",
              "SAMPLING_FACTOR": 0.1,
              "SAMPLING_METHOD": "random",
              "STRINGIFY_COLUMN_VALUES": true,
              "STRINGIFY_INDEX_VALUES": false
            },
            "sample_history": [],
            "sampling_time": "2023-08-20T14:49:52.304495",
            "user_variable_name": null,
            "variable_name": "unk_dataframe_04402200b4fa4ee6b3a4ec6c6904d1ac"
          },
          "2eda85ec-29f5-43d9-9dd3-dcc7bae4ea25": {
            "applied_filters": [],
            "dataframe_info": {
              "default_index_used": false,
              "orig_num_cols": 8,
              "orig_num_rows": 5,
              "orig_size_bytes": 340,
              "truncated_num_cols": 8,
              "truncated_num_rows": 5,
              "truncated_size_bytes": 340,
              "truncated_string_columns": []
            },
            "display_id": "2eda85ec-29f5-43d9-9dd3-dcc7bae4ea25",
            "dx_settings": {
              "ALLOW_NOTEABLE_ATTRS": true,
              "COLUMN_SAMPLING_METHOD": "outer",
              "DB_LOCATION": ":memory:",
              "DEV_MODE": false,
              "DISPLAY_MAX_COLUMNS": 100,
              "DISPLAY_MAX_ROWS": 50000,
              "DISPLAY_MODE": "simple",
              "ENABLE_ASSIGNMENT": true,
              "ENABLE_DATALINK": true,
              "FLATTEN_COLUMN_VALUES": true,
              "FLATTEN_INDEX_VALUES": false,
              "GENERATE_DEX_METADATA": false,
              "HTML_TABLE_SCHEMA": false,
              "LOG_LEVEL": 30,
              "MAX_RENDER_SIZE_BYTES": 104857600,
              "MAX_STRING_LENGTH": 250,
              "NUM_PAST_SAMPLES_TRACKED": 3,
              "RANDOM_STATE": 12648430,
              "RESET_INDEX_VALUES": false,
              "ROW_SAMPLING_METHOD": "random",
              "SAMPLING_FACTOR": 0.1,
              "SAMPLING_METHOD": "random",
              "STRINGIFY_COLUMN_VALUES": true,
              "STRINGIFY_INDEX_VALUES": false
            },
            "sample_history": [],
            "sampling_time": "2023-08-21T01:33:28.727941",
            "user_variable_name": null,
            "variable_name": "unk_dataframe_7f09f827e2924455ae5ccc2feeb70e4c"
          },
          "fec427dd-3b4b-4ab3-8279-9f6a19f52ccc": {
            "applied_filters": [],
            "dataframe_info": {
              "default_index_used": false,
              "orig_num_cols": 8,
              "orig_num_rows": 5,
              "orig_size_bytes": 340,
              "truncated_num_cols": 8,
              "truncated_num_rows": 5,
              "truncated_size_bytes": 340,
              "truncated_string_columns": []
            },
            "display_id": "fec427dd-3b4b-4ab3-8279-9f6a19f52ccc",
            "dx_settings": {
              "ALLOW_NOTEABLE_ATTRS": true,
              "COLUMN_SAMPLING_METHOD": "outer",
              "DB_LOCATION": ":memory:",
              "DEV_MODE": false,
              "DISPLAY_MAX_COLUMNS": 100,
              "DISPLAY_MAX_ROWS": 50000,
              "DISPLAY_MODE": "simple",
              "ENABLE_ASSIGNMENT": true,
              "ENABLE_DATALINK": true,
              "FLATTEN_COLUMN_VALUES": true,
              "FLATTEN_INDEX_VALUES": false,
              "GENERATE_DEX_METADATA": false,
              "HTML_TABLE_SCHEMA": false,
              "LOG_LEVEL": 30,
              "MAX_RENDER_SIZE_BYTES": 104857600,
              "MAX_STRING_LENGTH": 250,
              "NUM_PAST_SAMPLES_TRACKED": 3,
              "RANDOM_STATE": 12648430,
              "RESET_INDEX_VALUES": false,
              "ROW_SAMPLING_METHOD": "random",
              "SAMPLING_FACTOR": 0.1,
              "SAMPLING_METHOD": "random",
              "STRINGIFY_COLUMN_VALUES": true,
              "STRINGIFY_INDEX_VALUES": false
            },
            "sample_history": [],
            "sampling_time": "2023-08-21T23:41:38.878254",
            "user_variable_name": null,
            "variable_name": "unk_dataframe_b47dab9b25044b24be7663fa15995cb5"
          },
          "d2cdd451-6199-4fab-a79c-b0c145d73c8a": {
            "dataframe_info": {
              "default_index_used": false,
              "orig_size_bytes": 340,
              "orig_num_rows": 5,
              "orig_num_cols": 8,
              "truncated_string_columns": [],
              "truncated_size_bytes": 340,
              "truncated_num_rows": 5,
              "truncated_num_cols": 8
            },
            "dx_settings": {
              "LOG_LEVEL": 30,
              "DEV_MODE": false,
              "DISPLAY_MAX_ROWS": 50000,
              "DISPLAY_MAX_COLUMNS": 100,
              "HTML_TABLE_SCHEMA": false,
              "MAX_RENDER_SIZE_BYTES": 104857600,
              "MAX_STRING_LENGTH": 250,
              "SAMPLING_FACTOR": 0.1,
              "DISPLAY_MODE": "simple",
              "SAMPLING_METHOD": "random",
              "COLUMN_SAMPLING_METHOD": "outer",
              "ROW_SAMPLING_METHOD": "random",
              "RANDOM_STATE": 12648430,
              "RESET_INDEX_VALUES": false,
              "FLATTEN_INDEX_VALUES": false,
              "FLATTEN_COLUMN_VALUES": true,
              "STRINGIFY_INDEX_VALUES": false,
              "STRINGIFY_COLUMN_VALUES": true,
              "ENABLE_DATALINK": true,
              "ENABLE_ASSIGNMENT": true,
              "NUM_PAST_SAMPLES_TRACKED": 3,
              "DB_LOCATION": ":memory:",
              "GENERATE_DEX_METADATA": false,
              "ALLOW_NOTEABLE_ATTRS": true
            },
            "display_id": "d2cdd451-6199-4fab-a79c-b0c145d73c8a",
            "applied_filters": [],
            "sample_history": [],
            "sampling_time": "2023-08-21T23:56:17.002709",
            "variable_name": "unk_dataframe_b2d5c82476c5463284f6a6345551a217",
            "user_variable_name": null
          },
          "7197eaf5-f7bd-4af5-b664-95833f27f16a": {
            "dataframe_info": {
              "default_index_used": false,
              "orig_size_bytes": 340,
              "orig_num_rows": 5,
              "orig_num_cols": 8,
              "truncated_string_columns": [],
              "truncated_size_bytes": 340,
              "truncated_num_rows": 5,
              "truncated_num_cols": 8
            },
            "dx_settings": {
              "LOG_LEVEL": 30,
              "DEV_MODE": false,
              "DISPLAY_MAX_ROWS": 50000,
              "DISPLAY_MAX_COLUMNS": 100,
              "HTML_TABLE_SCHEMA": false,
              "MAX_RENDER_SIZE_BYTES": 104857600,
              "MAX_STRING_LENGTH": 250,
              "SAMPLING_FACTOR": 0.1,
              "DISPLAY_MODE": "simple",
              "SAMPLING_METHOD": "random",
              "COLUMN_SAMPLING_METHOD": "outer",
              "ROW_SAMPLING_METHOD": "random",
              "RANDOM_STATE": 12648430,
              "RESET_INDEX_VALUES": false,
              "FLATTEN_INDEX_VALUES": false,
              "FLATTEN_COLUMN_VALUES": true,
              "STRINGIFY_INDEX_VALUES": false,
              "STRINGIFY_COLUMN_VALUES": true,
              "ENABLE_DATALINK": true,
              "ENABLE_ASSIGNMENT": true,
              "NUM_PAST_SAMPLES_TRACKED": 3,
              "DB_LOCATION": ":memory:",
              "GENERATE_DEX_METADATA": false,
              "ALLOW_NOTEABLE_ATTRS": true
            },
            "display_id": "7197eaf5-f7bd-4af5-b664-95833f27f16a",
            "applied_filters": [],
            "sample_history": [],
            "sampling_time": "2023-08-22T00:01:08.440802",
            "variable_name": "unk_dataframe_50ce5d727d114d35953944161cd39ee4",
            "user_variable_name": null
          },
          "fe122842-5408-4f1e-99af-516cbcf5ae28": {
            "dataframe_info": {
              "default_index_used": false,
              "orig_size_bytes": 340,
              "orig_num_rows": 5,
              "orig_num_cols": 8,
              "truncated_string_columns": [],
              "truncated_size_bytes": 340,
              "truncated_num_rows": 5,
              "truncated_num_cols": 8
            },
            "dx_settings": {
              "LOG_LEVEL": 30,
              "DEV_MODE": false,
              "DISPLAY_MAX_ROWS": 50000,
              "DISPLAY_MAX_COLUMNS": 100,
              "HTML_TABLE_SCHEMA": false,
              "MAX_RENDER_SIZE_BYTES": 104857600,
              "MAX_STRING_LENGTH": 250,
              "SAMPLING_FACTOR": 0.1,
              "DISPLAY_MODE": "simple",
              "SAMPLING_METHOD": "random",
              "COLUMN_SAMPLING_METHOD": "outer",
              "ROW_SAMPLING_METHOD": "random",
              "RANDOM_STATE": 12648430,
              "RESET_INDEX_VALUES": false,
              "FLATTEN_INDEX_VALUES": false,
              "FLATTEN_COLUMN_VALUES": true,
              "STRINGIFY_INDEX_VALUES": false,
              "STRINGIFY_COLUMN_VALUES": true,
              "ENABLE_DATALINK": true,
              "ENABLE_ASSIGNMENT": true,
              "NUM_PAST_SAMPLES_TRACKED": 3,
              "DB_LOCATION": ":memory:",
              "GENERATE_DEX_METADATA": false,
              "ALLOW_NOTEABLE_ATTRS": true
            },
            "display_id": "fe122842-5408-4f1e-99af-516cbcf5ae28",
            "applied_filters": [],
            "sample_history": [],
            "sampling_time": "2023-08-22T00:13:16.609372",
            "variable_name": "unk_dataframe_5895d019405342ae9f8393816b803723",
            "user_variable_name": null
          },
          "863f7bf7-4576-41af-ab44-7a3feb3ccdde": {
            "dataframe_info": {
              "default_index_used": false,
              "orig_size_bytes": 340,
              "orig_num_rows": 5,
              "orig_num_cols": 8,
              "truncated_string_columns": [],
              "truncated_size_bytes": 340,
              "truncated_num_rows": 5,
              "truncated_num_cols": 8
            },
            "dx_settings": {
              "LOG_LEVEL": 30,
              "DEV_MODE": false,
              "DISPLAY_MAX_ROWS": 50000,
              "DISPLAY_MAX_COLUMNS": 100,
              "HTML_TABLE_SCHEMA": false,
              "MAX_RENDER_SIZE_BYTES": 104857600,
              "MAX_STRING_LENGTH": 250,
              "SAMPLING_FACTOR": 0.1,
              "DISPLAY_MODE": "simple",
              "SAMPLING_METHOD": "random",
              "COLUMN_SAMPLING_METHOD": "outer",
              "ROW_SAMPLING_METHOD": "random",
              "RANDOM_STATE": 12648430,
              "RESET_INDEX_VALUES": false,
              "FLATTEN_INDEX_VALUES": false,
              "FLATTEN_COLUMN_VALUES": true,
              "STRINGIFY_INDEX_VALUES": false,
              "STRINGIFY_COLUMN_VALUES": true,
              "ENABLE_DATALINK": true,
              "ENABLE_ASSIGNMENT": true,
              "NUM_PAST_SAMPLES_TRACKED": 3,
              "DB_LOCATION": ":memory:",
              "GENERATE_DEX_METADATA": false,
              "ALLOW_NOTEABLE_ATTRS": true
            },
            "display_id": "863f7bf7-4576-41af-ab44-7a3feb3ccdde",
            "applied_filters": [],
            "sample_history": [],
            "sampling_time": "2023-08-22T00:20:28.246129",
            "variable_name": "unk_dataframe_4c31cf68fd934651a10fee6ba95fcf94",
            "user_variable_name": null
          },
          "c073d286-5175-4859-94fe-bc3aad3a49ed": {
            "dataframe_info": {
              "default_index_used": false,
              "orig_size_bytes": 340,
              "orig_num_rows": 5,
              "orig_num_cols": 8,
              "truncated_string_columns": [],
              "truncated_size_bytes": 340,
              "truncated_num_rows": 5,
              "truncated_num_cols": 8
            },
            "dx_settings": {
              "LOG_LEVEL": 30,
              "DEV_MODE": false,
              "DISPLAY_MAX_ROWS": 50000,
              "DISPLAY_MAX_COLUMNS": 100,
              "HTML_TABLE_SCHEMA": false,
              "MAX_RENDER_SIZE_BYTES": 104857600,
              "MAX_STRING_LENGTH": 250,
              "SAMPLING_FACTOR": 0.1,
              "DISPLAY_MODE": "simple",
              "SAMPLING_METHOD": "random",
              "COLUMN_SAMPLING_METHOD": "outer",
              "ROW_SAMPLING_METHOD": "random",
              "RANDOM_STATE": 12648430,
              "RESET_INDEX_VALUES": false,
              "FLATTEN_INDEX_VALUES": false,
              "FLATTEN_COLUMN_VALUES": true,
              "STRINGIFY_INDEX_VALUES": false,
              "STRINGIFY_COLUMN_VALUES": true,
              "ENABLE_DATALINK": true,
              "ENABLE_ASSIGNMENT": true,
              "NUM_PAST_SAMPLES_TRACKED": 3,
              "DB_LOCATION": ":memory:",
              "GENERATE_DEX_METADATA": false,
              "ALLOW_NOTEABLE_ATTRS": true
            },
            "display_id": "c073d286-5175-4859-94fe-bc3aad3a49ed",
            "applied_filters": [],
            "sample_history": [],
            "sampling_time": "2023-08-22T00:25:36.655228",
            "variable_name": "unk_dataframe_04d1f7b050974f2187a9ffd3e6a8e87a",
            "user_variable_name": null
          }
        }
      },
      "id": "cbd83c7d"
    },
    {
      "cell_type": "code",
      "source": [
        "import seaborn as sns\n",
        "import matplotlib.pyplot as plt\n",
        "\n",
        "# Create a scatter plot using seaborn\n",
        "sns.scatterplot(x=\"price_change_percentage_24h\", y=\"price_change_percentage_7d\", hue=\"labels\", data=df_with_clusters)\n",
        "plt.show()"
      ],
      "outputs": [
        {
          "output_type": "display_data",
          "data": {
            "image/png": "[encoded data removed]"
          },
          "metadata": {}
        }
      ],
      "execution_count": 16,
      "metadata": {
        "noteable": {},
        "ExecuteTime": {
          "start_time": "2023-08-22T00:25:36.878169+00:00",
          "end_time": "2023-08-22T00:25:37.424672+00:00"
        }
      },
      "id": "cb7c2012"
    },
    {
      "cell_type": "markdown",
      "source": [
        "---"
      ],
      "metadata": {},
      "id": "07359fe3"
    },
    {
      "cell_type": "markdown",
      "source": [
        "### Optimize Clusters with Principal Component Analysis."
      ],
      "metadata": {},
      "id": "44bf887b"
    },
    {
      "cell_type": "code",
      "source": [
        "from sklearn.decomposition import PCA\n",
        "\n",
        "# Create a PCA model instance and set n_components=3\n",
        "pca_model = PCA(n_components=3)"
      ],
      "outputs": [],
      "execution_count": 17,
      "metadata": {
        "noteable": {},
        "ExecuteTime": {
          "start_time": "2023-08-22T00:25:37.631831+00:00",
          "end_time": "2023-08-22T00:25:37.787705+00:00"
        }
      },
      "id": "68a91752"
    },
    {
      "cell_type": "code",
      "source": [
        "# Use the PCA model with fit_transform to reduce to three principal components\n",
        "pca_data = pca_model.fit_transform(df_with_clusters.drop(columns=['labels']))\n",
        "\n",
        "# Create a DataFrame with the PCA data\n",
        "df_pca = pd.DataFrame(data=pca_data, columns=['PC1', 'PC2', 'PC3'])\n",
        "\n",
        "# View the first five rows of the DataFrame\n",
        "df_pca.head()"
      ],
      "outputs": [
        {
          "output_type": "display_data",
          "data": {
            "application/vnd.dataresource+json": {
              "schema": {
                "fields": [
                  {
                    "name": "index",
                    "type": "integer"
                  },
                  {
                    "name": "PC1",
                    "type": "number"
                  },
                  {
                    "name": "PC2",
                    "type": "number"
                  },
                  {
                    "name": "PC3",
                    "type": "number"
                  }
                ],
                "primaryKey": [
                  "index"
                ],
                "pandas_version": "1.4.0"
              },
              "data": [
                {
                  "index": 0,
                  "PC1": -0.6006673254375187,
                  "PC2": 0.8427600624855407,
                  "PC3": 0.46159456811059446
                },
                {
                  "index": 1,
                  "PC1": -0.45826071401032026,
                  "PC2": 0.45846566446288217,
                  "PC3": 0.9528767837135823
                },
                {
                  "index": 2,
                  "PC1": -0.43306980513657195,
                  "PC2": -0.16812638169325284,
                  "PC3": -0.6417519291406768
                },
                {
                  "index": 3,
                  "PC1": -0.47183494873890003,
                  "PC2": -0.22266007696009324,
                  "PC3": -0.4790531575755722
                },
                {
                  "index": 4,
                  "PC1": -1.1577999724406365,
                  "PC2": 2.041209185241838,
                  "PC3": 1.8597152736981137
                }
              ],
              "datalink": {
                "display_id": "b58551fe-5d93-43e9-8a10-632dba85e3aa"
              }
            }
          },
          "metadata": {
            "application/vnd.dataresource+json": {
              "datalink": {
                "dataframe_info": {
                  "default_index_used": true,
                  "orig_size_bytes": 160,
                  "orig_num_rows": 5,
                  "orig_num_cols": 3,
                  "truncated_string_columns": [],
                  "truncated_size_bytes": 160,
                  "truncated_num_rows": 5,
                  "truncated_num_cols": 3
                },
                "dx_settings": {
                  "NUM_PAST_SAMPLES_TRACKED": 3,
                  "ENABLE_DATALINK": true,
                  "DISPLAY_MODE": "simple",
                  "GENERATE_DEX_METADATA": false,
                  "STRINGIFY_INDEX_VALUES": false,
                  "ALLOW_NOTEABLE_ATTRS": true,
                  "DISPLAY_MAX_COLUMNS": 100,
                  "HTML_TABLE_SCHEMA": false,
                  "SAMPLING_FACTOR": 0.1,
                  "LOG_LEVEL": 30,
                  "ENABLE_ASSIGNMENT": true,
                  "FLATTEN_INDEX_VALUES": false,
                  "DEV_MODE": false,
                  "COLUMN_SAMPLING_METHOD": "outer",
                  "FLATTEN_COLUMN_VALUES": true,
                  "DISPLAY_MAX_ROWS": 50000,
                  "ROW_SAMPLING_METHOD": "random",
                  "RANDOM_STATE": 12648430,
                  "DB_LOCATION": ":memory:",
                  "STRINGIFY_COLUMN_VALUES": true,
                  "SAMPLING_METHOD": "random",
                  "MAX_STRING_LENGTH": 250,
                  "MAX_RENDER_SIZE_BYTES": 104857600,
                  "RESET_INDEX_VALUES": false
                },
                "display_id": "b58551fe-5d93-43e9-8a10-632dba85e3aa",
                "applied_filters": [],
                "sample_history": [],
                "sampling_time": "2023-08-22T00:25:37.960886",
                "variable_name": "unk_dataframe_f8e3e6b5e2ac471a9e7732b4c3265349",
                "user_variable_name": null
              },
              "display_id": "b58551fe-5d93-43e9-8a10-632dba85e3aa"
            }
          }
        }
      ],
      "execution_count": 18,
      "metadata": {
        "noteable": {},
        "ExecuteTime": {
          "start_time": "2023-08-22T00:25:37.798257+00:00",
          "end_time": "2023-08-22T00:25:38.125117+00:00"
        },
        "datalink": {
          "46bf914e-d4c7-494d-bab7-e71ba91345cc": {
            "applied_filters": [],
            "dataframe_info": {
              "default_index_used": true,
              "orig_num_cols": 3,
              "orig_num_rows": 5,
              "orig_size_bytes": 160,
              "truncated_num_cols": 3,
              "truncated_num_rows": 5,
              "truncated_size_bytes": 160,
              "truncated_string_columns": []
            },
            "display_id": "46bf914e-d4c7-494d-bab7-e71ba91345cc",
            "dx_settings": {
              "ALLOW_NOTEABLE_ATTRS": true,
              "COLUMN_SAMPLING_METHOD": "outer",
              "DB_LOCATION": ":memory:",
              "DEV_MODE": false,
              "DISPLAY_MAX_COLUMNS": 100,
              "DISPLAY_MAX_ROWS": 50000,
              "DISPLAY_MODE": "simple",
              "ENABLE_ASSIGNMENT": true,
              "ENABLE_DATALINK": true,
              "FLATTEN_COLUMN_VALUES": true,
              "FLATTEN_INDEX_VALUES": false,
              "GENERATE_DEX_METADATA": false,
              "HTML_TABLE_SCHEMA": false,
              "LOG_LEVEL": 30,
              "MAX_RENDER_SIZE_BYTES": 104857600,
              "MAX_STRING_LENGTH": 250,
              "NUM_PAST_SAMPLES_TRACKED": 3,
              "RANDOM_STATE": 12648430,
              "RESET_INDEX_VALUES": false,
              "ROW_SAMPLING_METHOD": "random",
              "SAMPLING_FACTOR": 0.1,
              "SAMPLING_METHOD": "random",
              "STRINGIFY_COLUMN_VALUES": true,
              "STRINGIFY_INDEX_VALUES": false
            },
            "sample_history": [],
            "sampling_time": "2023-08-08T20:23:08.162726",
            "user_variable_name": null,
            "variable_name": "unk_dataframe_594b3fb76a45473d981acddd8a484b8d"
          },
          "6ef676f0-170e-4f32-9c0d-0c136f983705": {
            "applied_filters": [],
            "dataframe_info": {
              "default_index_used": true,
              "orig_num_cols": 3,
              "orig_num_rows": 5,
              "orig_size_bytes": 160,
              "truncated_num_cols": 3,
              "truncated_num_rows": 5,
              "truncated_size_bytes": 160,
              "truncated_string_columns": []
            },
            "display_id": "6ef676f0-170e-4f32-9c0d-0c136f983705",
            "dx_settings": {
              "ALLOW_NOTEABLE_ATTRS": true,
              "COLUMN_SAMPLING_METHOD": "outer",
              "DB_LOCATION": ":memory:",
              "DEV_MODE": false,
              "DISPLAY_MAX_COLUMNS": 100,
              "DISPLAY_MAX_ROWS": 50000,
              "DISPLAY_MODE": "simple",
              "ENABLE_ASSIGNMENT": true,
              "ENABLE_DATALINK": true,
              "FLATTEN_COLUMN_VALUES": true,
              "FLATTEN_INDEX_VALUES": false,
              "GENERATE_DEX_METADATA": false,
              "HTML_TABLE_SCHEMA": false,
              "LOG_LEVEL": 30,
              "MAX_RENDER_SIZE_BYTES": 104857600,
              "MAX_STRING_LENGTH": 250,
              "NUM_PAST_SAMPLES_TRACKED": 3,
              "RANDOM_STATE": 12648430,
              "RESET_INDEX_VALUES": false,
              "ROW_SAMPLING_METHOD": "random",
              "SAMPLING_FACTOR": 0.1,
              "SAMPLING_METHOD": "random",
              "STRINGIFY_COLUMN_VALUES": true,
              "STRINGIFY_INDEX_VALUES": false
            },
            "sample_history": [],
            "sampling_time": "2023-08-20T05:21:46.996702",
            "user_variable_name": null,
            "variable_name": "unk_dataframe_4b3ffad76898486a83fe9b8b8cc6cd9f"
          },
          "b61481e5-2e2f-4f50-8589-81260d046ca3": {
            "applied_filters": [],
            "dataframe_info": {
              "default_index_used": true,
              "orig_num_cols": 3,
              "orig_num_rows": 5,
              "orig_size_bytes": 160,
              "truncated_num_cols": 3,
              "truncated_num_rows": 5,
              "truncated_size_bytes": 160,
              "truncated_string_columns": []
            },
            "display_id": "b61481e5-2e2f-4f50-8589-81260d046ca3",
            "dx_settings": {
              "ALLOW_NOTEABLE_ATTRS": true,
              "COLUMN_SAMPLING_METHOD": "outer",
              "DB_LOCATION": ":memory:",
              "DEV_MODE": false,
              "DISPLAY_MAX_COLUMNS": 100,
              "DISPLAY_MAX_ROWS": 50000,
              "DISPLAY_MODE": "simple",
              "ENABLE_ASSIGNMENT": true,
              "ENABLE_DATALINK": true,
              "FLATTEN_COLUMN_VALUES": true,
              "FLATTEN_INDEX_VALUES": false,
              "GENERATE_DEX_METADATA": false,
              "HTML_TABLE_SCHEMA": false,
              "LOG_LEVEL": 30,
              "MAX_RENDER_SIZE_BYTES": 104857600,
              "MAX_STRING_LENGTH": 250,
              "NUM_PAST_SAMPLES_TRACKED": 3,
              "RANDOM_STATE": 12648430,
              "RESET_INDEX_VALUES": false,
              "ROW_SAMPLING_METHOD": "random",
              "SAMPLING_FACTOR": 0.1,
              "SAMPLING_METHOD": "random",
              "STRINGIFY_COLUMN_VALUES": true,
              "STRINGIFY_INDEX_VALUES": false
            },
            "sample_history": [],
            "sampling_time": "2023-08-20T14:06:03.837966",
            "user_variable_name": null,
            "variable_name": "unk_dataframe_746e970cdf7c4b528f3dfb6448c8b0e2"
          },
          "8bfff54c-2301-49d2-b808-ac77dc2c565e": {
            "applied_filters": [],
            "dataframe_info": {
              "default_index_used": true,
              "orig_num_cols": 3,
              "orig_num_rows": 5,
              "orig_size_bytes": 160,
              "truncated_num_cols": 3,
              "truncated_num_rows": 5,
              "truncated_size_bytes": 160,
              "truncated_string_columns": []
            },
            "display_id": "8bfff54c-2301-49d2-b808-ac77dc2c565e",
            "dx_settings": {
              "ALLOW_NOTEABLE_ATTRS": true,
              "COLUMN_SAMPLING_METHOD": "outer",
              "DB_LOCATION": ":memory:",
              "DEV_MODE": false,
              "DISPLAY_MAX_COLUMNS": 100,
              "DISPLAY_MAX_ROWS": 50000,
              "DISPLAY_MODE": "simple",
              "ENABLE_ASSIGNMENT": true,
              "ENABLE_DATALINK": true,
              "FLATTEN_COLUMN_VALUES": true,
              "FLATTEN_INDEX_VALUES": false,
              "GENERATE_DEX_METADATA": false,
              "HTML_TABLE_SCHEMA": false,
              "LOG_LEVEL": 30,
              "MAX_RENDER_SIZE_BYTES": 104857600,
              "MAX_STRING_LENGTH": 250,
              "NUM_PAST_SAMPLES_TRACKED": 3,
              "RANDOM_STATE": 12648430,
              "RESET_INDEX_VALUES": false,
              "ROW_SAMPLING_METHOD": "random",
              "SAMPLING_FACTOR": 0.1,
              "SAMPLING_METHOD": "random",
              "STRINGIFY_COLUMN_VALUES": true,
              "STRINGIFY_INDEX_VALUES": false
            },
            "sample_history": [],
            "sampling_time": "2023-08-20T14:49:53.544924",
            "user_variable_name": null,
            "variable_name": "unk_dataframe_8f1190c62e104373b1a4d2076694b99f"
          },
          "eaac2d6d-e3e6-41ad-857c-66fe80372ac4": {
            "applied_filters": [],
            "dataframe_info": {
              "default_index_used": true,
              "orig_num_cols": 3,
              "orig_num_rows": 5,
              "orig_size_bytes": 160,
              "truncated_num_cols": 3,
              "truncated_num_rows": 5,
              "truncated_size_bytes": 160,
              "truncated_string_columns": []
            },
            "display_id": "eaac2d6d-e3e6-41ad-857c-66fe80372ac4",
            "dx_settings": {
              "ALLOW_NOTEABLE_ATTRS": true,
              "COLUMN_SAMPLING_METHOD": "outer",
              "DB_LOCATION": ":memory:",
              "DEV_MODE": false,
              "DISPLAY_MAX_COLUMNS": 100,
              "DISPLAY_MAX_ROWS": 50000,
              "DISPLAY_MODE": "simple",
              "ENABLE_ASSIGNMENT": true,
              "ENABLE_DATALINK": true,
              "FLATTEN_COLUMN_VALUES": true,
              "FLATTEN_INDEX_VALUES": false,
              "GENERATE_DEX_METADATA": false,
              "HTML_TABLE_SCHEMA": false,
              "LOG_LEVEL": 30,
              "MAX_RENDER_SIZE_BYTES": 104857600,
              "MAX_STRING_LENGTH": 250,
              "NUM_PAST_SAMPLES_TRACKED": 3,
              "RANDOM_STATE": 12648430,
              "RESET_INDEX_VALUES": false,
              "ROW_SAMPLING_METHOD": "random",
              "SAMPLING_FACTOR": 0.1,
              "SAMPLING_METHOD": "random",
              "STRINGIFY_COLUMN_VALUES": true,
              "STRINGIFY_INDEX_VALUES": false
            },
            "sample_history": [],
            "sampling_time": "2023-08-21T01:33:29.906707",
            "user_variable_name": null,
            "variable_name": "unk_dataframe_358a9fe8fbdf4444a3d6718a84a0f1d8"
          },
          "fdfd827c-b35b-466d-9b0f-bbc96deec66f": {
            "applied_filters": [],
            "dataframe_info": {
              "default_index_used": true,
              "orig_num_cols": 3,
              "orig_num_rows": 5,
              "orig_size_bytes": 160,
              "truncated_num_cols": 3,
              "truncated_num_rows": 5,
              "truncated_size_bytes": 160,
              "truncated_string_columns": []
            },
            "display_id": "fdfd827c-b35b-466d-9b0f-bbc96deec66f",
            "dx_settings": {
              "ALLOW_NOTEABLE_ATTRS": true,
              "COLUMN_SAMPLING_METHOD": "outer",
              "DB_LOCATION": ":memory:",
              "DEV_MODE": false,
              "DISPLAY_MAX_COLUMNS": 100,
              "DISPLAY_MAX_ROWS": 50000,
              "DISPLAY_MODE": "simple",
              "ENABLE_ASSIGNMENT": true,
              "ENABLE_DATALINK": true,
              "FLATTEN_COLUMN_VALUES": true,
              "FLATTEN_INDEX_VALUES": false,
              "GENERATE_DEX_METADATA": false,
              "HTML_TABLE_SCHEMA": false,
              "LOG_LEVEL": 30,
              "MAX_RENDER_SIZE_BYTES": 104857600,
              "MAX_STRING_LENGTH": 250,
              "NUM_PAST_SAMPLES_TRACKED": 3,
              "RANDOM_STATE": 12648430,
              "RESET_INDEX_VALUES": false,
              "ROW_SAMPLING_METHOD": "random",
              "SAMPLING_FACTOR": 0.1,
              "SAMPLING_METHOD": "random",
              "STRINGIFY_COLUMN_VALUES": true,
              "STRINGIFY_INDEX_VALUES": false
            },
            "sample_history": [],
            "sampling_time": "2023-08-21T23:41:40.111685",
            "user_variable_name": null,
            "variable_name": "unk_dataframe_c47c4828f8e743dc8b5ef326ac082ea5"
          },
          "01adb9d7-c699-4a21-ae2e-934f6349835d": {
            "dataframe_info": {
              "default_index_used": true,
              "orig_size_bytes": 160,
              "orig_num_rows": 5,
              "orig_num_cols": 3,
              "truncated_string_columns": [],
              "truncated_size_bytes": 160,
              "truncated_num_rows": 5,
              "truncated_num_cols": 3
            },
            "dx_settings": {
              "LOG_LEVEL": 30,
              "DEV_MODE": false,
              "DISPLAY_MAX_ROWS": 50000,
              "DISPLAY_MAX_COLUMNS": 100,
              "HTML_TABLE_SCHEMA": false,
              "MAX_RENDER_SIZE_BYTES": 104857600,
              "MAX_STRING_LENGTH": 250,
              "SAMPLING_FACTOR": 0.1,
              "DISPLAY_MODE": "simple",
              "SAMPLING_METHOD": "random",
              "COLUMN_SAMPLING_METHOD": "outer",
              "ROW_SAMPLING_METHOD": "random",
              "RANDOM_STATE": 12648430,
              "RESET_INDEX_VALUES": false,
              "FLATTEN_INDEX_VALUES": false,
              "FLATTEN_COLUMN_VALUES": true,
              "STRINGIFY_INDEX_VALUES": false,
              "STRINGIFY_COLUMN_VALUES": true,
              "ENABLE_DATALINK": true,
              "ENABLE_ASSIGNMENT": true,
              "NUM_PAST_SAMPLES_TRACKED": 3,
              "DB_LOCATION": ":memory:",
              "GENERATE_DEX_METADATA": false,
              "ALLOW_NOTEABLE_ATTRS": true
            },
            "display_id": "01adb9d7-c699-4a21-ae2e-934f6349835d",
            "applied_filters": [],
            "sample_history": [],
            "sampling_time": "2023-08-21T23:56:18.219007",
            "variable_name": "unk_dataframe_88519c234e05421aacc7fb11f9e9af53",
            "user_variable_name": null
          },
          "d1e845f5-3381-4d9a-b1d8-8fd8062bf3a3": {
            "dataframe_info": {
              "default_index_used": true,
              "orig_size_bytes": 160,
              "orig_num_rows": 5,
              "orig_num_cols": 3,
              "truncated_string_columns": [],
              "truncated_size_bytes": 160,
              "truncated_num_rows": 5,
              "truncated_num_cols": 3
            },
            "dx_settings": {
              "LOG_LEVEL": 30,
              "DEV_MODE": false,
              "DISPLAY_MAX_ROWS": 50000,
              "DISPLAY_MAX_COLUMNS": 100,
              "HTML_TABLE_SCHEMA": false,
              "MAX_RENDER_SIZE_BYTES": 104857600,
              "MAX_STRING_LENGTH": 250,
              "SAMPLING_FACTOR": 0.1,
              "DISPLAY_MODE": "simple",
              "SAMPLING_METHOD": "random",
              "COLUMN_SAMPLING_METHOD": "outer",
              "ROW_SAMPLING_METHOD": "random",
              "RANDOM_STATE": 12648430,
              "RESET_INDEX_VALUES": false,
              "FLATTEN_INDEX_VALUES": false,
              "FLATTEN_COLUMN_VALUES": true,
              "STRINGIFY_INDEX_VALUES": false,
              "STRINGIFY_COLUMN_VALUES": true,
              "ENABLE_DATALINK": true,
              "ENABLE_ASSIGNMENT": true,
              "NUM_PAST_SAMPLES_TRACKED": 3,
              "DB_LOCATION": ":memory:",
              "GENERATE_DEX_METADATA": false,
              "ALLOW_NOTEABLE_ATTRS": true
            },
            "display_id": "d1e845f5-3381-4d9a-b1d8-8fd8062bf3a3",
            "applied_filters": [],
            "sample_history": [],
            "sampling_time": "2023-08-22T00:01:09.781471",
            "variable_name": "unk_dataframe_8b3e744234e749e388b8d47accd8eb28",
            "user_variable_name": null
          },
          "199c0c3f-4144-41ac-9ef2-c2cddef9e960": {
            "dataframe_info": {
              "default_index_used": true,
              "orig_size_bytes": 160,
              "orig_num_rows": 5,
              "orig_num_cols": 3,
              "truncated_string_columns": [],
              "truncated_size_bytes": 160,
              "truncated_num_rows": 5,
              "truncated_num_cols": 3
            },
            "dx_settings": {
              "LOG_LEVEL": 30,
              "DEV_MODE": false,
              "DISPLAY_MAX_ROWS": 50000,
              "DISPLAY_MAX_COLUMNS": 100,
              "HTML_TABLE_SCHEMA": false,
              "MAX_RENDER_SIZE_BYTES": 104857600,
              "MAX_STRING_LENGTH": 250,
              "SAMPLING_FACTOR": 0.1,
              "DISPLAY_MODE": "simple",
              "SAMPLING_METHOD": "random",
              "COLUMN_SAMPLING_METHOD": "outer",
              "ROW_SAMPLING_METHOD": "random",
              "RANDOM_STATE": 12648430,
              "RESET_INDEX_VALUES": false,
              "FLATTEN_INDEX_VALUES": false,
              "FLATTEN_COLUMN_VALUES": true,
              "STRINGIFY_INDEX_VALUES": false,
              "STRINGIFY_COLUMN_VALUES": true,
              "ENABLE_DATALINK": true,
              "ENABLE_ASSIGNMENT": true,
              "NUM_PAST_SAMPLES_TRACKED": 3,
              "DB_LOCATION": ":memory:",
              "GENERATE_DEX_METADATA": false,
              "ALLOW_NOTEABLE_ATTRS": true
            },
            "display_id": "199c0c3f-4144-41ac-9ef2-c2cddef9e960",
            "applied_filters": [],
            "sample_history": [],
            "sampling_time": "2023-08-22T00:13:17.945504",
            "variable_name": "unk_dataframe_39859e728d3b4a11a60cfaba980e5028",
            "user_variable_name": null
          },
          "83b9a48b-c04c-4081-9cee-a31f1d4746c9": {
            "dataframe_info": {
              "default_index_used": true,
              "orig_size_bytes": 160,
              "orig_num_rows": 5,
              "orig_num_cols": 3,
              "truncated_string_columns": [],
              "truncated_size_bytes": 160,
              "truncated_num_rows": 5,
              "truncated_num_cols": 3
            },
            "dx_settings": {
              "LOG_LEVEL": 30,
              "DEV_MODE": false,
              "DISPLAY_MAX_ROWS": 50000,
              "DISPLAY_MAX_COLUMNS": 100,
              "HTML_TABLE_SCHEMA": false,
              "MAX_RENDER_SIZE_BYTES": 104857600,
              "MAX_STRING_LENGTH": 250,
              "SAMPLING_FACTOR": 0.1,
              "DISPLAY_MODE": "simple",
              "SAMPLING_METHOD": "random",
              "COLUMN_SAMPLING_METHOD": "outer",
              "ROW_SAMPLING_METHOD": "random",
              "RANDOM_STATE": 12648430,
              "RESET_INDEX_VALUES": false,
              "FLATTEN_INDEX_VALUES": false,
              "FLATTEN_COLUMN_VALUES": true,
              "STRINGIFY_INDEX_VALUES": false,
              "STRINGIFY_COLUMN_VALUES": true,
              "ENABLE_DATALINK": true,
              "ENABLE_ASSIGNMENT": true,
              "NUM_PAST_SAMPLES_TRACKED": 3,
              "DB_LOCATION": ":memory:",
              "GENERATE_DEX_METADATA": false,
              "ALLOW_NOTEABLE_ATTRS": true
            },
            "display_id": "83b9a48b-c04c-4081-9cee-a31f1d4746c9",
            "applied_filters": [],
            "sample_history": [],
            "sampling_time": "2023-08-22T00:20:29.635134",
            "variable_name": "unk_dataframe_291c7eb553d84e01baf04a9bdf04884d",
            "user_variable_name": null
          },
          "b58551fe-5d93-43e9-8a10-632dba85e3aa": {
            "dataframe_info": {
              "default_index_used": true,
              "orig_size_bytes": 160,
              "orig_num_rows": 5,
              "orig_num_cols": 3,
              "truncated_string_columns": [],
              "truncated_size_bytes": 160,
              "truncated_num_rows": 5,
              "truncated_num_cols": 3
            },
            "dx_settings": {
              "LOG_LEVEL": 30,
              "DEV_MODE": false,
              "DISPLAY_MAX_ROWS": 50000,
              "DISPLAY_MAX_COLUMNS": 100,
              "HTML_TABLE_SCHEMA": false,
              "MAX_RENDER_SIZE_BYTES": 104857600,
              "MAX_STRING_LENGTH": 250,
              "SAMPLING_FACTOR": 0.1,
              "DISPLAY_MODE": "simple",
              "SAMPLING_METHOD": "random",
              "COLUMN_SAMPLING_METHOD": "outer",
              "ROW_SAMPLING_METHOD": "random",
              "RANDOM_STATE": 12648430,
              "RESET_INDEX_VALUES": false,
              "FLATTEN_INDEX_VALUES": false,
              "FLATTEN_COLUMN_VALUES": true,
              "STRINGIFY_INDEX_VALUES": false,
              "STRINGIFY_COLUMN_VALUES": true,
              "ENABLE_DATALINK": true,
              "ENABLE_ASSIGNMENT": true,
              "NUM_PAST_SAMPLES_TRACKED": 3,
              "DB_LOCATION": ":memory:",
              "GENERATE_DEX_METADATA": false,
              "ALLOW_NOTEABLE_ATTRS": true
            },
            "display_id": "b58551fe-5d93-43e9-8a10-632dba85e3aa",
            "applied_filters": [],
            "sample_history": [],
            "sampling_time": "2023-08-22T00:25:37.960886",
            "variable_name": "unk_dataframe_f8e3e6b5e2ac471a9e7732b4c3265349",
            "user_variable_name": null
          }
        }
      },
      "id": "65acb6b2"
    },
    {
      "cell_type": "code",
      "source": [
        "# Retrieve the explained variance\n",
        "explained_variance = pca_model.explained_variance_ratio_\n",
        "\n",
        "# Print the explained variance for each principal component\n",
        "explained_variance"
      ],
      "outputs": [
        {
          "output_type": "execute_result",
          "execution_count": null,
          "data": {
            "text/plain": "array([0.3719856 , 0.34700813, 0.17603793])"
          },
          "metadata": {}
        }
      ],
      "execution_count": 19,
      "metadata": {
        "noteable": {},
        "ExecuteTime": {
          "start_time": "2023-08-22T00:25:38.196214+00:00",
          "end_time": "2023-08-22T00:25:38.356083+00:00"
        }
      },
      "id": "e9c839ad"
    },
    {
      "cell_type": "code",
      "source": [
        "# Get the components from the fitted PCA model\n",
        "components = pca_model.components_\n",
        "\n",
        "# Create a DataFrame for better visualization\n",
        "components_df = pd.DataFrame(components, columns=df_with_clusters.drop(columns=['labels']).columns, index=[f'PC{i+1}' for i in range(components.shape[0])])\n",
        "\n",
        "print(components_df)\n"
      ],
      "outputs": [
        {
          "output_type": "stream",
          "name": "stdout",
          "text": [
            "     price_change_percentage_24h  price_change_percentage_7d  \\\n",
            "PC1                    -0.416728                   -0.102432   \n",
            "PC2                     0.358162                    0.227432   \n",
            "PC3                    -0.218795                    0.787670   \n",
            "\n",
            "     price_change_percentage_14d  price_change_percentage_30d  \\\n",
            "PC1                    -0.009162                     0.191523   \n",
            "PC2                     0.540415                     0.562182   \n",
            "PC3                     0.349534                    -0.181744   \n",
            "\n",
            "     price_change_percentage_60d  price_change_percentage_200d  \\\n",
            "PC1                     0.320365                      0.594468   \n",
            "PC2                     0.434040                      0.027735   \n",
            "PC3                    -0.361377                      0.039733   \n",
            "\n",
            "     price_change_percentage_1y  \n",
            "PC1                    0.568379  \n",
            "PC2                   -0.150789  \n",
            "PC3                    0.210541  \n"
          ]
        }
      ],
      "execution_count": null,
      "metadata": {
        "jupyter": {
          "source_hidden": false,
          "outputs_hidden": false
        },
        "noteable": {
          "cell_type": "code"
        },
        "ExecuteTime": {
          "start_time": "2023-08-22T00:25:38.376984+00:00",
          "end_time": "2023-08-22T00:25:38.543556+00:00"
        }
      },
      "id": "c9e1e861-0a06-430f-879c-6a96dea85df0"
    },
    {
      "cell_type": "markdown",
      "source": [
        "#### Answer the following question: \n",
        "\n",
        "**Question:** What is the total explained variance of the three principal components?\n",
        "\n",
        "**Answer:** 0.89"
      ],
      "metadata": {},
      "id": "54fc9471"
    },
    {
      "cell_type": "code",
      "source": [
        "# Create a new DataFrame with the PCA data\n",
        "df_pca_final = df_pca.copy()\n",
        "\n",
        "# Copy the crypto names from the original data (using the index values)\n",
        "df_pca_final['coin_id'] = df_market_data.index\n",
        "\n",
        "# Set the coin_id column as index\n",
        "df_pca_final.set_index('coin_id', inplace=True)\n",
        "\n",
        "# Display sample data\n",
        "df_pca_final.sample(5)"
      ],
      "outputs": [
        {
          "output_type": "display_data",
          "data": {
            "application/vnd.dataresource+json": {
              "schema": {
                "fields": [
                  {
                    "name": "coin_id",
                    "type": "string"
                  },
                  {
                    "name": "PC1",
                    "type": "number"
                  },
                  {
                    "name": "PC2",
                    "type": "number"
                  },
                  {
                    "name": "PC3",
                    "type": "number"
                  }
                ],
                "primaryKey": [
                  "coin_id"
                ],
                "pandas_version": "1.4.0"
              },
              "data": [
                {
                  "coin_id": "litecoin",
                  "PC1": -0.6494679214405774,
                  "PC2": 0.43216513770740433,
                  "PC3": 0.6003028588105246
                },
                {
                  "coin_id": "ethlend",
                  "PC1": 8.089018214765613,
                  "PC2": -3.8968905354864822,
                  "PC3": 2.3013820764937614
                },
                {
                  "coin_id": "cosmos",
                  "PC1": -0.30627229767490743,
                  "PC2": 0.7034151468998101,
                  "PC3": 1.714223586419341
                },
                {
                  "coin_id": "binancecoin",
                  "PC1": -0.5165337697386346,
                  "PC2": 1.388377481862586,
                  "PC3": 0.8040713050022822
                },
                {
                  "coin_id": "usd-coin",
                  "PC1": -0.43840762223600604,
                  "PC2": -0.17533654196886592,
                  "PC3": -0.6633884037364075
                }
              ],
              "datalink": {
                "display_id": "e87c22f8-a88b-4c00-b953-85cd79f0d083"
              }
            }
          },
          "metadata": {
            "application/vnd.dataresource+json": {
              "datalink": {
                "dataframe_info": {
                  "default_index_used": false,
                  "orig_size_bytes": 160,
                  "orig_num_rows": 5,
                  "orig_num_cols": 3,
                  "truncated_string_columns": [],
                  "truncated_size_bytes": 160,
                  "truncated_num_rows": 5,
                  "truncated_num_cols": 3
                },
                "dx_settings": {
                  "NUM_PAST_SAMPLES_TRACKED": 3,
                  "ENABLE_DATALINK": true,
                  "DISPLAY_MODE": "simple",
                  "GENERATE_DEX_METADATA": false,
                  "STRINGIFY_INDEX_VALUES": false,
                  "ALLOW_NOTEABLE_ATTRS": true,
                  "DISPLAY_MAX_COLUMNS": 100,
                  "HTML_TABLE_SCHEMA": false,
                  "SAMPLING_FACTOR": 0.1,
                  "LOG_LEVEL": 30,
                  "ENABLE_ASSIGNMENT": true,
                  "FLATTEN_INDEX_VALUES": false,
                  "DEV_MODE": false,
                  "COLUMN_SAMPLING_METHOD": "outer",
                  "FLATTEN_COLUMN_VALUES": true,
                  "DISPLAY_MAX_ROWS": 50000,
                  "ROW_SAMPLING_METHOD": "random",
                  "RANDOM_STATE": 12648430,
                  "DB_LOCATION": ":memory:",
                  "STRINGIFY_COLUMN_VALUES": true,
                  "SAMPLING_METHOD": "random",
                  "MAX_STRING_LENGTH": 250,
                  "MAX_RENDER_SIZE_BYTES": 104857600,
                  "RESET_INDEX_VALUES": false
                },
                "display_id": "e87c22f8-a88b-4c00-b953-85cd79f0d083",
                "applied_filters": [],
                "sample_history": [],
                "sampling_time": "2023-08-22T00:25:38.737347",
                "variable_name": "unk_dataframe_9050f7e244894f238c5e0d5b0c69c76a",
                "user_variable_name": null
              },
              "display_id": "e87c22f8-a88b-4c00-b953-85cd79f0d083"
            }
          }
        }
      ],
      "execution_count": 20,
      "metadata": {
        "noteable": {},
        "ExecuteTime": {
          "start_time": "2023-08-22T00:25:38.581503+00:00",
          "end_time": "2023-08-22T00:25:38.902564+00:00"
        },
        "datalink": {
          "4425621c-e9e7-4cf8-8312-469162a2c28b": {
            "applied_filters": [],
            "dataframe_info": {
              "default_index_used": false,
              "orig_num_cols": 3,
              "orig_num_rows": 5,
              "orig_size_bytes": 160,
              "truncated_num_cols": 3,
              "truncated_num_rows": 5,
              "truncated_size_bytes": 160,
              "truncated_string_columns": []
            },
            "display_id": "4425621c-e9e7-4cf8-8312-469162a2c28b",
            "dx_settings": {
              "ALLOW_NOTEABLE_ATTRS": true,
              "COLUMN_SAMPLING_METHOD": "outer",
              "DB_LOCATION": ":memory:",
              "DEV_MODE": false,
              "DISPLAY_MAX_COLUMNS": 100,
              "DISPLAY_MAX_ROWS": 50000,
              "DISPLAY_MODE": "simple",
              "ENABLE_ASSIGNMENT": true,
              "ENABLE_DATALINK": true,
              "FLATTEN_COLUMN_VALUES": true,
              "FLATTEN_INDEX_VALUES": false,
              "GENERATE_DEX_METADATA": false,
              "HTML_TABLE_SCHEMA": false,
              "LOG_LEVEL": 30,
              "MAX_RENDER_SIZE_BYTES": 104857600,
              "MAX_STRING_LENGTH": 250,
              "NUM_PAST_SAMPLES_TRACKED": 3,
              "RANDOM_STATE": 12648430,
              "RESET_INDEX_VALUES": false,
              "ROW_SAMPLING_METHOD": "random",
              "SAMPLING_FACTOR": 0.1,
              "SAMPLING_METHOD": "random",
              "STRINGIFY_COLUMN_VALUES": true,
              "STRINGIFY_INDEX_VALUES": false
            },
            "sample_history": [],
            "sampling_time": "2023-08-08T20:29:43.679471",
            "user_variable_name": null,
            "variable_name": "unk_dataframe_25586368696d4f22bbe79159f521d904"
          },
          "fe2ecdad-072e-4b6e-87f1-1ce190c80c22": {
            "applied_filters": [],
            "dataframe_info": {
              "default_index_used": false,
              "orig_num_cols": 3,
              "orig_num_rows": 5,
              "orig_size_bytes": 160,
              "truncated_num_cols": 3,
              "truncated_num_rows": 5,
              "truncated_size_bytes": 160,
              "truncated_string_columns": []
            },
            "display_id": "fe2ecdad-072e-4b6e-87f1-1ce190c80c22",
            "dx_settings": {
              "ALLOW_NOTEABLE_ATTRS": true,
              "COLUMN_SAMPLING_METHOD": "outer",
              "DB_LOCATION": ":memory:",
              "DEV_MODE": false,
              "DISPLAY_MAX_COLUMNS": 100,
              "DISPLAY_MAX_ROWS": 50000,
              "DISPLAY_MODE": "simple",
              "ENABLE_ASSIGNMENT": true,
              "ENABLE_DATALINK": true,
              "FLATTEN_COLUMN_VALUES": true,
              "FLATTEN_INDEX_VALUES": false,
              "GENERATE_DEX_METADATA": false,
              "HTML_TABLE_SCHEMA": false,
              "LOG_LEVEL": 30,
              "MAX_RENDER_SIZE_BYTES": 104857600,
              "MAX_STRING_LENGTH": 250,
              "NUM_PAST_SAMPLES_TRACKED": 3,
              "RANDOM_STATE": 12648430,
              "RESET_INDEX_VALUES": false,
              "ROW_SAMPLING_METHOD": "random",
              "SAMPLING_FACTOR": 0.1,
              "SAMPLING_METHOD": "random",
              "STRINGIFY_COLUMN_VALUES": true,
              "STRINGIFY_INDEX_VALUES": false
            },
            "sample_history": [],
            "sampling_time": "2023-08-20T05:21:47.459116",
            "user_variable_name": null,
            "variable_name": "unk_dataframe_b6d35715a3b24abaa2e75b9f59ba86ef"
          },
          "90ffd30f-29e4-44f9-acbc-b10dde45dd86": {
            "applied_filters": [],
            "dataframe_info": {
              "default_index_used": false,
              "orig_num_cols": 3,
              "orig_num_rows": 5,
              "orig_size_bytes": 160,
              "truncated_num_cols": 3,
              "truncated_num_rows": 5,
              "truncated_size_bytes": 160,
              "truncated_string_columns": []
            },
            "display_id": "90ffd30f-29e4-44f9-acbc-b10dde45dd86",
            "dx_settings": {
              "ALLOW_NOTEABLE_ATTRS": true,
              "COLUMN_SAMPLING_METHOD": "outer",
              "DB_LOCATION": ":memory:",
              "DEV_MODE": false,
              "DISPLAY_MAX_COLUMNS": 100,
              "DISPLAY_MAX_ROWS": 50000,
              "DISPLAY_MODE": "simple",
              "ENABLE_ASSIGNMENT": true,
              "ENABLE_DATALINK": true,
              "FLATTEN_COLUMN_VALUES": true,
              "FLATTEN_INDEX_VALUES": false,
              "GENERATE_DEX_METADATA": false,
              "HTML_TABLE_SCHEMA": false,
              "LOG_LEVEL": 30,
              "MAX_RENDER_SIZE_BYTES": 104857600,
              "MAX_STRING_LENGTH": 250,
              "NUM_PAST_SAMPLES_TRACKED": 3,
              "RANDOM_STATE": 12648430,
              "RESET_INDEX_VALUES": false,
              "ROW_SAMPLING_METHOD": "random",
              "SAMPLING_FACTOR": 0.1,
              "SAMPLING_METHOD": "random",
              "STRINGIFY_COLUMN_VALUES": true,
              "STRINGIFY_INDEX_VALUES": false
            },
            "sample_history": [],
            "sampling_time": "2023-08-20T14:06:04.267930",
            "user_variable_name": null,
            "variable_name": "unk_dataframe_64eddc17d7564a4ab8f033af549e41ca"
          },
          "1dc45ebd-6440-4930-8f7e-24effeb4ac44": {
            "applied_filters": [],
            "dataframe_info": {
              "default_index_used": false,
              "orig_num_cols": 3,
              "orig_num_rows": 5,
              "orig_size_bytes": 160,
              "truncated_num_cols": 3,
              "truncated_num_rows": 5,
              "truncated_size_bytes": 160,
              "truncated_string_columns": []
            },
            "display_id": "1dc45ebd-6440-4930-8f7e-24effeb4ac44",
            "dx_settings": {
              "ALLOW_NOTEABLE_ATTRS": true,
              "COLUMN_SAMPLING_METHOD": "outer",
              "DB_LOCATION": ":memory:",
              "DEV_MODE": false,
              "DISPLAY_MAX_COLUMNS": 100,
              "DISPLAY_MAX_ROWS": 50000,
              "DISPLAY_MODE": "simple",
              "ENABLE_ASSIGNMENT": true,
              "ENABLE_DATALINK": true,
              "FLATTEN_COLUMN_VALUES": true,
              "FLATTEN_INDEX_VALUES": false,
              "GENERATE_DEX_METADATA": false,
              "HTML_TABLE_SCHEMA": false,
              "LOG_LEVEL": 30,
              "MAX_RENDER_SIZE_BYTES": 104857600,
              "MAX_STRING_LENGTH": 250,
              "NUM_PAST_SAMPLES_TRACKED": 3,
              "RANDOM_STATE": 12648430,
              "RESET_INDEX_VALUES": false,
              "ROW_SAMPLING_METHOD": "random",
              "SAMPLING_FACTOR": 0.1,
              "SAMPLING_METHOD": "random",
              "STRINGIFY_COLUMN_VALUES": true,
              "STRINGIFY_INDEX_VALUES": false
            },
            "sample_history": [],
            "sampling_time": "2023-08-20T14:49:53.955289",
            "user_variable_name": null,
            "variable_name": "unk_dataframe_dbb53032426b4645a7c5d85f01a4fd73"
          },
          "b4e56ce8-9955-4ff5-9ec8-cc56e0f207c5": {
            "applied_filters": [],
            "dataframe_info": {
              "default_index_used": false,
              "orig_num_cols": 3,
              "orig_num_rows": 5,
              "orig_size_bytes": 160,
              "truncated_num_cols": 3,
              "truncated_num_rows": 5,
              "truncated_size_bytes": 160,
              "truncated_string_columns": []
            },
            "display_id": "b4e56ce8-9955-4ff5-9ec8-cc56e0f207c5",
            "dx_settings": {
              "ALLOW_NOTEABLE_ATTRS": true,
              "COLUMN_SAMPLING_METHOD": "outer",
              "DB_LOCATION": ":memory:",
              "DEV_MODE": false,
              "DISPLAY_MAX_COLUMNS": 100,
              "DISPLAY_MAX_ROWS": 50000,
              "DISPLAY_MODE": "simple",
              "ENABLE_ASSIGNMENT": true,
              "ENABLE_DATALINK": true,
              "FLATTEN_COLUMN_VALUES": true,
              "FLATTEN_INDEX_VALUES": false,
              "GENERATE_DEX_METADATA": false,
              "HTML_TABLE_SCHEMA": false,
              "LOG_LEVEL": 30,
              "MAX_RENDER_SIZE_BYTES": 104857600,
              "MAX_STRING_LENGTH": 250,
              "NUM_PAST_SAMPLES_TRACKED": 3,
              "RANDOM_STATE": 12648430,
              "RESET_INDEX_VALUES": false,
              "ROW_SAMPLING_METHOD": "random",
              "SAMPLING_FACTOR": 0.1,
              "SAMPLING_METHOD": "random",
              "STRINGIFY_COLUMN_VALUES": true,
              "STRINGIFY_INDEX_VALUES": false
            },
            "sample_history": [],
            "sampling_time": "2023-08-21T01:33:30.369805",
            "user_variable_name": null,
            "variable_name": "unk_dataframe_0827d3e4bde6411fb7800776427efe6f"
          },
          "66e5b20d-ab3e-4620-96a4-88fa99f77693": {
            "applied_filters": [],
            "dataframe_info": {
              "default_index_used": false,
              "orig_num_cols": 3,
              "orig_num_rows": 5,
              "orig_size_bytes": 160,
              "truncated_num_cols": 3,
              "truncated_num_rows": 5,
              "truncated_size_bytes": 160,
              "truncated_string_columns": []
            },
            "display_id": "66e5b20d-ab3e-4620-96a4-88fa99f77693",
            "dx_settings": {
              "ALLOW_NOTEABLE_ATTRS": true,
              "COLUMN_SAMPLING_METHOD": "outer",
              "DB_LOCATION": ":memory:",
              "DEV_MODE": false,
              "DISPLAY_MAX_COLUMNS": 100,
              "DISPLAY_MAX_ROWS": 50000,
              "DISPLAY_MODE": "simple",
              "ENABLE_ASSIGNMENT": true,
              "ENABLE_DATALINK": true,
              "FLATTEN_COLUMN_VALUES": true,
              "FLATTEN_INDEX_VALUES": false,
              "GENERATE_DEX_METADATA": false,
              "HTML_TABLE_SCHEMA": false,
              "LOG_LEVEL": 30,
              "MAX_RENDER_SIZE_BYTES": 104857600,
              "MAX_STRING_LENGTH": 250,
              "NUM_PAST_SAMPLES_TRACKED": 3,
              "RANDOM_STATE": 12648430,
              "RESET_INDEX_VALUES": false,
              "ROW_SAMPLING_METHOD": "random",
              "SAMPLING_FACTOR": 0.1,
              "SAMPLING_METHOD": "random",
              "STRINGIFY_COLUMN_VALUES": true,
              "STRINGIFY_INDEX_VALUES": false
            },
            "sample_history": [],
            "sampling_time": "2023-08-21T23:41:40.536912",
            "user_variable_name": null,
            "variable_name": "unk_dataframe_531713aaff8b4cd396cd14394fef3a63"
          },
          "424080ed-00eb-49da-9cd4-b7a12453f9ff": {
            "dataframe_info": {
              "default_index_used": false,
              "orig_size_bytes": 160,
              "orig_num_rows": 5,
              "orig_num_cols": 3,
              "truncated_string_columns": [],
              "truncated_size_bytes": 160,
              "truncated_num_rows": 5,
              "truncated_num_cols": 3
            },
            "dx_settings": {
              "LOG_LEVEL": 30,
              "DEV_MODE": false,
              "DISPLAY_MAX_ROWS": 50000,
              "DISPLAY_MAX_COLUMNS": 100,
              "HTML_TABLE_SCHEMA": false,
              "MAX_RENDER_SIZE_BYTES": 104857600,
              "MAX_STRING_LENGTH": 250,
              "SAMPLING_FACTOR": 0.1,
              "DISPLAY_MODE": "simple",
              "SAMPLING_METHOD": "random",
              "COLUMN_SAMPLING_METHOD": "outer",
              "ROW_SAMPLING_METHOD": "random",
              "RANDOM_STATE": 12648430,
              "RESET_INDEX_VALUES": false,
              "FLATTEN_INDEX_VALUES": false,
              "FLATTEN_COLUMN_VALUES": true,
              "STRINGIFY_INDEX_VALUES": false,
              "STRINGIFY_COLUMN_VALUES": true,
              "ENABLE_DATALINK": true,
              "ENABLE_ASSIGNMENT": true,
              "NUM_PAST_SAMPLES_TRACKED": 3,
              "DB_LOCATION": ":memory:",
              "GENERATE_DEX_METADATA": false,
              "ALLOW_NOTEABLE_ATTRS": true
            },
            "display_id": "424080ed-00eb-49da-9cd4-b7a12453f9ff",
            "applied_filters": [],
            "sample_history": [],
            "sampling_time": "2023-08-21T23:56:18.664045",
            "variable_name": "unk_dataframe_5768132c6c1b41748e2fee136ea80078",
            "user_variable_name": null
          },
          "ac9aa12c-fcf2-4f68-a56c-4d47522c5fd2": {
            "dataframe_info": {
              "default_index_used": false,
              "orig_size_bytes": 160,
              "orig_num_rows": 5,
              "orig_num_cols": 3,
              "truncated_string_columns": [],
              "truncated_size_bytes": 160,
              "truncated_num_rows": 5,
              "truncated_num_cols": 3
            },
            "dx_settings": {
              "LOG_LEVEL": 30,
              "DEV_MODE": false,
              "DISPLAY_MAX_ROWS": 50000,
              "DISPLAY_MAX_COLUMNS": 100,
              "HTML_TABLE_SCHEMA": false,
              "MAX_RENDER_SIZE_BYTES": 104857600,
              "MAX_STRING_LENGTH": 250,
              "SAMPLING_FACTOR": 0.1,
              "DISPLAY_MODE": "simple",
              "SAMPLING_METHOD": "random",
              "COLUMN_SAMPLING_METHOD": "outer",
              "ROW_SAMPLING_METHOD": "random",
              "RANDOM_STATE": 12648430,
              "RESET_INDEX_VALUES": false,
              "FLATTEN_INDEX_VALUES": false,
              "FLATTEN_COLUMN_VALUES": true,
              "STRINGIFY_INDEX_VALUES": false,
              "STRINGIFY_COLUMN_VALUES": true,
              "ENABLE_DATALINK": true,
              "ENABLE_ASSIGNMENT": true,
              "NUM_PAST_SAMPLES_TRACKED": 3,
              "DB_LOCATION": ":memory:",
              "GENERATE_DEX_METADATA": false,
              "ALLOW_NOTEABLE_ATTRS": true
            },
            "display_id": "ac9aa12c-fcf2-4f68-a56c-4d47522c5fd2",
            "applied_filters": [],
            "sample_history": [],
            "sampling_time": "2023-08-22T00:01:10.283614",
            "variable_name": "unk_dataframe_df5d9eef87f843f79b9bb1f86d7dd057",
            "user_variable_name": null
          },
          "8c966f76-0c09-4502-9122-351339600f19": {
            "dataframe_info": {
              "default_index_used": false,
              "orig_size_bytes": 160,
              "orig_num_rows": 5,
              "orig_num_cols": 3,
              "truncated_string_columns": [],
              "truncated_size_bytes": 160,
              "truncated_num_rows": 5,
              "truncated_num_cols": 3
            },
            "dx_settings": {
              "LOG_LEVEL": 30,
              "DEV_MODE": false,
              "DISPLAY_MAX_ROWS": 50000,
              "DISPLAY_MAX_COLUMNS": 100,
              "HTML_TABLE_SCHEMA": false,
              "MAX_RENDER_SIZE_BYTES": 104857600,
              "MAX_STRING_LENGTH": 250,
              "SAMPLING_FACTOR": 0.1,
              "DISPLAY_MODE": "simple",
              "SAMPLING_METHOD": "random",
              "COLUMN_SAMPLING_METHOD": "outer",
              "ROW_SAMPLING_METHOD": "random",
              "RANDOM_STATE": 12648430,
              "RESET_INDEX_VALUES": false,
              "FLATTEN_INDEX_VALUES": false,
              "FLATTEN_COLUMN_VALUES": true,
              "STRINGIFY_INDEX_VALUES": false,
              "STRINGIFY_COLUMN_VALUES": true,
              "ENABLE_DATALINK": true,
              "ENABLE_ASSIGNMENT": true,
              "NUM_PAST_SAMPLES_TRACKED": 3,
              "DB_LOCATION": ":memory:",
              "GENERATE_DEX_METADATA": false,
              "ALLOW_NOTEABLE_ATTRS": true
            },
            "display_id": "8c966f76-0c09-4502-9122-351339600f19",
            "applied_filters": [],
            "sample_history": [],
            "sampling_time": "2023-08-22T00:13:18.509980",
            "variable_name": "unk_dataframe_a615c3b1e29e4712b211f7a629a61ed1",
            "user_variable_name": null
          },
          "1b24c973-1fae-470e-ac6e-defda1d8d0a2": {
            "dataframe_info": {
              "default_index_used": false,
              "orig_size_bytes": 160,
              "orig_num_rows": 5,
              "orig_num_cols": 3,
              "truncated_string_columns": [],
              "truncated_size_bytes": 160,
              "truncated_num_rows": 5,
              "truncated_num_cols": 3
            },
            "dx_settings": {
              "LOG_LEVEL": 30,
              "DEV_MODE": false,
              "DISPLAY_MAX_ROWS": 50000,
              "DISPLAY_MAX_COLUMNS": 100,
              "HTML_TABLE_SCHEMA": false,
              "MAX_RENDER_SIZE_BYTES": 104857600,
              "MAX_STRING_LENGTH": 250,
              "SAMPLING_FACTOR": 0.1,
              "DISPLAY_MODE": "simple",
              "SAMPLING_METHOD": "random",
              "COLUMN_SAMPLING_METHOD": "outer",
              "ROW_SAMPLING_METHOD": "random",
              "RANDOM_STATE": 12648430,
              "RESET_INDEX_VALUES": false,
              "FLATTEN_INDEX_VALUES": false,
              "FLATTEN_COLUMN_VALUES": true,
              "STRINGIFY_INDEX_VALUES": false,
              "STRINGIFY_COLUMN_VALUES": true,
              "ENABLE_DATALINK": true,
              "ENABLE_ASSIGNMENT": true,
              "NUM_PAST_SAMPLES_TRACKED": 3,
              "DB_LOCATION": ":memory:",
              "GENERATE_DEX_METADATA": false,
              "ALLOW_NOTEABLE_ATTRS": true
            },
            "display_id": "1b24c973-1fae-470e-ac6e-defda1d8d0a2",
            "applied_filters": [],
            "sample_history": [],
            "sampling_time": "2023-08-22T00:20:30.210426",
            "variable_name": "unk_dataframe_51493e57e4544d3cb5a2c8764347496a",
            "user_variable_name": null
          },
          "e87c22f8-a88b-4c00-b953-85cd79f0d083": {
            "dataframe_info": {
              "default_index_used": false,
              "orig_size_bytes": 160,
              "orig_num_rows": 5,
              "orig_num_cols": 3,
              "truncated_string_columns": [],
              "truncated_size_bytes": 160,
              "truncated_num_rows": 5,
              "truncated_num_cols": 3
            },
            "dx_settings": {
              "LOG_LEVEL": 30,
              "DEV_MODE": false,
              "DISPLAY_MAX_ROWS": 50000,
              "DISPLAY_MAX_COLUMNS": 100,
              "HTML_TABLE_SCHEMA": false,
              "MAX_RENDER_SIZE_BYTES": 104857600,
              "MAX_STRING_LENGTH": 250,
              "SAMPLING_FACTOR": 0.1,
              "DISPLAY_MODE": "simple",
              "SAMPLING_METHOD": "random",
              "COLUMN_SAMPLING_METHOD": "outer",
              "ROW_SAMPLING_METHOD": "random",
              "RANDOM_STATE": 12648430,
              "RESET_INDEX_VALUES": false,
              "FLATTEN_INDEX_VALUES": false,
              "FLATTEN_COLUMN_VALUES": true,
              "STRINGIFY_INDEX_VALUES": false,
              "STRINGIFY_COLUMN_VALUES": true,
              "ENABLE_DATALINK": true,
              "ENABLE_ASSIGNMENT": true,
              "NUM_PAST_SAMPLES_TRACKED": 3,
              "DB_LOCATION": ":memory:",
              "GENERATE_DEX_METADATA": false,
              "ALLOW_NOTEABLE_ATTRS": true
            },
            "display_id": "e87c22f8-a88b-4c00-b953-85cd79f0d083",
            "applied_filters": [],
            "sample_history": [],
            "sampling_time": "2023-08-22T00:25:38.737347",
            "variable_name": "unk_dataframe_9050f7e244894f238c5e0d5b0c69c76a",
            "user_variable_name": null
          }
        }
      },
      "id": "4343917f"
    },
    {
      "cell_type": "markdown",
      "source": [
        "---"
      ],
      "metadata": {},
      "id": "f41370f6"
    },
    {
      "cell_type": "markdown",
      "source": [
        "### Find the Best Value for k Using the PCA Data"
      ],
      "metadata": {},
      "id": "df2b3bd3"
    },
    {
      "cell_type": "code",
      "source": [
        "# Create a list with the number of k-values from 1 to 11\n",
        "k_values = list(range(1, 12))"
      ],
      "outputs": [],
      "execution_count": 21,
      "metadata": {
        "noteable": {},
        "ExecuteTime": {
          "start_time": "2023-08-22T00:25:38.912273+00:00",
          "end_time": "2023-08-22T00:25:39.071887+00:00"
        }
      },
      "id": "d5c94655"
    },
    {
      "cell_type": "code",
      "source": [
        "# Create an empty list to store the inertia values\n",
        "inertia_values = []\n",
        "\n",
        "# Create a for loop to compute the inertia with each possible value of k\n",
        "for k in k_values:\n",
        "# Inside the loop:\n",
        "# 1. Create a KMeans model using the loop counter for the n_clusters\n",
        "    kmeans_model = KMeans(n_clusters=k)\n",
        "# 2. Fit the model to the data using `df_market_data_pca`\n",
        "    kmeans_model.fit(df_pca_final)\n",
        "# 3. Append the model.inertia_ to the inertia list\n",
        "    inertia_values.append(kmeans_model.inertia_)"
      ],
      "outputs": [],
      "execution_count": 22,
      "metadata": {
        "noteable": {},
        "ExecuteTime": {
          "start_time": "2023-08-22T00:25:39.080410+00:00",
          "end_time": "2023-08-22T00:25:39.420284+00:00"
        }
      },
      "id": "4a34b702"
    },
    {
      "cell_type": "code",
      "source": [
        "# Create a dictionary with the data to plot the Elbow curve\n",
        "elbow_data = {'k': k_values, 'inertia': inertia_values}\n",
        "# Create a DataFrame with the data to plot the Elbow curve\n",
        "elbow_df_2 = pd.DataFrame(elbow_data)"
      ],
      "outputs": [],
      "execution_count": 23,
      "metadata": {
        "noteable": {},
        "ExecuteTime": {
          "start_time": "2023-08-22T00:25:39.429109+00:00",
          "end_time": "2023-08-22T00:25:39.589284+00:00"
        }
      },
      "id": "79e32649"
    },
    {
      "cell_type": "code",
      "source": [
        "# Plot a line chart with all the inertia values computed with \n",
        "# the different values of k to visually identify the optimal value for k.\n",
        "plt.figure(figsize=(10, 6))\n",
        "plt.plot(elbow_df_2['k'], elbow_df_2['inertia'], marker='o')\n",
        "plt.title('Elbow Method')\n",
        "plt.xlabel('Number of Clusters (k)')\n",
        "plt.ylabel('Inertia')\n",
        "plt.xticks(elbow_df_2['k'])\n",
        "plt.grid(True)\n",
        "plt.show()"
      ],
      "outputs": [
        {
          "output_type": "display_data",
          "data": {
            "image/png": "[encoded data removed]"
          },
          "metadata": {}
        }
      ],
      "execution_count": 24,
      "metadata": {
        "noteable": {},
        "ExecuteTime": {
          "start_time": "2023-08-22T00:25:39.672458+00:00",
          "end_time": "2023-08-22T00:25:40.143524+00:00"
        }
      },
      "id": "34e98d75"
    },
    {
      "cell_type": "markdown",
      "source": [
        "#### Answer the following questions: \n",
        "\n",
        "* **Question:** What is the best value for `k` when using the PCA data?\n",
        "\n",
        "  * **Answer:**4\n",
        "\n",
        "\n",
        "* **Question:** Does it differ from the best k value found using the original data?\n",
        "\n",
        "  * **Answer:** It does not differ from original data"
      ],
      "metadata": {},
      "id": "4420103d"
    },
    {
      "cell_type": "markdown",
      "source": [
        "### Cluster Cryptocurrencies with K-means Using the PCA Data"
      ],
      "metadata": {},
      "id": "87700fd5"
    },
    {
      "cell_type": "code",
      "source": [
        "# Initialize the K-Means model using the best value for k\n",
        "k = 4\n",
        "kmeans_model = KMeans(n_clusters=k)"
      ],
      "outputs": [],
      "execution_count": 25,
      "metadata": {
        "noteable": {},
        "ExecuteTime": {
          "start_time": "2023-08-22T00:25:40.961827+00:00",
          "end_time": "2023-08-22T00:25:41.117752+00:00"
        }
      },
      "id": "5bb11c3b"
    },
    {
      "cell_type": "code",
      "source": [
        "# Fit the K-Means model using the PCA data\n",
        "kmeans_model.fit(df_pca_final)"
      ],
      "outputs": [
        {
          "output_type": "execute_result",
          "execution_count": null,
          "data": {
            "text/html": "<style>#sk-container-id-12 {color: black;background-color: white;}#sk-container-id-12 pre{padding: 0;}#sk-container-id-12 div.sk-toggleable {background-color: white;}#sk-container-id-12 label.sk-toggleable__label {cursor: pointer;display: block;width: 100%;margin-bottom: 0;padding: 0.3em;box-sizing: border-box;text-align: center;}#sk-container-id-12 label.sk-toggleable__label-arrow:before {content: \"▸\";float: left;margin-right: 0.25em;color: #696969;}#sk-container-id-12 label.sk-toggleable__label-arrow:hover:before {color: black;}#sk-container-id-12 div.sk-estimator:hover label.sk-toggleable__label-arrow:before {color: black;}#sk-container-id-12 div.sk-toggleable__content {max-height: 0;max-width: 0;overflow: hidden;text-align: left;background-color: #f0f8ff;}#sk-container-id-12 div.sk-toggleable__content pre {margin: 0.2em;color: black;border-radius: 0.25em;background-color: #f0f8ff;}#sk-container-id-12 input.sk-toggleable__control:checked~div.sk-toggleable__content {max-height: 200px;max-width: 100%;overflow: auto;}#sk-container-id-12 input.sk-toggleable__control:checked~label.sk-toggleable__label-arrow:before {content: \"▾\";}#sk-container-id-12 div.sk-estimator input.sk-toggleable__control:checked~label.sk-toggleable__label {background-color: #d4ebff;}#sk-container-id-12 div.sk-label input.sk-toggleable__control:checked~label.sk-toggleable__label {background-color: #d4ebff;}#sk-container-id-12 input.sk-hidden--visually {border: 0;clip: rect(1px 1px 1px 1px);clip: rect(1px, 1px, 1px, 1px);height: 1px;margin: -1px;overflow: hidden;padding: 0;position: absolute;width: 1px;}#sk-container-id-12 div.sk-estimator {font-family: monospace;background-color: #f0f8ff;border: 1px dotted black;border-radius: 0.25em;box-sizing: border-box;margin-bottom: 0.5em;}#sk-container-id-12 div.sk-estimator:hover {background-color: #d4ebff;}#sk-container-id-12 div.sk-parallel-item::after {content: \"\";width: 100%;border-bottom: 1px solid gray;flex-grow: 1;}#sk-container-id-12 div.sk-label:hover label.sk-toggleable__label {background-color: #d4ebff;}#sk-container-id-12 div.sk-serial::before {content: \"\";position: absolute;border-left: 1px solid gray;box-sizing: border-box;top: 0;bottom: 0;left: 50%;z-index: 0;}#sk-container-id-12 div.sk-serial {display: flex;flex-direction: column;align-items: center;background-color: white;padding-right: 0.2em;padding-left: 0.2em;position: relative;}#sk-container-id-12 div.sk-item {position: relative;z-index: 1;}#sk-container-id-12 div.sk-parallel {display: flex;align-items: stretch;justify-content: center;background-color: white;position: relative;}#sk-container-id-12 div.sk-item::before, #sk-container-id-12 div.sk-parallel-item::before {content: \"\";position: absolute;border-left: 1px solid gray;box-sizing: border-box;top: 0;bottom: 0;left: 50%;z-index: -1;}#sk-container-id-12 div.sk-parallel-item {display: flex;flex-direction: column;z-index: 1;position: relative;background-color: white;}#sk-container-id-12 div.sk-parallel-item:first-child::after {align-self: flex-end;width: 50%;}#sk-container-id-12 div.sk-parallel-item:last-child::after {align-self: flex-start;width: 50%;}#sk-container-id-12 div.sk-parallel-item:only-child::after {width: 0;}#sk-container-id-12 div.sk-dashed-wrapped {border: 1px dashed gray;margin: 0 0.4em 0.5em 0.4em;box-sizing: border-box;padding-bottom: 0.4em;background-color: white;}#sk-container-id-12 div.sk-label label {font-family: monospace;font-weight: bold;display: inline-block;line-height: 1.2em;}#sk-container-id-12 div.sk-label-container {text-align: center;}#sk-container-id-12 div.sk-container {/* jupyter's `normalize.less` sets `[hidden] { display: none; }` but bootstrap.min.css set `[hidden] { display: none !important; }` so we also need the `!important` here to be able to override the default hidden behavior on the sphinx rendered scikit-learn.org. See: https://github.com/scikit-learn/scikit-learn/issues/21755 */display: inline-block !important;position: relative;}#sk-container-id-12 div.sk-text-repr-fallback {display: none;}</style><div id=\"sk-container-id-12\" class=\"sk-top-container\"><div class=\"sk-text-repr-fallback\"><pre>KMeans(n_clusters=4)</pre><b>In a Jupyter environment, please rerun this cell to show the HTML representation or trust the notebook. <br />On GitHub, the HTML representation is unable to render, please try loading this page with nbviewer.org.</b></div><div class=\"sk-container\" hidden><div class=\"sk-item\"><div class=\"sk-estimator sk-toggleable\"><input class=\"sk-toggleable__control sk-hidden--visually\" id=\"sk-estimator-id-12\" type=\"checkbox\" checked><label for=\"sk-estimator-id-12\" class=\"sk-toggleable__label sk-toggleable__label-arrow\">KMeans</label><div class=\"sk-toggleable__content\"><pre>KMeans(n_clusters=4)</pre></div></div></div></div></div>"
          },
          "metadata": {}
        }
      ],
      "execution_count": 26,
      "metadata": {
        "noteable": {},
        "ExecuteTime": {
          "start_time": "2023-08-22T00:25:41.124632+00:00",
          "end_time": "2023-08-22T00:25:41.304152+00:00"
        }
      },
      "id": "248f710e"
    },
    {
      "cell_type": "code",
      "source": [
        "# Predict the clusters to group the cryptocurrencies using the PCA data\n",
        "cluster_labels = kmeans_model.predict(df_pca_final)\n",
        "\n",
        "# Print the resulting array of cluster values.\n",
        "print(\"Cluster Labels:\", cluster_labels)"
      ],
      "outputs": [
        {
          "output_type": "stream",
          "name": "stdout",
          "text": [
            "Cluster Labels: [3 3 0 0 3 3 3 3 3 0 0 0 0 3 0 3 0 0 3 0 0 3 0 0 0 0 0 0 3 0 0 0 2 3 0 0 1\n",
            " 0 0 0 0]\n"
          ]
        }
      ],
      "execution_count": 27,
      "metadata": {
        "noteable": {},
        "ExecuteTime": {
          "start_time": "2023-08-22T00:25:41.776253+00:00",
          "end_time": "2023-08-22T00:25:41.935410+00:00"
        }
      },
      "id": "7e5a1405"
    },
    {
      "cell_type": "code",
      "source": [
        "# Create a copy of the DataFrame with the PCA data\n",
        "df_with_clusters_2 = df_pca_final.copy()\n",
        "\n",
        "# Add a new column to the DataFrame with the predicted clusters\n",
        "df_with_clusters_2['labels'] = cluster_labels\n",
        "\n",
        "\n",
        "# Display sample data\n",
        "df_with_clusters_2.sample(5)"
      ],
      "outputs": [
        {
          "output_type": "display_data",
          "data": {
            "application/vnd.dataresource+json": {
              "schema": {
                "fields": [
                  {
                    "name": "coin_id",
                    "type": "string"
                  },
                  {
                    "name": "PC1",
                    "type": "number"
                  },
                  {
                    "name": "PC2",
                    "type": "number"
                  },
                  {
                    "name": "PC3",
                    "type": "number"
                  },
                  {
                    "name": "labels",
                    "type": "integer"
                  }
                ],
                "primaryKey": [
                  "coin_id"
                ],
                "pandas_version": "1.4.0"
              },
              "data": [
                {
                  "coin_id": "tezos",
                  "PC1": -0.7961756359232358,
                  "PC2": -0.4944087524150484,
                  "PC3": 1.0828116910517578,
                  "labels": 3
                },
                {
                  "coin_id": "ftx-token",
                  "PC1": -0.5931421641297329,
                  "PC2": 0.021484962427633335,
                  "PC3": 0.20991141756366843,
                  "labels": 0
                },
                {
                  "coin_id": "celsius-degree-token",
                  "PC1": 4.792395401459599,
                  "PC2": 6.767678675262274,
                  "PC3": -1.9869854471135222,
                  "labels": 1
                },
                {
                  "coin_id": "leo-token",
                  "PC1": -0.41329560357215966,
                  "PC2": -0.674115268076816,
                  "PC3": -1.0766283383557333,
                  "labels": 0
                },
                {
                  "coin_id": "cosmos",
                  "PC1": -0.30627229767490743,
                  "PC2": 0.7034151468998101,
                  "PC3": 1.714223586419341,
                  "labels": 3
                }
              ],
              "datalink": {
                "display_id": "4bd17131-797b-4c9d-a8d6-615757b35cb7"
              }
            }
          },
          "metadata": {
            "application/vnd.dataresource+json": {
              "datalink": {
                "dataframe_info": {
                  "default_index_used": false,
                  "orig_size_bytes": 180,
                  "orig_num_rows": 5,
                  "orig_num_cols": 4,
                  "truncated_string_columns": [],
                  "truncated_size_bytes": 180,
                  "truncated_num_rows": 5,
                  "truncated_num_cols": 4
                },
                "dx_settings": {
                  "NUM_PAST_SAMPLES_TRACKED": 3,
                  "ENABLE_DATALINK": true,
                  "DISPLAY_MODE": "simple",
                  "GENERATE_DEX_METADATA": false,
                  "STRINGIFY_INDEX_VALUES": false,
                  "ALLOW_NOTEABLE_ATTRS": true,
                  "DISPLAY_MAX_COLUMNS": 100,
                  "HTML_TABLE_SCHEMA": false,
                  "SAMPLING_FACTOR": 0.1,
                  "LOG_LEVEL": 30,
                  "ENABLE_ASSIGNMENT": true,
                  "FLATTEN_INDEX_VALUES": false,
                  "DEV_MODE": false,
                  "COLUMN_SAMPLING_METHOD": "outer",
                  "FLATTEN_COLUMN_VALUES": true,
                  "DISPLAY_MAX_ROWS": 50000,
                  "ROW_SAMPLING_METHOD": "random",
                  "RANDOM_STATE": 12648430,
                  "DB_LOCATION": ":memory:",
                  "STRINGIFY_COLUMN_VALUES": true,
                  "SAMPLING_METHOD": "random",
                  "MAX_STRING_LENGTH": 250,
                  "MAX_RENDER_SIZE_BYTES": 104857600,
                  "RESET_INDEX_VALUES": false
                },
                "display_id": "4bd17131-797b-4c9d-a8d6-615757b35cb7",
                "applied_filters": [],
                "sample_history": [],
                "sampling_time": "2023-08-22T00:25:42.109826",
                "variable_name": "unk_dataframe_48c74283b2034d9e90df7f424c21a565",
                "user_variable_name": null
              },
              "display_id": "4bd17131-797b-4c9d-a8d6-615757b35cb7"
            }
          }
        }
      ],
      "execution_count": 28,
      "metadata": {
        "noteable": {},
        "ExecuteTime": {
          "start_time": "2023-08-22T00:25:41.942619+00:00",
          "end_time": "2023-08-22T00:25:42.274600+00:00"
        },
        "datalink": {
          "58b1d567-c38a-47a5-b1c7-41c5a04f1fb2": {
            "applied_filters": [],
            "dataframe_info": {
              "default_index_used": false,
              "orig_num_cols": 4,
              "orig_num_rows": 5,
              "orig_size_bytes": 180,
              "truncated_num_cols": 4,
              "truncated_num_rows": 5,
              "truncated_size_bytes": 180,
              "truncated_string_columns": []
            },
            "display_id": "58b1d567-c38a-47a5-b1c7-41c5a04f1fb2",
            "dx_settings": {
              "ALLOW_NOTEABLE_ATTRS": true,
              "COLUMN_SAMPLING_METHOD": "outer",
              "DB_LOCATION": ":memory:",
              "DEV_MODE": false,
              "DISPLAY_MAX_COLUMNS": 100,
              "DISPLAY_MAX_ROWS": 50000,
              "DISPLAY_MODE": "simple",
              "ENABLE_ASSIGNMENT": true,
              "ENABLE_DATALINK": true,
              "FLATTEN_COLUMN_VALUES": true,
              "FLATTEN_INDEX_VALUES": false,
              "GENERATE_DEX_METADATA": false,
              "HTML_TABLE_SCHEMA": false,
              "LOG_LEVEL": 30,
              "MAX_RENDER_SIZE_BYTES": 104857600,
              "MAX_STRING_LENGTH": 250,
              "NUM_PAST_SAMPLES_TRACKED": 3,
              "RANDOM_STATE": 12648430,
              "RESET_INDEX_VALUES": false,
              "ROW_SAMPLING_METHOD": "random",
              "SAMPLING_FACTOR": 0.1,
              "SAMPLING_METHOD": "random",
              "STRINGIFY_COLUMN_VALUES": true,
              "STRINGIFY_INDEX_VALUES": false
            },
            "sample_history": [],
            "sampling_time": "2023-08-21T01:33:32.656379",
            "user_variable_name": null,
            "variable_name": "unk_dataframe_0e98d62ed34646089603177d1b9bd910"
          },
          "9f7a6b81-512a-4bec-88e9-0acd14499fd3": {
            "applied_filters": [],
            "dataframe_info": {
              "default_index_used": false,
              "orig_num_cols": 4,
              "orig_num_rows": 5,
              "orig_size_bytes": 180,
              "truncated_num_cols": 4,
              "truncated_num_rows": 5,
              "truncated_size_bytes": 180,
              "truncated_string_columns": []
            },
            "display_id": "9f7a6b81-512a-4bec-88e9-0acd14499fd3",
            "dx_settings": {
              "ALLOW_NOTEABLE_ATTRS": true,
              "COLUMN_SAMPLING_METHOD": "outer",
              "DB_LOCATION": ":memory:",
              "DEV_MODE": false,
              "DISPLAY_MAX_COLUMNS": 100,
              "DISPLAY_MAX_ROWS": 50000,
              "DISPLAY_MODE": "simple",
              "ENABLE_ASSIGNMENT": true,
              "ENABLE_DATALINK": true,
              "FLATTEN_COLUMN_VALUES": true,
              "FLATTEN_INDEX_VALUES": false,
              "GENERATE_DEX_METADATA": false,
              "HTML_TABLE_SCHEMA": false,
              "LOG_LEVEL": 30,
              "MAX_RENDER_SIZE_BYTES": 104857600,
              "MAX_STRING_LENGTH": 250,
              "NUM_PAST_SAMPLES_TRACKED": 3,
              "RANDOM_STATE": 12648430,
              "RESET_INDEX_VALUES": false,
              "ROW_SAMPLING_METHOD": "random",
              "SAMPLING_FACTOR": 0.1,
              "SAMPLING_METHOD": "random",
              "STRINGIFY_COLUMN_VALUES": true,
              "STRINGIFY_INDEX_VALUES": false
            },
            "sample_history": [],
            "sampling_time": "2023-08-21T23:41:43.058317",
            "user_variable_name": null,
            "variable_name": "unk_dataframe_7b7c8adc9a31437987a2ca1ed3f507d9"
          },
          "25a0f2c7-be9d-4ba1-8d8e-4a85336320ec": {
            "dataframe_info": {
              "default_index_used": false,
              "orig_size_bytes": 180,
              "orig_num_rows": 5,
              "orig_num_cols": 4,
              "truncated_string_columns": [],
              "truncated_size_bytes": 180,
              "truncated_num_rows": 5,
              "truncated_num_cols": 4
            },
            "dx_settings": {
              "LOG_LEVEL": 30,
              "DEV_MODE": false,
              "DISPLAY_MAX_ROWS": 50000,
              "DISPLAY_MAX_COLUMNS": 100,
              "HTML_TABLE_SCHEMA": false,
              "MAX_RENDER_SIZE_BYTES": 104857600,
              "MAX_STRING_LENGTH": 250,
              "SAMPLING_FACTOR": 0.1,
              "DISPLAY_MODE": "simple",
              "SAMPLING_METHOD": "random",
              "COLUMN_SAMPLING_METHOD": "outer",
              "ROW_SAMPLING_METHOD": "random",
              "RANDOM_STATE": 12648430,
              "RESET_INDEX_VALUES": false,
              "FLATTEN_INDEX_VALUES": false,
              "FLATTEN_COLUMN_VALUES": true,
              "STRINGIFY_INDEX_VALUES": false,
              "STRINGIFY_COLUMN_VALUES": true,
              "ENABLE_DATALINK": true,
              "ENABLE_ASSIGNMENT": true,
              "NUM_PAST_SAMPLES_TRACKED": 3,
              "DB_LOCATION": ":memory:",
              "GENERATE_DEX_METADATA": false,
              "ALLOW_NOTEABLE_ATTRS": true
            },
            "display_id": "25a0f2c7-be9d-4ba1-8d8e-4a85336320ec",
            "applied_filters": [],
            "sample_history": [],
            "sampling_time": "2023-08-21T23:56:21.116435",
            "variable_name": "unk_dataframe_4738cad665df462d817a7c956329cf0f",
            "user_variable_name": null
          },
          "5590b853-f2bb-4d27-8bee-490d230a85ea": {
            "dataframe_info": {
              "default_index_used": false,
              "orig_size_bytes": 180,
              "orig_num_rows": 5,
              "orig_num_cols": 4,
              "truncated_string_columns": [],
              "truncated_size_bytes": 180,
              "truncated_num_rows": 5,
              "truncated_num_cols": 4
            },
            "dx_settings": {
              "LOG_LEVEL": 30,
              "DEV_MODE": false,
              "DISPLAY_MAX_ROWS": 50000,
              "DISPLAY_MAX_COLUMNS": 100,
              "HTML_TABLE_SCHEMA": false,
              "MAX_RENDER_SIZE_BYTES": 104857600,
              "MAX_STRING_LENGTH": 250,
              "SAMPLING_FACTOR": 0.1,
              "DISPLAY_MODE": "simple",
              "SAMPLING_METHOD": "random",
              "COLUMN_SAMPLING_METHOD": "outer",
              "ROW_SAMPLING_METHOD": "random",
              "RANDOM_STATE": 12648430,
              "RESET_INDEX_VALUES": false,
              "FLATTEN_INDEX_VALUES": false,
              "FLATTEN_COLUMN_VALUES": true,
              "STRINGIFY_INDEX_VALUES": false,
              "STRINGIFY_COLUMN_VALUES": true,
              "ENABLE_DATALINK": true,
              "ENABLE_ASSIGNMENT": true,
              "NUM_PAST_SAMPLES_TRACKED": 3,
              "DB_LOCATION": ":memory:",
              "GENERATE_DEX_METADATA": false,
              "ALLOW_NOTEABLE_ATTRS": true
            },
            "display_id": "5590b853-f2bb-4d27-8bee-490d230a85ea",
            "applied_filters": [],
            "sample_history": [],
            "sampling_time": "2023-08-22T00:01:13.396744",
            "variable_name": "unk_dataframe_ce022c0dc8e94a97a119d1ad1e9ae36e",
            "user_variable_name": null
          },
          "7687ece0-5544-48ac-ba54-d08646a3778a": {
            "dataframe_info": {
              "default_index_used": false,
              "orig_size_bytes": 180,
              "orig_num_rows": 5,
              "orig_num_cols": 4,
              "truncated_string_columns": [],
              "truncated_size_bytes": 180,
              "truncated_num_rows": 5,
              "truncated_num_cols": 4
            },
            "dx_settings": {
              "LOG_LEVEL": 30,
              "DEV_MODE": false,
              "DISPLAY_MAX_ROWS": 50000,
              "DISPLAY_MAX_COLUMNS": 100,
              "HTML_TABLE_SCHEMA": false,
              "MAX_RENDER_SIZE_BYTES": 104857600,
              "MAX_STRING_LENGTH": 250,
              "SAMPLING_FACTOR": 0.1,
              "DISPLAY_MODE": "simple",
              "SAMPLING_METHOD": "random",
              "COLUMN_SAMPLING_METHOD": "outer",
              "ROW_SAMPLING_METHOD": "random",
              "RANDOM_STATE": 12648430,
              "RESET_INDEX_VALUES": false,
              "FLATTEN_INDEX_VALUES": false,
              "FLATTEN_COLUMN_VALUES": true,
              "STRINGIFY_INDEX_VALUES": false,
              "STRINGIFY_COLUMN_VALUES": true,
              "ENABLE_DATALINK": true,
              "ENABLE_ASSIGNMENT": true,
              "NUM_PAST_SAMPLES_TRACKED": 3,
              "DB_LOCATION": ":memory:",
              "GENERATE_DEX_METADATA": false,
              "ALLOW_NOTEABLE_ATTRS": true
            },
            "display_id": "7687ece0-5544-48ac-ba54-d08646a3778a",
            "applied_filters": [],
            "sample_history": [],
            "sampling_time": "2023-08-22T00:13:21.280740",
            "variable_name": "unk_dataframe_0927c51ccc844a27b032cba479cf691f",
            "user_variable_name": null
          },
          "f9c1fc67-46cc-46d1-bc83-8d4421b26a14": {
            "dataframe_info": {
              "default_index_used": false,
              "orig_size_bytes": 180,
              "orig_num_rows": 5,
              "orig_num_cols": 4,
              "truncated_string_columns": [],
              "truncated_size_bytes": 180,
              "truncated_num_rows": 5,
              "truncated_num_cols": 4
            },
            "dx_settings": {
              "LOG_LEVEL": 30,
              "DEV_MODE": false,
              "DISPLAY_MAX_ROWS": 50000,
              "DISPLAY_MAX_COLUMNS": 100,
              "HTML_TABLE_SCHEMA": false,
              "MAX_RENDER_SIZE_BYTES": 104857600,
              "MAX_STRING_LENGTH": 250,
              "SAMPLING_FACTOR": 0.1,
              "DISPLAY_MODE": "simple",
              "SAMPLING_METHOD": "random",
              "COLUMN_SAMPLING_METHOD": "outer",
              "ROW_SAMPLING_METHOD": "random",
              "RANDOM_STATE": 12648430,
              "RESET_INDEX_VALUES": false,
              "FLATTEN_INDEX_VALUES": false,
              "FLATTEN_COLUMN_VALUES": true,
              "STRINGIFY_INDEX_VALUES": false,
              "STRINGIFY_COLUMN_VALUES": true,
              "ENABLE_DATALINK": true,
              "ENABLE_ASSIGNMENT": true,
              "NUM_PAST_SAMPLES_TRACKED": 3,
              "DB_LOCATION": ":memory:",
              "GENERATE_DEX_METADATA": false,
              "ALLOW_NOTEABLE_ATTRS": true
            },
            "display_id": "f9c1fc67-46cc-46d1-bc83-8d4421b26a14",
            "applied_filters": [],
            "sample_history": [],
            "sampling_time": "2023-08-22T00:20:32.839755",
            "variable_name": "unk_dataframe_d71d428c302f4238b050cc7904fb603f",
            "user_variable_name": null
          },
          "4bd17131-797b-4c9d-a8d6-615757b35cb7": {
            "dataframe_info": {
              "default_index_used": false,
              "orig_size_bytes": 180,
              "orig_num_rows": 5,
              "orig_num_cols": 4,
              "truncated_string_columns": [],
              "truncated_size_bytes": 180,
              "truncated_num_rows": 5,
              "truncated_num_cols": 4
            },
            "dx_settings": {
              "LOG_LEVEL": 30,
              "DEV_MODE": false,
              "DISPLAY_MAX_ROWS": 50000,
              "DISPLAY_MAX_COLUMNS": 100,
              "HTML_TABLE_SCHEMA": false,
              "MAX_RENDER_SIZE_BYTES": 104857600,
              "MAX_STRING_LENGTH": 250,
              "SAMPLING_FACTOR": 0.1,
              "DISPLAY_MODE": "simple",
              "SAMPLING_METHOD": "random",
              "COLUMN_SAMPLING_METHOD": "outer",
              "ROW_SAMPLING_METHOD": "random",
              "RANDOM_STATE": 12648430,
              "RESET_INDEX_VALUES": false,
              "FLATTEN_INDEX_VALUES": false,
              "FLATTEN_COLUMN_VALUES": true,
              "STRINGIFY_INDEX_VALUES": false,
              "STRINGIFY_COLUMN_VALUES": true,
              "ENABLE_DATALINK": true,
              "ENABLE_ASSIGNMENT": true,
              "NUM_PAST_SAMPLES_TRACKED": 3,
              "DB_LOCATION": ":memory:",
              "GENERATE_DEX_METADATA": false,
              "ALLOW_NOTEABLE_ATTRS": true
            },
            "display_id": "4bd17131-797b-4c9d-a8d6-615757b35cb7",
            "applied_filters": [],
            "sample_history": [],
            "sampling_time": "2023-08-22T00:25:42.109826",
            "variable_name": "unk_dataframe_48c74283b2034d9e90df7f424c21a565",
            "user_variable_name": null
          }
        }
      },
      "id": "ab2f92af"
    },
    {
      "cell_type": "code",
      "source": [
        "# Create a scatter plot using hvPlot by setting \n",
        "# `x=\"PC1\"` and `y=\"PC2\"`. \n",
        "# Color the graph points with the labels found using K-Means and \n",
        "# add the crypto name in the `hover_cols` parameter to identify \n",
        "# the cryptocurrency represented by each data point.\n",
        "sns.scatterplot(x=\"PC1\", y=\"PC2\", hue=\"labels\", data=df_with_clusters_2)\n",
        "plt.show()"
      ],
      "outputs": [
        {
          "output_type": "display_data",
          "data": {
            "image/png": "[encoded data removed]"
          },
          "metadata": {}
        }
      ],
      "execution_count": 29,
      "metadata": {
        "noteable": {},
        "ExecuteTime": {
          "start_time": "2023-08-22T00:25:42.661866+00:00",
          "end_time": "2023-08-22T00:25:43.211102+00:00"
        }
      },
      "id": "4b9e248a"
    },
    {
      "cell_type": "markdown",
      "source": [
        "### Visualize and Compare the Results\n",
        "\n",
        "In this section, you will visually analyze the cluster analysis results by contrasting the outcome with and without using the optimization techniques."
      ],
      "metadata": {},
      "id": "a6ed3359"
    },
    {
      "cell_type": "code",
      "source": [
        "# Composite plot to contrast the Elbow curves\n",
        "plt.figure(figsize=(12, 8))\n",
        "\n",
        "# Option 1: Change the range of x-values to match the y-values\n",
        "plt.plot(range(1, 12), elbow_df_1.iloc[:, 1], label='Before PCA', marker='o')\n",
        "plt.plot(range(1, 12), elbow_df_2.iloc[:, 1], label='After PCA', marker='s')\n",
        "\n",
        "# Option 2: Use only the first column from the DataFrames\n",
        "# plt.plot(range(1, 11), elbow_df_1.iloc[:, 0], label='Before PCA', marker='o')\n",
        "# plt.plot(range(1, 11), elbow_df_2.iloc[:, 0], label='After PCA', marker='s')\n",
        "\n",
        "plt.title('Elbow Method For Optimal k - Comparison')\n",
        "plt.xlabel('Number of Clusters')\n",
        "plt.ylabel('Inertia')\n",
        "plt.legend()\n",
        "plt.grid(True)\n",
        "plt.show()\n"
      ],
      "outputs": [
        {
          "output_type": "display_data",
          "data": {
            "image/png": "[encoded data removed]"
          },
          "metadata": {}
        }
      ],
      "execution_count": 30,
      "metadata": {
        "noteable": {},
        "ExecuteTime": {
          "start_time": "2023-08-22T00:25:43.924480+00:00",
          "end_time": "2023-08-22T00:25:44.447655+00:00"
        }
      },
      "id": "0a13395b"
    },
    {
      "cell_type": "code",
      "source": [
        "df_with_clusters"
      ],
      "outputs": [
        {
          "output_type": "display_data",
          "data": {
            "application/vnd.dataresource+json": {
              "schema": {
                "fields": [
                  {
                    "name": "coin_id",
                    "type": "string"
                  },
                  {
                    "name": "price_change_percentage_24h",
                    "type": "number"
                  },
                  {
                    "name": "price_change_percentage_7d",
                    "type": "number"
                  },
                  {
                    "name": "price_change_percentage_14d",
                    "type": "number"
                  },
                  {
                    "name": "price_change_percentage_30d",
                    "type": "number"
                  },
                  {
                    "name": "price_change_percentage_60d",
                    "type": "number"
                  },
                  {
                    "name": "price_change_percentage_200d",
                    "type": "number"
                  },
                  {
                    "name": "price_change_percentage_1y",
                    "type": "number"
                  },
                  {
                    "name": "labels",
                    "type": "integer"
                  }
                ],
                "primaryKey": [
                  "coin_id"
                ],
                "pandas_version": "1.4.0"
              },
              "data": [
                {
                  "coin_id": "bitcoin",
                  "price_change_percentage_24h": 0.5085293658401341,
                  "price_change_percentage_7d": 0.49319307062377965,
                  "price_change_percentage_14d": 0.7722004332891463,
                  "price_change_percentage_30d": 0.23545963323469243,
                  "price_change_percentage_60d": -0.06749509626832181,
                  "price_change_percentage_200d": -0.3559534810770524,
                  "price_change_percentage_1y": -0.25163688201978673,
                  "labels": 3
                },
                {
                  "coin_id": "ethereum",
                  "price_change_percentage_24h": 0.18544589364395297,
                  "price_change_percentage_7d": 0.9344450402613929,
                  "price_change_percentage_14d": 0.5586921208689707,
                  "price_change_percentage_30d": -0.054340931689121186,
                  "price_change_percentage_60d": -0.27348272537129126,
                  "price_change_percentage_200d": -0.1157594743431256,
                  "price_change_percentage_1y": -0.19935211047099163,
                  "labels": 3
                },
                {
                  "coin_id": "tether",
                  "price_change_percentage_24h": 0.021773961621223664,
                  "price_change_percentage_7d": -0.7063368531568252,
                  "price_change_percentage_14d": -0.02168042073059972,
                  "price_change_percentage_30d": -0.06103015356222092,
                  "price_change_percentage_60d": 0.008004524805563948,
                  "price_change_percentage_200d": -0.5502469238608199,
                  "price_change_percentage_1y": -0.2820605057562321,
                  "labels": 0
                },
                {
                  "coin_id": "ripple",
                  "price_change_percentage_24h": -0.04076438293175126,
                  "price_change_percentage_7d": -0.810928065771643,
                  "price_change_percentage_14d": 0.24945797416123697,
                  "price_change_percentage_30d": -0.05038796511514074,
                  "price_change_percentage_60d": -0.37316401868233073,
                  "price_change_percentage_200d": -0.45825881568432436,
                  "price_change_percentage_1y": -0.29554614246304434,
                  "labels": 0
                },
                {
                  "coin_id": "bitcoin-cash",
                  "price_change_percentage_24h": 1.1930360799166912,
                  "price_change_percentage_7d": 2.000959067401844,
                  "price_change_percentage_14d": 1.7606100087732972,
                  "price_change_percentage_30d": 0.5458420645629487,
                  "price_change_percentage_60d": -0.2912028704525387,
                  "price_change_percentage_200d": -0.49984776055145186,
                  "price_change_percentage_1y": -0.27031695049996346,
                  "labels": 3
                },
                {
                  "coin_id": "binancecoin",
                  "price_change_percentage_24h": 0.8918707082925427,
                  "price_change_percentage_7d": 1.327294532419359,
                  "price_change_percentage_14d": 0.8002141838472083,
                  "price_change_percentage_30d": -0.05714789920383568,
                  "price_change_percentage_60d": 0.7786531064375697,
                  "price_change_percentage_200d": -0.18823191746383233,
                  "price_change_percentage_1y": -0.22553260480956064,
                  "labels": 3
                },
                {
                  "coin_id": "chainlink",
                  "price_change_percentage_24h": 0.011397240027127978,
                  "price_change_percentage_7d": 2.5722509094400743,
                  "price_change_percentage_14d": 1.101646925841525,
                  "price_change_percentage_30d": -0.49049541470249874,
                  "price_change_percentage_60d": -0.9319540229351091,
                  "price_change_percentage_200d": 0.3877589855983135,
                  "price_change_percentage_1y": -0.018284399525622944,
                  "labels": 3
                },
                {
                  "coin_id": "cardano",
                  "price_change_percentage_24h": 0.10252980183305808,
                  "price_change_percentage_7d": 1.5080014557070824,
                  "price_change_percentage_14d": 0.6488850611552859,
                  "price_change_percentage_30d": 0.3289592446109879,
                  "price_change_percentage_60d": -0.4863488991452572,
                  "price_change_percentage_200d": 0.06507962331799776,
                  "price_change_percentage_1y": -0.15542841631777854,
                  "labels": 3
                },
                {
                  "coin_id": "litecoin",
                  "price_change_percentage_24h": 0.07749718199907564,
                  "price_change_percentage_7d": 0.334296561906924,
                  "price_change_percentage_14d": 0.8585198643413018,
                  "price_change_percentage_30d": -0.012646472957752196,
                  "price_change_percentage_60d": -0.3664769899998123,
                  "price_change_percentage_200d": -0.48626559051992574,
                  "price_change_percentage_1y": -0.2923512135845564,
                  "labels": 3
                },
                {
                  "coin_id": "bitcoin-cash-sv",
                  "price_change_percentage_24h": 0.44895150521769767,
                  "price_change_percentage_7d": -0.19068427753077835,
                  "price_change_percentage_14d": -0.2480432243253535,
                  "price_change_percentage_30d": 0.051634005462456514,
                  "price_change_percentage_60d": -0.529666139316004,
                  "price_change_percentage_200d": -0.5329608090128174,
                  "price_change_percentage_1y": -0.20602894672984284,
                  "labels": 0
                },
                {
                  "coin_id": "crypto-com-chain",
                  "price_change_percentage_24h": 0.3312797828973969,
                  "price_change_percentage_7d": -1.614843685120517,
                  "price_change_percentage_14d": -1.0545211412928832,
                  "price_change_percentage_30d": -0.729931204068619,
                  "price_change_percentage_60d": -0.3501553818746052,
                  "price_change_percentage_200d": -0.02286568190777519,
                  "price_change_percentage_1y": -0.034570216530723376,
                  "labels": 0
                },
                {
                  "coin_id": "usd-coin",
                  "price_change_percentage_24h": 0.03435226136670967,
                  "price_change_percentage_7d": -0.7330257877190793,
                  "price_change_percentage_14d": -0.023140389265658992,
                  "price_change_percentage_30d": -0.06577517381197172,
                  "price_change_percentage_60d": 0.0029246487093922222,
                  "price_change_percentage_200d": -0.5505993205022488,
                  "price_change_percentage_1y": -0.2822321768461414,
                  "labels": 0
                },
                {
                  "coin_id": "eos",
                  "price_change_percentage_24h": 0.1557095607629728,
                  "price_change_percentage_7d": -0.9224908613168605,
                  "price_change_percentage_14d": 0.11502363636301785,
                  "price_change_percentage_30d": -0.23748826021937042,
                  "price_change_percentage_60d": -0.6428366988288992,
                  "price_change_percentage_200d": -0.5082204898105547,
                  "price_change_percentage_1y": -0.29632957081228767,
                  "labels": 0
                },
                {
                  "coin_id": "monero",
                  "price_change_percentage_24h": 0.2627227895414743,
                  "price_change_percentage_7d": 1.7926024333165838,
                  "price_change_percentage_14d": 2.202665034674693,
                  "price_change_percentage_30d": 1.4378424611053742,
                  "price_change_percentage_60d": 0.89386493569373,
                  "price_change_percentage_200d": -0.15589279706770806,
                  "price_change_percentage_1y": -0.16764425165078142,
                  "labels": 3
                },
                {
                  "coin_id": "tron",
                  "price_change_percentage_24h": 0.1300495287254371,
                  "price_change_percentage_7d": -0.041017572912210226,
                  "price_change_percentage_14d": 0.14715502996656585,
                  "price_change_percentage_30d": -0.5437763005424557,
                  "price_change_percentage_60d": 0.12011576150718976,
                  "price_change_percentage_200d": -0.24111818828601678,
                  "price_change_percentage_1y": -0.2340141253891166,
                  "labels": 0
                },
                {
                  "coin_id": "tezos",
                  "price_change_percentage_24h": -0.15158341148390198,
                  "price_change_percentage_7d": 0.7081957353613687,
                  "price_change_percentage_14d": 0.2580123262234469,
                  "price_change_percentage_30d": -0.6022960392247715,
                  "price_change_percentage_60d": -0.9560487007444608,
                  "price_change_percentage_200d": -0.4492109522431506,
                  "price_change_percentage_1y": -0.16847860771075593,
                  "labels": 3
                },
                {
                  "coin_id": "okb",
                  "price_change_percentage_24h": -0.9232027409124854,
                  "price_change_percentage_7d": -1.4373589353557508,
                  "price_change_percentage_14d": -0.6299627747309349,
                  "price_change_percentage_30d": -0.4605580147303932,
                  "price_change_percentage_60d": -0.0585038908494266,
                  "price_change_percentage_200d": -0.45728262418273585,
                  "price_change_percentage_1y": -0.16690045718188246,
                  "labels": 0
                },
                {
                  "coin_id": "stellar",
                  "price_change_percentage_24h": -0.27754298602598954,
                  "price_change_percentage_7d": -0.3852089099477516,
                  "price_change_percentage_14d": -0.15324316478767577,
                  "price_change_percentage_30d": -0.3718164899915129,
                  "price_change_percentage_60d": -0.6564033409100283,
                  "price_change_percentage_200d": -0.35338728262880403,
                  "price_change_percentage_1y": -0.2708740884588925,
                  "labels": 0
                },
                {
                  "coin_id": "cosmos",
                  "price_change_percentage_24h": -0.25597803962841204,
                  "price_change_percentage_7d": 1.840274403245437,
                  "price_change_percentage_14d": 0.6435648778015352,
                  "price_change_percentage_30d": 0.11653821174087736,
                  "price_change_percentage_60d": -0.15191282179228638,
                  "price_change_percentage_200d": -0.11756535301943487,
                  "price_change_percentage_1y": -0.21519097738388906,
                  "labels": 3
                },
                {
                  "coin_id": "cdai",
                  "price_change_percentage_24h": 0.18085113241673392,
                  "price_change_percentage_7d": -0.7049314201514939,
                  "price_change_percentage_14d": -0.0018161468545779466,
                  "price_change_percentage_30d": -0.14323694724685626,
                  "price_change_percentage_60d": 0.016060379816445716,
                  "price_change_percentage_200d": -0.5511464204170792,
                  "price_change_percentage_1y": -0.2823098868371216,
                  "labels": 0
                },
                {
                  "coin_id": "neo",
                  "price_change_percentage_24h": 0.286545668479983,
                  "price_change_percentage_7d": -0.3263014162757142,
                  "price_change_percentage_14d": -1.2126702991200204,
                  "price_change_percentage_30d": -0.9031338586697517,
                  "price_change_percentage_60d": 0.2909698252729614,
                  "price_change_percentage_200d": -0.18118733436899007,
                  "price_change_percentage_1y": -0.17555042783793995,
                  "labels": 0
                },
                {
                  "coin_id": "wrapped-bitcoin",
                  "price_change_percentage_24h": 0.5154534418350357,
                  "price_change_percentage_7d": 0.4618431802754836,
                  "price_change_percentage_14d": 0.7699754315730502,
                  "price_change_percentage_30d": 0.22404537499885793,
                  "price_change_percentage_60d": -0.07467416714445241,
                  "price_change_percentage_200d": -0.35505370537631503,
                  "price_change_percentage_1y": -0.25162338946236346,
                  "labels": 3
                },
                {
                  "coin_id": "leo-token",
                  "price_change_percentage_24h": 0.05175825381618298,
                  "price_change_percentage_7d": -0.9283809754601071,
                  "price_change_percentage_14d": -0.8719175105035031,
                  "price_change_percentage_30d": 0.05878170382036653,
                  "price_change_percentage_60d": -0.15924963686428395,
                  "price_change_percentage_200d": -0.5120708924298192,
                  "price_change_percentage_1y": -0.26503611930146337,
                  "labels": 0
                },
                {
                  "coin_id": "huobi-token",
                  "price_change_percentage_24h": -0.052031503880590114,
                  "price_change_percentage_7d": -0.4572290141565338,
                  "price_change_percentage_14d": 0.03252211971670038,
                  "price_change_percentage_30d": -0.18448868601971607,
                  "price_change_percentage_60d": -0.07080900685466561,
                  "price_change_percentage_200d": -0.4519823451447651,
                  "price_change_percentage_1y": -0.26214044447468937,
                  "labels": 0
                },
                {
                  "coin_id": "nem",
                  "price_change_percentage_24h": -0.21798391020006674,
                  "price_change_percentage_7d": -0.84938134802146,
                  "price_change_percentage_14d": 0.2976321014852956,
                  "price_change_percentage_30d": -0.19982017041621383,
                  "price_change_percentage_60d": 1.7731272360368855,
                  "price_change_percentage_200d": -0.04736109835467691,
                  "price_change_percentage_1y": -0.11922616471373801,
                  "labels": 0
                },
                {
                  "coin_id": "binance-usd",
                  "price_change_percentage_24h": 0.061338500038103316,
                  "price_change_percentage_7d": -0.7066687576744684,
                  "price_change_percentage_14d": -0.015320855803876272,
                  "price_change_percentage_30d": -0.05869357600342244,
                  "price_change_percentage_60d": 0.004017315822226938,
                  "price_change_percentage_200d": -0.5500026491805343,
                  "price_change_percentage_1y": -0.28196335609743095,
                  "labels": 0
                },
                {
                  "coin_id": "iota",
                  "price_change_percentage_24h": 0.2590973238143555,
                  "price_change_percentage_7d": 0.2495084561581842,
                  "price_change_percentage_14d": -0.4789527180102506,
                  "price_change_percentage_30d": -0.21899663153570156,
                  "price_change_percentage_60d": -0.7358151462887291,
                  "price_change_percentage_200d": -0.3291793152081178,
                  "price_change_percentage_1y": -0.28530981053360804,
                  "labels": 0
                },
                {
                  "coin_id": "vechain",
                  "price_change_percentage_24h": 0.5850886825108372,
                  "price_change_percentage_7d": -0.9942314669844695,
                  "price_change_percentage_14d": -2.2171081053259893,
                  "price_change_percentage_30d": -0.603897824630211,
                  "price_change_percentage_60d": -0.9304229637548989,
                  "price_change_percentage_200d": 0.0771490396371491,
                  "price_change_percentage_1y": -0.11748154377403423,
                  "labels": 0
                },
                {
                  "coin_id": "zcash",
                  "price_change_percentage_24h": -0.12746748971978172,
                  "price_change_percentage_7d": 0.9291186873801718,
                  "price_change_percentage_14d": 0.6775321093229266,
                  "price_change_percentage_30d": 0.22383400696311137,
                  "price_change_percentage_60d": -0.43706773139581034,
                  "price_change_percentage_200d": -0.26516343773807177,
                  "price_change_percentage_1y": -0.2148285849786767,
                  "labels": 3
                },
                {
                  "coin_id": "theta-token",
                  "price_change_percentage_24h": -1.6121877504778772,
                  "price_change_percentage_7d": -1.6820265588951313,
                  "price_change_percentage_14d": -0.8169209308777808,
                  "price_change_percentage_30d": 1.1486068252952832,
                  "price_change_percentage_60d": 1.7126411004883344,
                  "price_change_percentage_200d": 1.502992072531673,
                  "price_change_percentage_1y": 0.28697690710072427,
                  "labels": 0
                },
                {
                  "coin_id": "dash",
                  "price_change_percentage_24h": -0.29694016690590125,
                  "price_change_percentage_7d": 0.09476313600170767,
                  "price_change_percentage_14d": 0.040039507372386395,
                  "price_change_percentage_30d": -0.35882965356972396,
                  "price_change_percentage_60d": -0.5585273422850221,
                  "price_change_percentage_200d": -0.5357319460319937,
                  "price_change_percentage_1y": -0.28407141606887,
                  "labels": 0
                },
                {
                  "coin_id": "ethereum-classic",
                  "price_change_percentage_24h": -0.07131221902211765,
                  "price_change_percentage_7d": -0.2294837568372758,
                  "price_change_percentage_14d": -0.17554394244406138,
                  "price_change_percentage_30d": 0.051882266828078845,
                  "price_change_percentage_60d": -0.5517599452859102,
                  "price_change_percentage_200d": -0.52606033425474,
                  "price_change_percentage_1y": -0.2730616271390017,
                  "labels": 0
                },
                {
                  "coin_id": "ethlend",
                  "price_change_percentage_24h": -4.981041886343488,
                  "price_change_percentage_7d": -0.04517828983194763,
                  "price_change_percentage_14d": -1.2069561176351198,
                  "price_change_percentage_30d": -1.212125872628315,
                  "price_change_percentage_60d": 0.047735542593849746,
                  "price_change_percentage_200d": 4.632380253535924,
                  "price_change_percentage_1y": 6.088625454881483,
                  "labels": 1
                },
                {
                  "coin_id": "maker",
                  "price_change_percentage_24h": -0.12516823062652083,
                  "price_change_percentage_7d": 0.5807301080473535,
                  "price_change_percentage_14d": -0.20235636127708295,
                  "price_change_percentage_30d": 0.5829110220611436,
                  "price_change_percentage_60d": -0.39592300071936165,
                  "price_change_percentage_200d": -0.3582400465444691,
                  "price_change_percentage_1y": -0.27343334182231344,
                  "labels": 3
                },
                {
                  "coin_id": "havven",
                  "price_change_percentage_24h": -1.428573878476343,
                  "price_change_percentage_7d": -0.025510168056776892,
                  "price_change_percentage_14d": -1.6288592268530901,
                  "price_change_percentage_30d": -0.8603537368456844,
                  "price_change_percentage_60d": -0.8407135403216132,
                  "price_change_percentage_200d": 0.8988154862855707,
                  "price_change_percentage_1y": 0.26864737737188416,
                  "labels": 0
                },
                {
                  "coin_id": "omisego",
                  "price_change_percentage_24h": 1.9198123431080822,
                  "price_change_percentage_7d": 0.37044715731184824,
                  "price_change_percentage_14d": -1.6197610123399062,
                  "price_change_percentage_30d": -0.4097163160229516,
                  "price_change_percentage_60d": 1.696480442741837,
                  "price_change_percentage_200d": 0.8112069688724987,
                  "price_change_percentage_1y": -0.02188781294325084,
                  "labels": 0
                },
                {
                  "coin_id": "celsius-degree-token",
                  "price_change_percentage_24h": 1.0455303437735397,
                  "price_change_percentage_7d": -0.6183281619450216,
                  "price_change_percentage_14d": 2.9070539266782687,
                  "price_change_percentage_30d": 5.351454612662935,
                  "price_change_percentage_60d": 4.769912781178204,
                  "price_change_percentage_200d": 3.1488754623998765,
                  "price_change_percentage_1y": 1.3484883901540017,
                  "labels": 2
                },
                {
                  "coin_id": "ontology",
                  "price_change_percentage_24h": -0.4090440755395801,
                  "price_change_percentage_7d": -0.9069628116828178,
                  "price_change_percentage_14d": -1.2989861044225028,
                  "price_change_percentage_30d": -1.3931526033017467,
                  "price_change_percentage_60d": -0.6969369731366347,
                  "price_change_percentage_200d": -0.422834706827598,
                  "price_change_percentage_1y": -0.29234378983828924,
                  "labels": 0
                },
                {
                  "coin_id": "ftx-token",
                  "price_change_percentage_24h": 0.41471057813276363,
                  "price_change_percentage_7d": 0.41404416555518786,
                  "price_change_percentage_14d": -0.047385777330082986,
                  "price_change_percentage_30d": -0.4653798960840519,
                  "price_change_percentage_60d": 0.12818465499496567,
                  "price_change_percentage_200d": -0.4165020119377626,
                  "price_change_percentage_1y": -0.145469278149236,
                  "labels": 0
                },
                {
                  "coin_id": "true-usd",
                  "price_change_percentage_24h": 0.07803818413866644,
                  "price_change_percentage_7d": -0.6877454359891283,
                  "price_change_percentage_14d": -0.00919092168978632,
                  "price_change_percentage_30d": -0.05821434702055703,
                  "price_change_percentage_60d": 0.007388296463173008,
                  "price_change_percentage_200d": -0.5504407431767078,
                  "price_change_percentage_1y": -0.28174681799456275,
                  "labels": 0
                },
                {
                  "coin_id": "digibyte",
                  "price_change_percentage_24h": 1.2174525584250286,
                  "price_change_percentage_7d": -0.6077135696200122,
                  "price_change_percentage_14d": -0.9070655278351205,
                  "price_change_percentage_30d": 0.449939006467455,
                  "price_change_percentage_60d": -0.6625295013405752,
                  "price_change_percentage_200d": 0.5723665569744097,
                  "price_change_percentage_1y": -0.13248167339965194,
                  "labels": 0
                }
              ],
              "datalink": {
                "display_id": "d10d3140-908e-4435-856f-7c63ebf28409"
              }
            }
          },
          "metadata": {
            "application/vnd.dataresource+json": {
              "datalink": {
                "dataframe_info": {
                  "default_index_used": false,
                  "orig_size_bytes": 2788,
                  "orig_num_rows": 41,
                  "orig_num_cols": 8,
                  "truncated_string_columns": [],
                  "truncated_size_bytes": 2788,
                  "truncated_num_rows": 41,
                  "truncated_num_cols": 8
                },
                "dx_settings": {
                  "NUM_PAST_SAMPLES_TRACKED": 3,
                  "ENABLE_DATALINK": true,
                  "DISPLAY_MODE": "simple",
                  "GENERATE_DEX_METADATA": false,
                  "STRINGIFY_INDEX_VALUES": false,
                  "ALLOW_NOTEABLE_ATTRS": true,
                  "DISPLAY_MAX_COLUMNS": 100,
                  "HTML_TABLE_SCHEMA": false,
                  "SAMPLING_FACTOR": 0.1,
                  "LOG_LEVEL": 30,
                  "ENABLE_ASSIGNMENT": true,
                  "FLATTEN_INDEX_VALUES": false,
                  "DEV_MODE": false,
                  "COLUMN_SAMPLING_METHOD": "outer",
                  "FLATTEN_COLUMN_VALUES": true,
                  "DISPLAY_MAX_ROWS": 50000,
                  "ROW_SAMPLING_METHOD": "random",
                  "RANDOM_STATE": 12648430,
                  "DB_LOCATION": ":memory:",
                  "STRINGIFY_COLUMN_VALUES": true,
                  "SAMPLING_METHOD": "random",
                  "MAX_STRING_LENGTH": 250,
                  "MAX_RENDER_SIZE_BYTES": 104857600,
                  "RESET_INDEX_VALUES": false
                },
                "display_id": "d10d3140-908e-4435-856f-7c63ebf28409",
                "applied_filters": [],
                "sample_history": [],
                "sampling_time": "2023-08-22T00:25:44.917659",
                "variable_name": "df_with_clusters",
                "user_variable_name": "df_with_clusters"
              },
              "display_id": "d10d3140-908e-4435-856f-7c63ebf28409"
            }
          }
        }
      ],
      "execution_count": null,
      "metadata": {
        "jupyter": {
          "source_hidden": false,
          "outputs_hidden": false
        },
        "noteable": {
          "cell_type": "code"
        },
        "ExecuteTime": {
          "start_time": "2023-08-22T00:25:44.723495+00:00",
          "end_time": "2023-08-22T00:25:45.085024+00:00"
        },
        "datalink": {
          "17074a48-ba17-4a78-91ef-1a371a1b3580": {
            "dataframe_info": {
              "default_index_used": false,
              "orig_size_bytes": 2788,
              "orig_num_rows": 41,
              "orig_num_cols": 8,
              "truncated_string_columns": [],
              "truncated_size_bytes": 2788,
              "truncated_num_rows": 41,
              "truncated_num_cols": 8
            },
            "dx_settings": {
              "LOG_LEVEL": 30,
              "DEV_MODE": false,
              "DISPLAY_MAX_ROWS": 50000,
              "DISPLAY_MAX_COLUMNS": 100,
              "HTML_TABLE_SCHEMA": false,
              "MAX_RENDER_SIZE_BYTES": 104857600,
              "MAX_STRING_LENGTH": 250,
              "SAMPLING_FACTOR": 0.1,
              "DISPLAY_MODE": "simple",
              "SAMPLING_METHOD": "random",
              "COLUMN_SAMPLING_METHOD": "outer",
              "ROW_SAMPLING_METHOD": "random",
              "RANDOM_STATE": 12648430,
              "RESET_INDEX_VALUES": false,
              "FLATTEN_INDEX_VALUES": false,
              "FLATTEN_COLUMN_VALUES": true,
              "STRINGIFY_INDEX_VALUES": false,
              "STRINGIFY_COLUMN_VALUES": true,
              "ENABLE_DATALINK": true,
              "ENABLE_ASSIGNMENT": true,
              "NUM_PAST_SAMPLES_TRACKED": 3,
              "DB_LOCATION": ":memory:",
              "GENERATE_DEX_METADATA": false,
              "ALLOW_NOTEABLE_ATTRS": true
            },
            "display_id": "17074a48-ba17-4a78-91ef-1a371a1b3580",
            "applied_filters": [],
            "sample_history": [],
            "sampling_time": "2023-08-22T00:13:57.841037",
            "variable_name": "df_with_clusters",
            "user_variable_name": "df_with_clusters"
          },
          "8034e89f-7477-4e97-b297-5a56fc631ae5": {
            "dataframe_info": {
              "default_index_used": false,
              "orig_size_bytes": 2788,
              "orig_num_rows": 41,
              "orig_num_cols": 8,
              "truncated_string_columns": [],
              "truncated_size_bytes": 2788,
              "truncated_num_rows": 41,
              "truncated_num_cols": 8
            },
            "dx_settings": {
              "LOG_LEVEL": 30,
              "DEV_MODE": false,
              "DISPLAY_MAX_ROWS": 50000,
              "DISPLAY_MAX_COLUMNS": 100,
              "HTML_TABLE_SCHEMA": false,
              "MAX_RENDER_SIZE_BYTES": 104857600,
              "MAX_STRING_LENGTH": 250,
              "SAMPLING_FACTOR": 0.1,
              "DISPLAY_MODE": "simple",
              "SAMPLING_METHOD": "random",
              "COLUMN_SAMPLING_METHOD": "outer",
              "ROW_SAMPLING_METHOD": "random",
              "RANDOM_STATE": 12648430,
              "RESET_INDEX_VALUES": false,
              "FLATTEN_INDEX_VALUES": false,
              "FLATTEN_COLUMN_VALUES": true,
              "STRINGIFY_INDEX_VALUES": false,
              "STRINGIFY_COLUMN_VALUES": true,
              "ENABLE_DATALINK": true,
              "ENABLE_ASSIGNMENT": true,
              "NUM_PAST_SAMPLES_TRACKED": 3,
              "DB_LOCATION": ":memory:",
              "GENERATE_DEX_METADATA": false,
              "ALLOW_NOTEABLE_ATTRS": true
            },
            "display_id": "8034e89f-7477-4e97-b297-5a56fc631ae5",
            "applied_filters": [],
            "sample_history": [],
            "sampling_time": "2023-08-22T00:20:35.537593",
            "variable_name": "df_with_clusters",
            "user_variable_name": "df_with_clusters"
          },
          "d10d3140-908e-4435-856f-7c63ebf28409": {
            "dataframe_info": {
              "default_index_used": false,
              "orig_size_bytes": 2788,
              "orig_num_rows": 41,
              "orig_num_cols": 8,
              "truncated_string_columns": [],
              "truncated_size_bytes": 2788,
              "truncated_num_rows": 41,
              "truncated_num_cols": 8
            },
            "dx_settings": {
              "LOG_LEVEL": 30,
              "DEV_MODE": false,
              "DISPLAY_MAX_ROWS": 50000,
              "DISPLAY_MAX_COLUMNS": 100,
              "HTML_TABLE_SCHEMA": false,
              "MAX_RENDER_SIZE_BYTES": 104857600,
              "MAX_STRING_LENGTH": 250,
              "SAMPLING_FACTOR": 0.1,
              "DISPLAY_MODE": "simple",
              "SAMPLING_METHOD": "random",
              "COLUMN_SAMPLING_METHOD": "outer",
              "ROW_SAMPLING_METHOD": "random",
              "RANDOM_STATE": 12648430,
              "RESET_INDEX_VALUES": false,
              "FLATTEN_INDEX_VALUES": false,
              "FLATTEN_COLUMN_VALUES": true,
              "STRINGIFY_INDEX_VALUES": false,
              "STRINGIFY_COLUMN_VALUES": true,
              "ENABLE_DATALINK": true,
              "ENABLE_ASSIGNMENT": true,
              "NUM_PAST_SAMPLES_TRACKED": 3,
              "DB_LOCATION": ":memory:",
              "GENERATE_DEX_METADATA": false,
              "ALLOW_NOTEABLE_ATTRS": true
            },
            "display_id": "d10d3140-908e-4435-856f-7c63ebf28409",
            "applied_filters": [],
            "sample_history": [],
            "sampling_time": "2023-08-22T00:25:44.917659",
            "variable_name": "df_with_clusters",
            "user_variable_name": "df_with_clusters"
          }
        }
      },
      "id": "70496843-97dd-4437-bd59-cd57fbc0aaac"
    },
    {
      "cell_type": "code",
      "source": [
        "# Composite plot to contrast the clusters\n",
        "# Create a composite plot to contrast the clusters\n",
        "plt.figure(figsize=(12, 8))\n",
        "\n",
        "# Scatter plot for df_with_clusters\n",
        "plt.scatter(df_with_clusters['price_change_percentage_24h'], df_with_clusters['price_change_percentage_7d'], c=df_with_clusters['labels'], label='Before PCA', marker='o', alpha=0.6)\n",
        "\n",
        "# Scatter plot for df_with_clusters_2\n",
        "plt.scatter(df_with_clusters_2['PC1'], df_with_clusters_2['PC2'], c=df_with_clusters_2['labels'], label='After PCA', marker='s', alpha=0.6)\n",
        "\n",
        "plt.title('Comparison of Clusters Before and After PCA')\n",
        "plt.xlabel('X-axis label')\n",
        "plt.ylabel('Y-axis label')\n",
        "plt.legend()\n",
        "plt.grid(True)\n",
        "plt.show()\n",
        "# YOUR CODE HERE!"
      ],
      "outputs": [
        {
          "output_type": "display_data",
          "data": {
            "image/png": "[encoded data removed]"
          },
          "metadata": {}
        }
      ],
      "execution_count": 31,
      "metadata": {
        "noteable": {},
        "ExecuteTime": {
          "start_time": "2023-08-22T00:25:45.116664+00:00",
          "end_time": "2023-08-22T00:25:45.609071+00:00"
        }
      },
      "id": "56af8b90"
    },
    {
      "cell_type": "markdown",
      "source": [
        "#### Answer the following question: \n",
        "\n",
        "  * **Question:** After visually analyzing the cluster analysis results, what is the impact of using fewer features to cluster the data using K-Means?\n",
        "\n",
        "  * **Answer:** I do not know why it differs. I expected to have a very similar output but I did not."
      ],
      "metadata": {},
      "id": "e77ebc89"
    },
    {
      "cell_type": "code",
      "source": [
        "# Display the first few rows of the original DataFrame to identify the correct column name for the crypto names\n",
        "df_market_data.head()"
      ],
      "outputs": [
        {
          "output_type": "display_data",
          "data": {
            "application/vnd.dataresource+json": {
              "schema": {
                "fields": [
                  {
                    "name": "coin_id",
                    "type": "string"
                  },
                  {
                    "name": "price_change_percentage_24h",
                    "type": "number"
                  },
                  {
                    "name": "price_change_percentage_7d",
                    "type": "number"
                  },
                  {
                    "name": "price_change_percentage_14d",
                    "type": "number"
                  },
                  {
                    "name": "price_change_percentage_30d",
                    "type": "number"
                  },
                  {
                    "name": "price_change_percentage_60d",
                    "type": "number"
                  },
                  {
                    "name": "price_change_percentage_200d",
                    "type": "number"
                  },
                  {
                    "name": "price_change_percentage_1y",
                    "type": "number"
                  }
                ],
                "primaryKey": [
                  "coin_id"
                ],
                "pandas_version": "1.4.0"
              },
              "data": [
                {
                  "coin_id": "bitcoin",
                  "price_change_percentage_24h": 1.08388,
                  "price_change_percentage_7d": 7.60278,
                  "price_change_percentage_14d": 6.57509,
                  "price_change_percentage_30d": 7.67258,
                  "price_change_percentage_60d": -3.25185,
                  "price_change_percentage_200d": 83.5184,
                  "price_change_percentage_1y": 37.51761
                },
                {
                  "coin_id": "ethereum",
                  "price_change_percentage_24h": 0.22392,
                  "price_change_percentage_7d": 10.38134,
                  "price_change_percentage_14d": 4.80849,
                  "price_change_percentage_30d": 0.13169,
                  "price_change_percentage_60d": -12.8889,
                  "price_change_percentage_200d": 186.77418,
                  "price_change_percentage_1y": 101.96023
                },
                {
                  "coin_id": "tether",
                  "price_change_percentage_24h": -0.21173,
                  "price_change_percentage_7d": 0.04935,
                  "price_change_percentage_14d": 0.0064,
                  "price_change_percentage_30d": -0.04237,
                  "price_change_percentage_60d": 0.28037,
                  "price_change_percentage_200d": -0.00542,
                  "price_change_percentage_1y": 0.01954
                },
                {
                  "coin_id": "ripple",
                  "price_change_percentage_24h": -0.37819,
                  "price_change_percentage_7d": -0.60926,
                  "price_change_percentage_14d": 2.24984,
                  "price_change_percentage_30d": 0.23455,
                  "price_change_percentage_60d": -17.55245,
                  "price_change_percentage_200d": 39.53888,
                  "price_change_percentage_1y": -16.60193
                },
                {
                  "coin_id": "bitcoin-cash",
                  "price_change_percentage_24h": 2.90585,
                  "price_change_percentage_7d": 17.09717,
                  "price_change_percentage_14d": 14.75334,
                  "price_change_percentage_30d": 15.74903,
                  "price_change_percentage_60d": -13.71793,
                  "price_change_percentage_200d": 21.66042,
                  "price_change_percentage_1y": 14.49384
                }
              ],
              "datalink": {
                "display_id": "6efde99b-17c4-40a8-8ab3-5bc1be7a7f6c"
              }
            }
          },
          "metadata": {
            "application/vnd.dataresource+json": {
              "datalink": {
                "dataframe_info": {
                  "default_index_used": false,
                  "orig_size_bytes": 320,
                  "orig_num_rows": 5,
                  "orig_num_cols": 7,
                  "truncated_string_columns": [],
                  "truncated_size_bytes": 320,
                  "truncated_num_rows": 5,
                  "truncated_num_cols": 7
                },
                "dx_settings": {
                  "NUM_PAST_SAMPLES_TRACKED": 3,
                  "ENABLE_DATALINK": true,
                  "DISPLAY_MODE": "simple",
                  "GENERATE_DEX_METADATA": false,
                  "STRINGIFY_INDEX_VALUES": false,
                  "ALLOW_NOTEABLE_ATTRS": true,
                  "DISPLAY_MAX_COLUMNS": 100,
                  "HTML_TABLE_SCHEMA": false,
                  "SAMPLING_FACTOR": 0.1,
                  "LOG_LEVEL": 30,
                  "ENABLE_ASSIGNMENT": true,
                  "FLATTEN_INDEX_VALUES": false,
                  "DEV_MODE": false,
                  "COLUMN_SAMPLING_METHOD": "outer",
                  "FLATTEN_COLUMN_VALUES": true,
                  "DISPLAY_MAX_ROWS": 50000,
                  "ROW_SAMPLING_METHOD": "random",
                  "RANDOM_STATE": 12648430,
                  "DB_LOCATION": ":memory:",
                  "STRINGIFY_COLUMN_VALUES": true,
                  "SAMPLING_METHOD": "random",
                  "MAX_STRING_LENGTH": 250,
                  "MAX_RENDER_SIZE_BYTES": 104857600,
                  "RESET_INDEX_VALUES": false
                },
                "display_id": "6efde99b-17c4-40a8-8ab3-5bc1be7a7f6c",
                "applied_filters": [],
                "sample_history": [],
                "sampling_time": "2023-08-22T00:25:46.024667",
                "variable_name": "unk_dataframe_f285b5796a0744eb909eeea21c6b8e67",
                "user_variable_name": null
              },
              "display_id": "6efde99b-17c4-40a8-8ab3-5bc1be7a7f6c"
            }
          }
        }
      ],
      "execution_count": null,
      "metadata": {
        "noteable": {
          "cell_type": "code"
        },
        "ExecuteTime": {
          "start_time": "2023-08-22T00:25:45.829989+00:00",
          "end_time": "2023-08-22T00:25:46.194046+00:00"
        },
        "datalink": {
          "437e02ee-a3f3-45b1-a669-f09c02987c5e": {
            "applied_filters": [],
            "dataframe_info": {
              "default_index_used": false,
              "orig_num_cols": 7,
              "orig_num_rows": 5,
              "orig_size_bytes": 320,
              "truncated_num_cols": 7,
              "truncated_num_rows": 5,
              "truncated_size_bytes": 320,
              "truncated_string_columns": []
            },
            "display_id": "437e02ee-a3f3-45b1-a669-f09c02987c5e",
            "dx_settings": {
              "ALLOW_NOTEABLE_ATTRS": true,
              "COLUMN_SAMPLING_METHOD": "outer",
              "DB_LOCATION": ":memory:",
              "DEV_MODE": false,
              "DISPLAY_MAX_COLUMNS": 100,
              "DISPLAY_MAX_ROWS": 50000,
              "DISPLAY_MODE": "simple",
              "ENABLE_ASSIGNMENT": true,
              "ENABLE_DATALINK": true,
              "FLATTEN_COLUMN_VALUES": true,
              "FLATTEN_INDEX_VALUES": false,
              "GENERATE_DEX_METADATA": false,
              "HTML_TABLE_SCHEMA": false,
              "LOG_LEVEL": 30,
              "MAX_RENDER_SIZE_BYTES": 104857600,
              "MAX_STRING_LENGTH": 250,
              "NUM_PAST_SAMPLES_TRACKED": 3,
              "RANDOM_STATE": 12648430,
              "RESET_INDEX_VALUES": false,
              "ROW_SAMPLING_METHOD": "random",
              "SAMPLING_FACTOR": 0.1,
              "SAMPLING_METHOD": "random",
              "STRINGIFY_COLUMN_VALUES": true,
              "STRINGIFY_INDEX_VALUES": false
            },
            "sample_history": [],
            "sampling_time": "2023-08-08T20:28:55.058806",
            "user_variable_name": null,
            "variable_name": "unk_dataframe_a2ded6db94dc4767809e04de0b1e6075"
          },
          "f024c81f-c0d1-4847-b4a5-479c6c0dc80b": {
            "applied_filters": [],
            "dataframe_info": {
              "default_index_used": false,
              "orig_num_cols": 7,
              "orig_num_rows": 5,
              "orig_size_bytes": 320,
              "truncated_num_cols": 7,
              "truncated_num_rows": 5,
              "truncated_size_bytes": 320,
              "truncated_string_columns": []
            },
            "display_id": "f024c81f-c0d1-4847-b4a5-479c6c0dc80b",
            "dx_settings": {
              "ALLOW_NOTEABLE_ATTRS": true,
              "COLUMN_SAMPLING_METHOD": "outer",
              "DB_LOCATION": ":memory:",
              "DEV_MODE": false,
              "DISPLAY_MAX_COLUMNS": 100,
              "DISPLAY_MAX_ROWS": 50000,
              "DISPLAY_MODE": "simple",
              "ENABLE_ASSIGNMENT": true,
              "ENABLE_DATALINK": true,
              "FLATTEN_COLUMN_VALUES": true,
              "FLATTEN_INDEX_VALUES": false,
              "GENERATE_DEX_METADATA": false,
              "HTML_TABLE_SCHEMA": false,
              "LOG_LEVEL": 30,
              "MAX_RENDER_SIZE_BYTES": 104857600,
              "MAX_STRING_LENGTH": 250,
              "NUM_PAST_SAMPLES_TRACKED": 3,
              "RANDOM_STATE": 12648430,
              "RESET_INDEX_VALUES": false,
              "ROW_SAMPLING_METHOD": "random",
              "SAMPLING_FACTOR": 0.1,
              "SAMPLING_METHOD": "random",
              "STRINGIFY_COLUMN_VALUES": true,
              "STRINGIFY_INDEX_VALUES": false
            },
            "sample_history": [],
            "sampling_time": "2023-08-20T05:21:49.558956",
            "user_variable_name": null,
            "variable_name": "unk_dataframe_391c5e69ab0c4c66a8f65aa9cf63f1bc"
          },
          "e5d95260-c285-47c0-ba8d-33c730e12450": {
            "applied_filters": [],
            "dataframe_info": {
              "default_index_used": false,
              "orig_num_cols": 7,
              "orig_num_rows": 5,
              "orig_size_bytes": 320,
              "truncated_num_cols": 7,
              "truncated_num_rows": 5,
              "truncated_size_bytes": 320,
              "truncated_string_columns": []
            },
            "display_id": "e5d95260-c285-47c0-ba8d-33c730e12450",
            "dx_settings": {
              "ALLOW_NOTEABLE_ATTRS": true,
              "COLUMN_SAMPLING_METHOD": "outer",
              "DB_LOCATION": ":memory:",
              "DEV_MODE": false,
              "DISPLAY_MAX_COLUMNS": 100,
              "DISPLAY_MAX_ROWS": 50000,
              "DISPLAY_MODE": "simple",
              "ENABLE_ASSIGNMENT": true,
              "ENABLE_DATALINK": true,
              "FLATTEN_COLUMN_VALUES": true,
              "FLATTEN_INDEX_VALUES": false,
              "GENERATE_DEX_METADATA": false,
              "HTML_TABLE_SCHEMA": false,
              "LOG_LEVEL": 30,
              "MAX_RENDER_SIZE_BYTES": 104857600,
              "MAX_STRING_LENGTH": 250,
              "NUM_PAST_SAMPLES_TRACKED": 3,
              "RANDOM_STATE": 12648430,
              "RESET_INDEX_VALUES": false,
              "ROW_SAMPLING_METHOD": "random",
              "SAMPLING_FACTOR": 0.1,
              "SAMPLING_METHOD": "random",
              "STRINGIFY_COLUMN_VALUES": true,
              "STRINGIFY_INDEX_VALUES": false
            },
            "sample_history": [],
            "sampling_time": "2023-08-20T14:06:06.457961",
            "user_variable_name": null,
            "variable_name": "unk_dataframe_f4223d8202ac4aa58bbca60313085a9d"
          },
          "4c4af529-cf52-4c41-afa3-5452af5f0769": {
            "applied_filters": [],
            "dataframe_info": {
              "default_index_used": false,
              "orig_num_cols": 7,
              "orig_num_rows": 5,
              "orig_size_bytes": 320,
              "truncated_num_cols": 7,
              "truncated_num_rows": 5,
              "truncated_size_bytes": 320,
              "truncated_string_columns": []
            },
            "display_id": "4c4af529-cf52-4c41-afa3-5452af5f0769",
            "dx_settings": {
              "ALLOW_NOTEABLE_ATTRS": true,
              "COLUMN_SAMPLING_METHOD": "outer",
              "DB_LOCATION": ":memory:",
              "DEV_MODE": false,
              "DISPLAY_MAX_COLUMNS": 100,
              "DISPLAY_MAX_ROWS": 50000,
              "DISPLAY_MODE": "simple",
              "ENABLE_ASSIGNMENT": true,
              "ENABLE_DATALINK": true,
              "FLATTEN_COLUMN_VALUES": true,
              "FLATTEN_INDEX_VALUES": false,
              "GENERATE_DEX_METADATA": false,
              "HTML_TABLE_SCHEMA": false,
              "LOG_LEVEL": 30,
              "MAX_RENDER_SIZE_BYTES": 104857600,
              "MAX_STRING_LENGTH": 250,
              "NUM_PAST_SAMPLES_TRACKED": 3,
              "RANDOM_STATE": 12648430,
              "RESET_INDEX_VALUES": false,
              "ROW_SAMPLING_METHOD": "random",
              "SAMPLING_FACTOR": 0.1,
              "SAMPLING_METHOD": "random",
              "STRINGIFY_COLUMN_VALUES": true,
              "STRINGIFY_INDEX_VALUES": false
            },
            "sample_history": [],
            "sampling_time": "2023-08-20T14:49:57.097488",
            "user_variable_name": null,
            "variable_name": "unk_dataframe_3fca04732205483faba16af989b9e47f"
          },
          "742a3dac-e130-443d-815c-cccd4232e8e1": {
            "applied_filters": [],
            "dataframe_info": {
              "default_index_used": false,
              "orig_num_cols": 7,
              "orig_num_rows": 5,
              "orig_size_bytes": 320,
              "truncated_num_cols": 7,
              "truncated_num_rows": 5,
              "truncated_size_bytes": 320,
              "truncated_string_columns": []
            },
            "display_id": "742a3dac-e130-443d-815c-cccd4232e8e1",
            "dx_settings": {
              "ALLOW_NOTEABLE_ATTRS": true,
              "COLUMN_SAMPLING_METHOD": "outer",
              "DB_LOCATION": ":memory:",
              "DEV_MODE": false,
              "DISPLAY_MAX_COLUMNS": 100,
              "DISPLAY_MAX_ROWS": 50000,
              "DISPLAY_MODE": "simple",
              "ENABLE_ASSIGNMENT": true,
              "ENABLE_DATALINK": true,
              "FLATTEN_COLUMN_VALUES": true,
              "FLATTEN_INDEX_VALUES": false,
              "GENERATE_DEX_METADATA": false,
              "HTML_TABLE_SCHEMA": false,
              "LOG_LEVEL": 30,
              "MAX_RENDER_SIZE_BYTES": 104857600,
              "MAX_STRING_LENGTH": 250,
              "NUM_PAST_SAMPLES_TRACKED": 3,
              "RANDOM_STATE": 12648430,
              "RESET_INDEX_VALUES": false,
              "ROW_SAMPLING_METHOD": "random",
              "SAMPLING_FACTOR": 0.1,
              "SAMPLING_METHOD": "random",
              "STRINGIFY_COLUMN_VALUES": true,
              "STRINGIFY_INDEX_VALUES": false
            },
            "sample_history": [],
            "sampling_time": "2023-08-21T01:33:34.102449",
            "user_variable_name": null,
            "variable_name": "unk_dataframe_d4e4ccfc4e3044279448876305d73031"
          },
          "cc06eb95-1477-494a-92b3-36940f65a0c7": {
            "applied_filters": [],
            "dataframe_info": {
              "default_index_used": false,
              "orig_num_cols": 7,
              "orig_num_rows": 5,
              "orig_size_bytes": 320,
              "truncated_num_cols": 7,
              "truncated_num_rows": 5,
              "truncated_size_bytes": 320,
              "truncated_string_columns": []
            },
            "display_id": "cc06eb95-1477-494a-92b3-36940f65a0c7",
            "dx_settings": {
              "ALLOW_NOTEABLE_ATTRS": true,
              "COLUMN_SAMPLING_METHOD": "outer",
              "DB_LOCATION": ":memory:",
              "DEV_MODE": false,
              "DISPLAY_MAX_COLUMNS": 100,
              "DISPLAY_MAX_ROWS": 50000,
              "DISPLAY_MODE": "simple",
              "ENABLE_ASSIGNMENT": true,
              "ENABLE_DATALINK": true,
              "FLATTEN_COLUMN_VALUES": true,
              "FLATTEN_INDEX_VALUES": false,
              "GENERATE_DEX_METADATA": false,
              "HTML_TABLE_SCHEMA": false,
              "LOG_LEVEL": 30,
              "MAX_RENDER_SIZE_BYTES": 104857600,
              "MAX_STRING_LENGTH": 250,
              "NUM_PAST_SAMPLES_TRACKED": 3,
              "RANDOM_STATE": 12648430,
              "RESET_INDEX_VALUES": false,
              "ROW_SAMPLING_METHOD": "random",
              "SAMPLING_FACTOR": 0.1,
              "SAMPLING_METHOD": "random",
              "STRINGIFY_COLUMN_VALUES": true,
              "STRINGIFY_INDEX_VALUES": false
            },
            "sample_history": [],
            "sampling_time": "2023-08-21T23:41:44.399204",
            "user_variable_name": null,
            "variable_name": "unk_dataframe_d81241323b4e4095971a244355f43ab2"
          },
          "f0a3a921-ea9b-49f3-891b-5f324ba96ac1": {
            "dataframe_info": {
              "default_index_used": false,
              "orig_size_bytes": 320,
              "orig_num_rows": 5,
              "orig_num_cols": 7,
              "truncated_string_columns": [],
              "truncated_size_bytes": 320,
              "truncated_num_rows": 5,
              "truncated_num_cols": 7
            },
            "dx_settings": {
              "LOG_LEVEL": 30,
              "DEV_MODE": false,
              "DISPLAY_MAX_ROWS": 50000,
              "DISPLAY_MAX_COLUMNS": 100,
              "HTML_TABLE_SCHEMA": false,
              "MAX_RENDER_SIZE_BYTES": 104857600,
              "MAX_STRING_LENGTH": 250,
              "SAMPLING_FACTOR": 0.1,
              "DISPLAY_MODE": "simple",
              "SAMPLING_METHOD": "random",
              "COLUMN_SAMPLING_METHOD": "outer",
              "ROW_SAMPLING_METHOD": "random",
              "RANDOM_STATE": 12648430,
              "RESET_INDEX_VALUES": false,
              "FLATTEN_INDEX_VALUES": false,
              "FLATTEN_COLUMN_VALUES": true,
              "STRINGIFY_INDEX_VALUES": false,
              "STRINGIFY_COLUMN_VALUES": true,
              "ENABLE_DATALINK": true,
              "ENABLE_ASSIGNMENT": true,
              "NUM_PAST_SAMPLES_TRACKED": 3,
              "DB_LOCATION": ":memory:",
              "GENERATE_DEX_METADATA": false,
              "ALLOW_NOTEABLE_ATTRS": true
            },
            "display_id": "f0a3a921-ea9b-49f3-891b-5f324ba96ac1",
            "applied_filters": [],
            "sample_history": [],
            "sampling_time": "2023-08-22T00:01:16.277312",
            "variable_name": "unk_dataframe_026ddf7d6cd2406cbdf95f3913400983",
            "user_variable_name": null
          },
          "aaac203c-c0e5-4598-b1ce-eb3b4b8dae3e": {
            "dataframe_info": {
              "default_index_used": false,
              "orig_size_bytes": 320,
              "orig_num_rows": 5,
              "orig_num_cols": 7,
              "truncated_string_columns": [],
              "truncated_size_bytes": 320,
              "truncated_num_rows": 5,
              "truncated_num_cols": 7
            },
            "dx_settings": {
              "LOG_LEVEL": 30,
              "DEV_MODE": false,
              "DISPLAY_MAX_ROWS": 50000,
              "DISPLAY_MAX_COLUMNS": 100,
              "HTML_TABLE_SCHEMA": false,
              "MAX_RENDER_SIZE_BYTES": 104857600,
              "MAX_STRING_LENGTH": 250,
              "SAMPLING_FACTOR": 0.1,
              "DISPLAY_MODE": "simple",
              "SAMPLING_METHOD": "random",
              "COLUMN_SAMPLING_METHOD": "outer",
              "ROW_SAMPLING_METHOD": "random",
              "RANDOM_STATE": 12648430,
              "RESET_INDEX_VALUES": false,
              "FLATTEN_INDEX_VALUES": false,
              "FLATTEN_COLUMN_VALUES": true,
              "STRINGIFY_INDEX_VALUES": false,
              "STRINGIFY_COLUMN_VALUES": true,
              "ENABLE_DATALINK": true,
              "ENABLE_ASSIGNMENT": true,
              "NUM_PAST_SAMPLES_TRACKED": 3,
              "DB_LOCATION": ":memory:",
              "GENERATE_DEX_METADATA": false,
              "ALLOW_NOTEABLE_ATTRS": true
            },
            "display_id": "aaac203c-c0e5-4598-b1ce-eb3b4b8dae3e",
            "applied_filters": [],
            "sample_history": [],
            "sampling_time": "2023-08-22T00:20:38.041051",
            "variable_name": "unk_dataframe_02ad2e9e649d42ff9bbd994238146c1a",
            "user_variable_name": null
          },
          "6efde99b-17c4-40a8-8ab3-5bc1be7a7f6c": {
            "dataframe_info": {
              "default_index_used": false,
              "orig_size_bytes": 320,
              "orig_num_rows": 5,
              "orig_num_cols": 7,
              "truncated_string_columns": [],
              "truncated_size_bytes": 320,
              "truncated_num_rows": 5,
              "truncated_num_cols": 7
            },
            "dx_settings": {
              "LOG_LEVEL": 30,
              "DEV_MODE": false,
              "DISPLAY_MAX_ROWS": 50000,
              "DISPLAY_MAX_COLUMNS": 100,
              "HTML_TABLE_SCHEMA": false,
              "MAX_RENDER_SIZE_BYTES": 104857600,
              "MAX_STRING_LENGTH": 250,
              "SAMPLING_FACTOR": 0.1,
              "DISPLAY_MODE": "simple",
              "SAMPLING_METHOD": "random",
              "COLUMN_SAMPLING_METHOD": "outer",
              "ROW_SAMPLING_METHOD": "random",
              "RANDOM_STATE": 12648430,
              "RESET_INDEX_VALUES": false,
              "FLATTEN_INDEX_VALUES": false,
              "FLATTEN_COLUMN_VALUES": true,
              "STRINGIFY_INDEX_VALUES": false,
              "STRINGIFY_COLUMN_VALUES": true,
              "ENABLE_DATALINK": true,
              "ENABLE_ASSIGNMENT": true,
              "NUM_PAST_SAMPLES_TRACKED": 3,
              "DB_LOCATION": ":memory:",
              "GENERATE_DEX_METADATA": false,
              "ALLOW_NOTEABLE_ATTRS": true
            },
            "display_id": "6efde99b-17c4-40a8-8ab3-5bc1be7a7f6c",
            "applied_filters": [],
            "sample_history": [],
            "sampling_time": "2023-08-22T00:25:46.024667",
            "variable_name": "unk_dataframe_f285b5796a0744eb909eeea21c6b8e67",
            "user_variable_name": null
          }
        }
      },
      "id": "877f75b0-05f9-404b-9baa-226e4583f05f"
    }
  ],
  "metadata": {
    "kernelspec": {
      "name": "python3",
      "display_name": "Python 3.9",
      "language": "python"
    },
    "language_info": {
      "codemirror_mode": {
        "name": "ipython",
        "version": 3
      },
      "file_extension": ".py",
      "mimetype": "text/x-python",
      "name": "python",
      "nbconvert_exporter": "python",
      "pygments_lexer": "ipython3",
      "version": "3.10.4"
    },
    "nteract": {
      "version": "noteable@2.9.0"
    },
    "vscode": {
      "interpreter": {
        "hash": "40d3a090f54c6569ab1632332b64b2c03c39dcf918b08424e98f38b5ae0af88f"
      }
    },
    "noteable": {
      "last_transaction_id": "5dd99d26-ff4b-457a-bd83-87ced0167a45",
      "last_delta_id": "4ecd5b50-9bcb-4c3b-9357-700efedda0c7"
    },
    "kernel_info": {
      "name": "python3"
    },
    "selected_hardware_size": "small"
  },
  "nbformat": 4,
  "nbformat_minor": 5
}